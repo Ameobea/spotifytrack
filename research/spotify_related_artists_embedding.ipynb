{
 "cells": [
  {
   "cell_type": "code",
   "execution_count": 1,
   "source": [
    "!sudo apt update\n",
    "!sudo apt -y install build-essential\n",
    "!pip install networkx node2vec python-Levenshtein sklearn"
   ],
   "outputs": [
    {
     "output_type": "stream",
     "name": "stdout",
     "text": [
      "Get:1 http://security.ubuntu.com/ubuntu focal-security InRelease [114 kB]\n",
      "Get:2 http://archive.ubuntu.com/ubuntu focal InRelease [265 kB]\n",
      "Get:3 http://security.ubuntu.com/ubuntu focal-security/multiverse amd64 Packages [30.1 kB]\n",
      "Get:4 http://security.ubuntu.com/ubuntu focal-security/restricted amd64 Packages [488 kB]\n",
      "Get:5 http://security.ubuntu.com/ubuntu focal-security/universe amd64 Packages [790 kB]\n",
      "Get:6 http://security.ubuntu.com/ubuntu focal-security/main amd64 Packages [1,037 kB]\n",
      "Get:7 http://archive.ubuntu.com/ubuntu focal-updates InRelease [114 kB]\n",
      "Get:8 http://archive.ubuntu.com/ubuntu focal-backports InRelease [101 kB]\n",
      "Get:9 http://archive.ubuntu.com/ubuntu focal/main amd64 Packages [1,275 kB]\n",
      "Get:10 http://archive.ubuntu.com/ubuntu focal/multiverse amd64 Packages [177 kB]\n",
      "Get:11 http://archive.ubuntu.com/ubuntu focal/universe amd64 Packages [11.3 MB]\n",
      "Get:12 http://archive.ubuntu.com/ubuntu focal/restricted amd64 Packages [33.4 kB]\n",
      "Get:13 http://archive.ubuntu.com/ubuntu focal-updates/restricted amd64 Packages [535 kB]\n",
      "Get:14 http://archive.ubuntu.com/ubuntu focal-updates/universe amd64 Packages [1,068 kB]\n",
      "Get:15 http://archive.ubuntu.com/ubuntu focal-updates/main amd64 Packages [1,479 kB]\n",
      "Get:16 http://archive.ubuntu.com/ubuntu focal-updates/multiverse amd64 Packages [33.3 kB]\n",
      "Get:17 http://archive.ubuntu.com/ubuntu focal-backports/universe amd64 Packages [6,324 B]\n",
      "Get:18 http://archive.ubuntu.com/ubuntu focal-backports/main amd64 Packages [2,668 B]\n",
      "Fetched 18.9 MB in 3s (5,851 kB/s)\n",
      "\n",
      "\n",
      "\n",
      "28 packages can be upgraded. Run 'apt list --upgradable' to see them.\n",
      "\n",
      "\n",
      "\n",
      "The following additional packages will be installed:\n",
      "  binutils binutils-common binutils-x86-64-linux-gnu cpp cpp-9 dirmngr\n",
      "  dpkg-dev fakeroot g++ g++-9 gcc gcc-9 gcc-9-base gnupg gnupg-l10n\n",
      "  gnupg-utils gpg gpg-agent gpg-wks-client gpg-wks-server gpgconf gpgsm\n",
      "  libalgorithm-diff-perl libalgorithm-diff-xs-perl libalgorithm-merge-perl\n",
      "  libasan5 libassuan0 libatomic1 libbinutils libc-dev-bin libc6-dev libcc1-0\n",
      "  libcrypt-dev libctf-nobfd0 libctf0 libdpkg-perl libfakeroot\n",
      "  libfile-fcntllock-perl libgcc-9-dev libisl22 libitm1 libksba8\n",
      "  liblocale-gettext-perl liblsan0 libmpc3 libnpth0 libquadmath0\n",
      "  libstdc++-9-dev libtsan0 libubsan1 linux-libc-dev make manpages manpages-dev\n",
      "  patch pinentry-curses xz-utils\n",
      "Suggested packages:\n",
      "  binutils-doc cpp-doc gcc-9-locales dbus-user-session libpam-systemd\n",
      "  pinentry-gnome3 tor debian-keyring g++-multilib g++-9-multilib gcc-9-doc\n",
      "  gcc-multilib autoconf automake libtool flex bison gdb gcc-doc gcc-9-multilib\n",
      "  parcimonie xloadimage scdaemon glibc-doc bzr libstdc++-9-doc make-doc\n",
      "  man-browser ed diffutils-doc pinentry-doc\n",
      "The following NEW packages will be installed:\n",
      "  binutils binutils-common binutils-x86-64-linux-gnu build-essential cpp cpp-9\n",
      "  dirmngr dpkg-dev fakeroot g++ g++-9 gcc gcc-9 gcc-9-base gnupg gnupg-l10n\n",
      "  gnupg-utils gpg gpg-agent gpg-wks-client gpg-wks-server gpgconf gpgsm\n",
      "  libalgorithm-diff-perl libalgorithm-diff-xs-perl libalgorithm-merge-perl\n",
      "  libasan5 libassuan0 libatomic1 libbinutils libc-dev-bin libc6-dev libcc1-0\n",
      "  libcrypt-dev libctf-nobfd0 libctf0 libdpkg-perl libfakeroot\n",
      "  libfile-fcntllock-perl libgcc-9-dev libisl22 libitm1 libksba8\n",
      "  liblocale-gettext-perl liblsan0 libmpc3 libnpth0 libquadmath0\n",
      "  libstdc++-9-dev libtsan0 libubsan1 linux-libc-dev make manpages manpages-dev\n",
      "  patch pinentry-curses xz-utils\n",
      "0 upgraded, 58 newly installed, 0 to remove and 28 not upgraded.\n",
      "Need to get 47.0 MB of archives.\n",
      "After this operation, 198 MB of additional disk space will be used.\n",
      "Get:1 http://archive.ubuntu.com/ubuntu focal/main amd64 liblocale-gettext-perl amd64 1.07-4 [17.1 kB]\n",
      "Get:2 http://archive.ubuntu.com/ubuntu focal-updates/main amd64 xz-utils amd64 5.2.4-1ubuntu1 [82.5 kB]\n",
      "Get:3 http://archive.ubuntu.com/ubuntu focal/main amd64 manpages all 5.05-1 [1,314 kB]\n",
      "Get:4 http://archive.ubuntu.com/ubuntu focal-updates/main amd64 binutils-common amd64 2.34-6ubuntu1.1 [207 kB]\n",
      "Get:5 http://archive.ubuntu.com/ubuntu focal-updates/main amd64 libbinutils amd64 2.34-6ubuntu1.1 [475 kB]\n",
      "Get:6 http://archive.ubuntu.com/ubuntu focal-updates/main amd64 libctf-nobfd0 amd64 2.34-6ubuntu1.1 [47.1 kB]\n",
      "Get:7 http://archive.ubuntu.com/ubuntu focal-updates/main amd64 libctf0 amd64 2.34-6ubuntu1.1 [46.6 kB]\n",
      "Get:8 http://archive.ubuntu.com/ubuntu focal-updates/main amd64 binutils-x86-64-linux-gnu amd64 2.34-6ubuntu1.1 [1,613 kB]\n",
      "Get:9 http://archive.ubuntu.com/ubuntu focal-updates/main amd64 binutils amd64 2.34-6ubuntu1.1 [3,380 B]\n",
      "Get:10 http://archive.ubuntu.com/ubuntu focal-updates/main amd64 libc-dev-bin amd64 2.31-0ubuntu9.2 [71.8 kB]\n",
      "Get:11 http://archive.ubuntu.com/ubuntu focal-updates/main amd64 linux-libc-dev amd64 5.4.0-81.91 [1,129 kB]\n",
      "Get:12 http://archive.ubuntu.com/ubuntu focal/main amd64 libcrypt-dev amd64 1:4.4.10-10ubuntu4 [104 kB]\n",
      "Get:13 http://archive.ubuntu.com/ubuntu focal-updates/main amd64 libc6-dev amd64 2.31-0ubuntu9.2 [2,520 kB]\n",
      "Get:14 http://archive.ubuntu.com/ubuntu focal-updates/main amd64 gcc-9-base amd64 9.3.0-17ubuntu1~20.04 [19.1 kB]\n",
      "Get:15 http://archive.ubuntu.com/ubuntu focal/main amd64 libisl22 amd64 0.22.1-1 [592 kB]\n",
      "Get:16 http://archive.ubuntu.com/ubuntu focal/main amd64 libmpc3 amd64 1.1.0-1 [40.8 kB]\n",
      "Get:17 http://archive.ubuntu.com/ubuntu focal-updates/main amd64 cpp-9 amd64 9.3.0-17ubuntu1~20.04 [7,494 kB]\n",
      "Get:18 http://archive.ubuntu.com/ubuntu focal/main amd64 cpp amd64 4:9.3.0-1ubuntu2 [27.6 kB]\n",
      "Get:19 http://archive.ubuntu.com/ubuntu focal-updates/main amd64 libcc1-0 amd64 10.3.0-1ubuntu1~20.04 [48.8 kB]\n",
      "Get:20 http://archive.ubuntu.com/ubuntu focal-updates/main amd64 libitm1 amd64 10.3.0-1ubuntu1~20.04 [26.2 kB]\n",
      "Get:21 http://archive.ubuntu.com/ubuntu focal-updates/main amd64 libatomic1 amd64 10.3.0-1ubuntu1~20.04 [9,284 B]\n",
      "Get:22 http://archive.ubuntu.com/ubuntu focal-updates/main amd64 libasan5 amd64 9.3.0-17ubuntu1~20.04 [394 kB]\n",
      "Get:23 http://archive.ubuntu.com/ubuntu focal-updates/main amd64 liblsan0 amd64 10.3.0-1ubuntu1~20.04 [835 kB]\n",
      "Get:24 http://archive.ubuntu.com/ubuntu focal-updates/main amd64 libtsan0 amd64 10.3.0-1ubuntu1~20.04 [2,009 kB]\n",
      "Get:25 http://archive.ubuntu.com/ubuntu focal-updates/main amd64 libubsan1 amd64 10.3.0-1ubuntu1~20.04 [784 kB]\n",
      "Get:26 http://archive.ubuntu.com/ubuntu focal-updates/main amd64 libquadmath0 amd64 10.3.0-1ubuntu1~20.04 [146 kB]\n",
      "Get:27 http://archive.ubuntu.com/ubuntu focal-updates/main amd64 libgcc-9-dev amd64 9.3.0-17ubuntu1~20.04 [2,360 kB]\n",
      "Get:28 http://archive.ubuntu.com/ubuntu focal-updates/main amd64 gcc-9 amd64 9.3.0-17ubuntu1~20.04 [8,241 kB]\n",
      "Get:29 http://archive.ubuntu.com/ubuntu focal/main amd64 gcc amd64 4:9.3.0-1ubuntu2 [5,208 B]\n",
      "Get:30 http://archive.ubuntu.com/ubuntu focal-updates/main amd64 libstdc++-9-dev amd64 9.3.0-17ubuntu1~20.04 [1,714 kB]\n",
      "Get:31 http://archive.ubuntu.com/ubuntu focal-updates/main amd64 g++-9 amd64 9.3.0-17ubuntu1~20.04 [8,405 kB]\n",
      "Get:32 http://archive.ubuntu.com/ubuntu focal/main amd64 g++ amd64 4:9.3.0-1ubuntu2 [1,604 B]\n",
      "Get:33 http://archive.ubuntu.com/ubuntu focal/main amd64 make amd64 4.2.1-1.2 [162 kB]\n",
      "Get:34 http://archive.ubuntu.com/ubuntu focal/main amd64 libdpkg-perl all 1.19.7ubuntu3 [230 kB]\n",
      "Get:35 http://archive.ubuntu.com/ubuntu focal/main amd64 patch amd64 2.7.6-6 [105 kB]\n",
      "Get:36 http://archive.ubuntu.com/ubuntu focal/main amd64 dpkg-dev all 1.19.7ubuntu3 [679 kB]\n",
      "Get:37 http://archive.ubuntu.com/ubuntu focal-updates/main amd64 build-essential amd64 12.8ubuntu1.1 [4,664 B]\n",
      "Get:38 http://archive.ubuntu.com/ubuntu focal/main amd64 libassuan0 amd64 2.5.3-7ubuntu2 [35.7 kB]\n",
      "Get:39 http://archive.ubuntu.com/ubuntu focal-updates/main amd64 gpgconf amd64 2.2.19-3ubuntu2.1 [124 kB]\n",
      "Get:40 http://archive.ubuntu.com/ubuntu focal/main amd64 libksba8 amd64 1.3.5-2 [92.6 kB]\n",
      "Get:41 http://archive.ubuntu.com/ubuntu focal/main amd64 libnpth0 amd64 1.6-1 [7,736 B]\n",
      "Get:42 http://archive.ubuntu.com/ubuntu focal-updates/main amd64 dirmngr amd64 2.2.19-3ubuntu2.1 [329 kB]\n",
      "Get:43 http://archive.ubuntu.com/ubuntu focal/main amd64 libfakeroot amd64 1.24-1 [25.7 kB]\n",
      "Get:44 http://archive.ubuntu.com/ubuntu focal/main amd64 fakeroot amd64 1.24-1 [62.6 kB]\n",
      "Get:45 http://archive.ubuntu.com/ubuntu focal-updates/main amd64 gnupg-l10n all 2.2.19-3ubuntu2.1 [51.7 kB]\n",
      "Get:46 http://archive.ubuntu.com/ubuntu focal-updates/main amd64 gnupg-utils amd64 2.2.19-3ubuntu2.1 [480 kB]\n",
      "Get:47 http://archive.ubuntu.com/ubuntu focal-updates/main amd64 gpg amd64 2.2.19-3ubuntu2.1 [483 kB]\n",
      "Get:48 http://archive.ubuntu.com/ubuntu focal/main amd64 pinentry-curses amd64 1.1.0-3build1 [36.3 kB]\n",
      "Get:49 http://archive.ubuntu.com/ubuntu focal-updates/main amd64 gpg-agent amd64 2.2.19-3ubuntu2.1 [232 kB]\n",
      "Get:50 http://archive.ubuntu.com/ubuntu focal-updates/main amd64 gpg-wks-client amd64 2.2.19-3ubuntu2.1 [97.6 kB]\n",
      "Get:51 http://archive.ubuntu.com/ubuntu focal-updates/main amd64 gpg-wks-server amd64 2.2.19-3ubuntu2.1 [90.3 kB]\n",
      "Get:52 http://archive.ubuntu.com/ubuntu focal-updates/main amd64 gpgsm amd64 2.2.19-3ubuntu2.1 [217 kB]\n",
      "Get:53 http://archive.ubuntu.com/ubuntu focal-updates/main amd64 gnupg all 2.2.19-3ubuntu2.1 [259 kB]\n",
      "Get:54 http://archive.ubuntu.com/ubuntu focal/main amd64 libalgorithm-diff-perl all 1.19.03-2 [46.6 kB]\n",
      "Get:55 http://archive.ubuntu.com/ubuntu focal/main amd64 libalgorithm-diff-xs-perl amd64 0.04-6 [11.3 kB]\n",
      "Get:56 http://archive.ubuntu.com/ubuntu focal/main amd64 libalgorithm-merge-perl all 0.08-3 [12.0 kB]\n",
      "Get:57 http://archive.ubuntu.com/ubuntu focal/main amd64 libfile-fcntllock-perl amd64 0.22-3build4 [33.1 kB]\n",
      "Get:58 http://archive.ubuntu.com/ubuntu focal/main amd64 manpages-dev all 5.05-1 [2,266 kB]\n",
      "Fetched 47.0 MB in 5s (10.1 MB/s)\n",
      "debconf: delaying package configuration, since apt-utils is not installed\n",
      "\n",
      "\u001b7\u001b[0;23r\u001b8\u001b[1ASelecting previously unselected package liblocale-gettext-perl.\n",
      "(Reading database ... 58403 files and directories currently installed.)\n",
      "Preparing to unpack .../00-liblocale-gettext-perl_1.07-4_amd64.deb ...\n",
      "\u001b7\u001b[24;0f\u001b[42m\u001b[30mProgress: [  0%]\u001b[49m\u001b[39m [..........................................................] \u001b8Unpacking liblocale-gettext-perl (1.07-4) ...\n",
      "Selecting previously unselected package xz-utils.\n",
      "Preparing to unpack .../01-xz-utils_5.2.4-1ubuntu1_amd64.deb ...\n",
      "\u001b7\u001b[24;0f\u001b[42m\u001b[30mProgress: [  1%]\u001b[49m\u001b[39m [..........................................................] \u001b8Unpacking xz-utils (5.2.4-1ubuntu1) ...\n",
      "Selecting previously unselected package manpages.\n",
      "Preparing to unpack .../02-manpages_5.05-1_all.deb ...\n",
      "\u001b7\u001b[24;0f\u001b[42m\u001b[30mProgress: [  2%]\u001b[49m\u001b[39m [#.........................................................] \u001b8Unpacking manpages (5.05-1) ...\n",
      "Selecting previously unselected package binutils-common:amd64.\n",
      "Preparing to unpack .../03-binutils-common_2.34-6ubuntu1.1_amd64.deb ...\n",
      "\u001b7\u001b[24;0f\u001b[42m\u001b[30mProgress: [  3%]\u001b[49m\u001b[39m [#.........................................................] \u001b8Unpacking binutils-common:amd64 (2.34-6ubuntu1.1) ...\n",
      "Selecting previously unselected package libbinutils:amd64.\n",
      "Preparing to unpack .../04-libbinutils_2.34-6ubuntu1.1_amd64.deb ...\n",
      "Unpacking libbinutils:amd64 (2.34-6ubuntu1.1) ...\n",
      "\u001b7\u001b[24;0f\u001b[42m\u001b[30mProgress: [  4%]\u001b[49m\u001b[39m [##........................................................] \u001b8Selecting previously unselected package libctf-nobfd0:amd64.\n",
      "Preparing to unpack .../05-libctf-nobfd0_2.34-6ubuntu1.1_amd64.deb ...\n",
      "Unpacking libctf-nobfd0:amd64 (2.34-6ubuntu1.1) ...\n",
      "\u001b7\u001b[24;0f\u001b[42m\u001b[30mProgress: [  5%]\u001b[49m\u001b[39m [##........................................................] \u001b8Selecting previously unselected package libctf0:amd64.\n",
      "Preparing to unpack .../06-libctf0_2.34-6ubuntu1.1_amd64.deb ...\n",
      "Unpacking libctf0:amd64 (2.34-6ubuntu1.1) ...\n",
      "\u001b7\u001b[24;0f\u001b[42m\u001b[30mProgress: [  6%]\u001b[49m\u001b[39m [###.......................................................] \u001b8Selecting previously unselected package binutils-x86-64-linux-gnu.\n",
      "Preparing to unpack .../07-binutils-x86-64-linux-gnu_2.34-6ubuntu1.1_amd64.deb ...\n",
      "Unpacking binutils-x86-64-linux-gnu (2.34-6ubuntu1.1) ...\n",
      "Selecting previously unselected package binutils.\n",
      "Preparing to unpack .../08-binutils_2.34-6ubuntu1.1_amd64.deb ...\n",
      "\u001b7\u001b[24;0f\u001b[42m\u001b[30mProgress: [  7%]\u001b[49m\u001b[39m [####......................................................] \u001b8Unpacking binutils (2.34-6ubuntu1.1) ...\n",
      "Selecting previously unselected package libc-dev-bin.\n",
      "Preparing to unpack .../09-libc-dev-bin_2.31-0ubuntu9.2_amd64.deb ...\n",
      "\u001b7\u001b[24;0f\u001b[42m\u001b[30mProgress: [  8%]\u001b[49m\u001b[39m [####......................................................] \u001b8Unpacking libc-dev-bin (2.31-0ubuntu9.2) ...\n",
      "Selecting previously unselected package linux-libc-dev:amd64.\n",
      "Preparing to unpack .../10-linux-libc-dev_5.4.0-81.91_amd64.deb ...\n",
      "\u001b7\u001b[24;0f\u001b[42m\u001b[30mProgress: [  9%]\u001b[49m\u001b[39m [#####.....................................................] \u001b8Unpacking linux-libc-dev:amd64 (5.4.0-81.91) ...\n",
      "Selecting previously unselected package libcrypt-dev:amd64.\n",
      "Preparing to unpack .../11-libcrypt-dev_1%3a4.4.10-10ubuntu4_amd64.deb ...\n",
      "Unpacking libcrypt-dev:amd64 (1:4.4.10-10ubuntu4) ...\n",
      "\u001b7\u001b[24;0f\u001b[42m\u001b[30mProgress: [ 10%]\u001b[49m\u001b[39m [#####.....................................................] \u001b8Selecting previously unselected package libc6-dev:amd64.\n",
      "Preparing to unpack .../12-libc6-dev_2.31-0ubuntu9.2_amd64.deb ...\n",
      "Unpacking libc6-dev:amd64 (2.31-0ubuntu9.2) ...\n",
      "\u001b7\u001b[24;0f\u001b[42m\u001b[30mProgress: [ 11%]\u001b[49m\u001b[39m [######....................................................] \u001b8Selecting previously unselected package gcc-9-base:amd64.\n",
      "Preparing to unpack .../13-gcc-9-base_9.3.0-17ubuntu1~20.04_amd64.deb ...\n",
      "Unpacking gcc-9-base:amd64 (9.3.0-17ubuntu1~20.04) ...\n",
      "\u001b7\u001b[24;0f\u001b[42m\u001b[30mProgress: [ 12%]\u001b[49m\u001b[39m [######....................................................] \u001b8Selecting previously unselected package libisl22:amd64.\n",
      "Preparing to unpack .../14-libisl22_0.22.1-1_amd64.deb ...\n",
      "Unpacking libisl22:amd64 (0.22.1-1) ...\n",
      "Selecting previously unselected package libmpc3:amd64.\n",
      "Preparing to unpack .../15-libmpc3_1.1.0-1_amd64.deb ...\n",
      "\u001b7\u001b[24;0f\u001b[42m\u001b[30mProgress: [ 13%]\u001b[49m\u001b[39m [#######...................................................] \u001b8Unpacking libmpc3:amd64 (1.1.0-1) ...\n",
      "Selecting previously unselected package cpp-9.\n",
      "Preparing to unpack .../16-cpp-9_9.3.0-17ubuntu1~20.04_amd64.deb ...\n",
      "\u001b7\u001b[24;0f\u001b[42m\u001b[30mProgress: [ 14%]\u001b[49m\u001b[39m [########..................................................] \u001b8Unpacking cpp-9 (9.3.0-17ubuntu1~20.04) ...\n",
      "Selecting previously unselected package cpp.\n",
      "Preparing to unpack .../17-cpp_4%3a9.3.0-1ubuntu2_amd64.deb ...\n",
      "\u001b7\u001b[24;0f\u001b[42m\u001b[30mProgress: [ 15%]\u001b[49m\u001b[39m [########..................................................] \u001b8Unpacking cpp (4:9.3.0-1ubuntu2) ...\n",
      "Selecting previously unselected package libcc1-0:amd64.\n",
      "Preparing to unpack .../18-libcc1-0_10.3.0-1ubuntu1~20.04_amd64.deb ...\n",
      "Unpacking libcc1-0:amd64 (10.3.0-1ubuntu1~20.04) ...\n",
      "\u001b7\u001b[24;0f\u001b[42m\u001b[30mProgress: [ 16%]\u001b[49m\u001b[39m [#########.................................................] \u001b8Selecting previously unselected package libitm1:amd64.\n",
      "Preparing to unpack .../19-libitm1_10.3.0-1ubuntu1~20.04_amd64.deb ...\n",
      "Unpacking libitm1:amd64 (10.3.0-1ubuntu1~20.04) ...\n",
      "\u001b7\u001b[24;0f\u001b[42m\u001b[30mProgress: [ 17%]\u001b[49m\u001b[39m [#########.................................................] \u001b8Selecting previously unselected package libatomic1:amd64.\n",
      "Preparing to unpack .../20-libatomic1_10.3.0-1ubuntu1~20.04_amd64.deb ...\n",
      "Unpacking libatomic1:amd64 (10.3.0-1ubuntu1~20.04) ...\n",
      "\u001b7\u001b[24;0f\u001b[42m\u001b[30mProgress: [ 18%]\u001b[49m\u001b[39m [##########................................................] \u001b8Selecting previously unselected package libasan5:amd64.\n",
      "Preparing to unpack .../21-libasan5_9.3.0-17ubuntu1~20.04_amd64.deb ...\n",
      "Unpacking libasan5:amd64 (9.3.0-17ubuntu1~20.04) ...\n",
      "Selecting previously unselected package liblsan0:amd64.\n",
      "Preparing to unpack .../22-liblsan0_10.3.0-1ubuntu1~20.04_amd64.deb ...\n",
      "\u001b7\u001b[24;0f\u001b[42m\u001b[30mProgress: [ 19%]\u001b[49m\u001b[39m [###########...............................................] \u001b8Unpacking liblsan0:amd64 (10.3.0-1ubuntu1~20.04) ...\n",
      "Selecting previously unselected package libtsan0:amd64.\n",
      "Preparing to unpack .../23-libtsan0_10.3.0-1ubuntu1~20.04_amd64.deb ...\n",
      "\u001b7\u001b[24;0f\u001b[42m\u001b[30mProgress: [ 20%]\u001b[49m\u001b[39m [###########...............................................] \u001b8Unpacking libtsan0:amd64 (10.3.0-1ubuntu1~20.04) ...\n",
      "Selecting previously unselected package libubsan1:amd64.\n",
      "Preparing to unpack .../24-libubsan1_10.3.0-1ubuntu1~20.04_amd64.deb ...\n",
      "\u001b7\u001b[24;0f\u001b[42m\u001b[30mProgress: [ 21%]\u001b[49m\u001b[39m [############..............................................] \u001b8Unpacking libubsan1:amd64 (10.3.0-1ubuntu1~20.04) ...\n",
      "Selecting previously unselected package libquadmath0:amd64.\n",
      "Preparing to unpack .../25-libquadmath0_10.3.0-1ubuntu1~20.04_amd64.deb ...\n",
      "Unpacking libquadmath0:amd64 (10.3.0-1ubuntu1~20.04) ...\n",
      "\u001b7\u001b[24;0f\u001b[42m\u001b[30mProgress: [ 22%]\u001b[49m\u001b[39m [############..............................................] \u001b8Selecting previously unselected package libgcc-9-dev:amd64.\n",
      "Preparing to unpack .../26-libgcc-9-dev_9.3.0-17ubuntu1~20.04_amd64.deb ...\n",
      "Unpacking libgcc-9-dev:amd64 (9.3.0-17ubuntu1~20.04) ...\n",
      "\u001b7\u001b[24;0f\u001b[42m\u001b[30mProgress: [ 23%]\u001b[49m\u001b[39m [#############.............................................] \u001b8Selecting previously unselected package gcc-9.\n",
      "Preparing to unpack .../27-gcc-9_9.3.0-17ubuntu1~20.04_amd64.deb ...\n",
      "Unpacking gcc-9 (9.3.0-17ubuntu1~20.04) ...\n",
      "\u001b7\u001b[24;0f\u001b[42m\u001b[30mProgress: [ 24%]\u001b[49m\u001b[39m [#############.............................................] \u001b8Selecting previously unselected package gcc.\n",
      "Preparing to unpack .../28-gcc_4%3a9.3.0-1ubuntu2_amd64.deb ...\n",
      "Unpacking gcc (4:9.3.0-1ubuntu2) ...\n",
      "Selecting previously unselected package libstdc++-9-dev:amd64.\n",
      "Preparing to unpack .../29-libstdc++-9-dev_9.3.0-17ubuntu1~20.04_amd64.deb ...\n",
      "\u001b7\u001b[24;0f\u001b[42m\u001b[30mProgress: [ 25%]\u001b[49m\u001b[39m [##############............................................] \u001b8Unpacking libstdc++-9-dev:amd64 (9.3.0-17ubuntu1~20.04) ...\n",
      "Selecting previously unselected package g++-9.\n",
      "Preparing to unpack .../30-g++-9_9.3.0-17ubuntu1~20.04_amd64.deb ...\n",
      "\u001b7\u001b[24;0f\u001b[42m\u001b[30mProgress: [ 26%]\u001b[49m\u001b[39m [###############...........................................] \u001b8Unpacking g++-9 (9.3.0-17ubuntu1~20.04) ...\n",
      "Selecting previously unselected package g++.\n",
      "Preparing to unpack .../31-g++_4%3a9.3.0-1ubuntu2_amd64.deb ...\n",
      "\u001b7\u001b[24;0f\u001b[42m\u001b[30mProgress: [ 27%]\u001b[49m\u001b[39m [###############...........................................] \u001b8Unpacking g++ (4:9.3.0-1ubuntu2) ...\n",
      "Selecting previously unselected package make.\n",
      "Preparing to unpack .../32-make_4.2.1-1.2_amd64.deb ...\n",
      "Unpacking make (4.2.1-1.2) ...\n",
      "\u001b7\u001b[24;0f\u001b[42m\u001b[30mProgress: [ 28%]\u001b[49m\u001b[39m [################..........................................] \u001b8Selecting previously unselected package libdpkg-perl.\n",
      "Preparing to unpack .../33-libdpkg-perl_1.19.7ubuntu3_all.deb ...\n",
      "Unpacking libdpkg-perl (1.19.7ubuntu3) ...\n",
      "\u001b7\u001b[24;0f\u001b[42m\u001b[30mProgress: [ 29%]\u001b[49m\u001b[39m [################..........................................] \u001b8Selecting previously unselected package patch.\n",
      "Preparing to unpack .../34-patch_2.7.6-6_amd64.deb ...\n",
      "Unpacking patch (2.7.6-6) ...\n",
      "\u001b7\u001b[24;0f\u001b[42m\u001b[30mProgress: [ 30%]\u001b[49m\u001b[39m [#################.........................................] \u001b8Selecting previously unselected package dpkg-dev.\n",
      "Preparing to unpack .../35-dpkg-dev_1.19.7ubuntu3_all.deb ...\n",
      "Unpacking dpkg-dev (1.19.7ubuntu3) ...\n",
      "Selecting previously unselected package build-essential.\n",
      "Preparing to unpack .../36-build-essential_12.8ubuntu1.1_amd64.deb ...\n",
      "\u001b7\u001b[24;0f\u001b[42m\u001b[30mProgress: [ 31%]\u001b[49m\u001b[39m [##################........................................] \u001b8Unpacking build-essential (12.8ubuntu1.1) ...\n",
      "Selecting previously unselected package libassuan0:amd64.\n",
      "Preparing to unpack .../37-libassuan0_2.5.3-7ubuntu2_amd64.deb ...\n",
      "\u001b7\u001b[24;0f\u001b[42m\u001b[30mProgress: [ 32%]\u001b[49m\u001b[39m [##################........................................] \u001b8Unpacking libassuan0:amd64 (2.5.3-7ubuntu2) ...\n",
      "Selecting previously unselected package gpgconf.\n",
      "Preparing to unpack .../38-gpgconf_2.2.19-3ubuntu2.1_amd64.deb ...\n",
      "\u001b7\u001b[24;0f\u001b[42m\u001b[30mProgress: [ 33%]\u001b[49m\u001b[39m [###################.......................................] \u001b8Unpacking gpgconf (2.2.19-3ubuntu2.1) ...\n",
      "Selecting previously unselected package libksba8:amd64.\n",
      "Preparing to unpack .../39-libksba8_1.3.5-2_amd64.deb ...\n",
      "Unpacking libksba8:amd64 (1.3.5-2) ...\n",
      "\u001b7\u001b[24;0f\u001b[42m\u001b[30mProgress: [ 34%]\u001b[49m\u001b[39m [###################.......................................] \u001b8Selecting previously unselected package libnpth0:amd64.\n",
      "Preparing to unpack .../40-libnpth0_1.6-1_amd64.deb ...\n",
      "Unpacking libnpth0:amd64 (1.6-1) ...\n",
      "\u001b7\u001b[24;0f\u001b[42m\u001b[30mProgress: [ 35%]\u001b[49m\u001b[39m [####################......................................] \u001b8Selecting previously unselected package dirmngr.\n",
      "Preparing to unpack .../41-dirmngr_2.2.19-3ubuntu2.1_amd64.deb ...\n",
      "Unpacking dirmngr (2.2.19-3ubuntu2.1) ...\n",
      "\u001b7\u001b[24;0f\u001b[42m\u001b[30mProgress: [ 36%]\u001b[49m\u001b[39m [####################......................................] \u001b8Selecting previously unselected package libfakeroot:amd64.\n",
      "Preparing to unpack .../42-libfakeroot_1.24-1_amd64.deb ...\n",
      "Unpacking libfakeroot:amd64 (1.24-1) ...\n",
      "Selecting previously unselected package fakeroot.\n",
      "Preparing to unpack .../43-fakeroot_1.24-1_amd64.deb ...\n",
      "\u001b7\u001b[24;0f\u001b[42m\u001b[30mProgress: [ 37%]\u001b[49m\u001b[39m [#####################.....................................] \u001b8Unpacking fakeroot (1.24-1) ...\n",
      "Selecting previously unselected package gnupg-l10n.\n",
      "Preparing to unpack .../44-gnupg-l10n_2.2.19-3ubuntu2.1_all.deb ...\n",
      "\u001b7\u001b[24;0f\u001b[42m\u001b[30mProgress: [ 38%]\u001b[49m\u001b[39m [######################....................................] \u001b8Unpacking gnupg-l10n (2.2.19-3ubuntu2.1) ...\n",
      "Selecting previously unselected package gnupg-utils.\n",
      "Preparing to unpack .../45-gnupg-utils_2.2.19-3ubuntu2.1_amd64.deb ...\n",
      "\u001b7\u001b[24;0f\u001b[42m\u001b[30mProgress: [ 39%]\u001b[49m\u001b[39m [######################....................................] \u001b8Unpacking gnupg-utils (2.2.19-3ubuntu2.1) ...\n",
      "Selecting previously unselected package gpg.\n",
      "Preparing to unpack .../46-gpg_2.2.19-3ubuntu2.1_amd64.deb ...\n",
      "Unpacking gpg (2.2.19-3ubuntu2.1) ...\n",
      "\u001b7\u001b[24;0f\u001b[42m\u001b[30mProgress: [ 40%]\u001b[49m\u001b[39m [#######################...................................] \u001b8Selecting previously unselected package pinentry-curses.\n",
      "Preparing to unpack .../47-pinentry-curses_1.1.0-3build1_amd64.deb ...\n",
      "Unpacking pinentry-curses (1.1.0-3build1) ...\n",
      "\u001b7\u001b[24;0f\u001b[42m\u001b[30mProgress: [ 41%]\u001b[49m\u001b[39m [#######################...................................] \u001b8Selecting previously unselected package gpg-agent.\n",
      "Preparing to unpack .../48-gpg-agent_2.2.19-3ubuntu2.1_amd64.deb ...\n",
      "Unpacking gpg-agent (2.2.19-3ubuntu2.1) ...\n",
      "\u001b7\u001b[24;0f\u001b[42m\u001b[30mProgress: [ 42%]\u001b[49m\u001b[39m [########################..................................] \u001b8Selecting previously unselected package gpg-wks-client.\n",
      "Preparing to unpack .../49-gpg-wks-client_2.2.19-3ubuntu2.1_amd64.deb ...\n",
      "Unpacking gpg-wks-client (2.2.19-3ubuntu2.1) ...\n",
      "Selecting previously unselected package gpg-wks-server.\n",
      "Preparing to unpack .../50-gpg-wks-server_2.2.19-3ubuntu2.1_amd64.deb ...\n",
      "\u001b7\u001b[24;0f\u001b[42m\u001b[30mProgress: [ 43%]\u001b[49m\u001b[39m [#########################.................................] \u001b8Unpacking gpg-wks-server (2.2.19-3ubuntu2.1) ...\n",
      "Selecting previously unselected package gpgsm.\n",
      "Preparing to unpack .../51-gpgsm_2.2.19-3ubuntu2.1_amd64.deb ...\n",
      "\u001b7\u001b[24;0f\u001b[42m\u001b[30mProgress: [ 44%]\u001b[49m\u001b[39m [#########################.................................] \u001b8Unpacking gpgsm (2.2.19-3ubuntu2.1) ...\n",
      "Selecting previously unselected package gnupg.\n",
      "Preparing to unpack .../52-gnupg_2.2.19-3ubuntu2.1_all.deb ...\n",
      "\u001b7\u001b[24;0f\u001b[42m\u001b[30mProgress: [ 45%]\u001b[49m\u001b[39m [##########################................................] \u001b8Unpacking gnupg (2.2.19-3ubuntu2.1) ...\n",
      "Selecting previously unselected package libalgorithm-diff-perl.\n",
      "Preparing to unpack .../53-libalgorithm-diff-perl_1.19.03-2_all.deb ...\n",
      "Unpacking libalgorithm-diff-perl (1.19.03-2) ...\n",
      "\u001b7\u001b[24;0f\u001b[42m\u001b[30mProgress: [ 46%]\u001b[49m\u001b[39m [##########################................................] \u001b8Selecting previously unselected package libalgorithm-diff-xs-perl.\n",
      "Preparing to unpack .../54-libalgorithm-diff-xs-perl_0.04-6_amd64.deb ...\n",
      "Unpacking libalgorithm-diff-xs-perl (0.04-6) ...\n",
      "\u001b7\u001b[24;0f\u001b[42m\u001b[30mProgress: [ 47%]\u001b[49m\u001b[39m [###########################...............................] \u001b8Selecting previously unselected package libalgorithm-merge-perl.\n",
      "Preparing to unpack .../55-libalgorithm-merge-perl_0.08-3_all.deb ...\n",
      "Unpacking libalgorithm-merge-perl (0.08-3) ...\n",
      "\u001b7\u001b[24;0f\u001b[42m\u001b[30mProgress: [ 48%]\u001b[49m\u001b[39m [###########################...............................] \u001b8Selecting previously unselected package libfile-fcntllock-perl.\n",
      "Preparing to unpack .../56-libfile-fcntllock-perl_0.22-3build4_amd64.deb ...\n",
      "Unpacking libfile-fcntllock-perl (0.22-3build4) ...\n",
      "Selecting previously unselected package manpages-dev.\n",
      "Preparing to unpack .../57-manpages-dev_5.05-1_all.deb ...\n",
      "\u001b7\u001b[24;0f\u001b[42m\u001b[30mProgress: [ 49%]\u001b[49m\u001b[39m [############################..............................] \u001b8Unpacking manpages-dev (5.05-1) ...\n",
      "Setting up libksba8:amd64 (1.3.5-2) ...\n",
      "\u001b7\u001b[24;0f\u001b[42m\u001b[30mProgress: [ 50%]\u001b[49m\u001b[39m [#############################.............................] \u001b8Setting up libfile-fcntllock-perl (0.22-3build4) ...\n",
      "\u001b7\u001b[24;0f\u001b[42m\u001b[30mProgress: [ 51%]\u001b[49m\u001b[39m [#############################.............................] \u001b8Setting up libalgorithm-diff-perl (1.19.03-2) ...\n",
      "\u001b7\u001b[24;0f\u001b[42m\u001b[30mProgress: [ 52%]\u001b[49m\u001b[39m [##############################............................] \u001b8Setting up manpages (5.05-1) ...\n",
      "\u001b7\u001b[24;0f\u001b[42m\u001b[30mProgress: [ 53%]\u001b[49m\u001b[39m [##############################............................] \u001b8Setting up binutils-common:amd64 (2.34-6ubuntu1.1) ...\n",
      "\u001b7\u001b[24;0f\u001b[42m\u001b[30mProgress: [ 54%]\u001b[49m\u001b[39m [###############################...........................] \u001b8Setting up linux-libc-dev:amd64 (5.4.0-81.91) ...\n",
      "Setting up libctf-nobfd0:amd64 (2.34-6ubuntu1.1) ...\n",
      "\u001b7\u001b[24;0f\u001b[42m\u001b[30mProgress: [ 55%]\u001b[49m\u001b[39m [################################..........................] \u001b8Setting up libnpth0:amd64 (1.6-1) ...\n",
      "\u001b7\u001b[24;0f\u001b[42m\u001b[30mProgress: [ 56%]\u001b[49m\u001b[39m [################################..........................] \u001b8Setting up libassuan0:amd64 (2.5.3-7ubuntu2) ...\n",
      "\u001b7\u001b[24;0f\u001b[42m\u001b[30mProgress: [ 57%]\u001b[49m\u001b[39m [#################################.........................] \u001b8Setting up libfakeroot:amd64 (1.24-1) ...\n",
      "\u001b7\u001b[24;0f\u001b[42m\u001b[30mProgress: [ 58%]\u001b[49m\u001b[39m [#################################.........................] \u001b8Setting up fakeroot (1.24-1) ...\n",
      "update-alternatives: using /usr/bin/fakeroot-sysv to provide /usr/bin/fakeroot (fakeroot) in auto mode\n",
      "update-alternatives: warning: skip creation of /usr/share/man/man1/fakeroot.1.gz because associated file /usr/share/man/man1/fakeroot-sysv.1.gz (of link group fakeroot) doesn't exist\n",
      "update-alternatives: warning: skip creation of /usr/share/man/man1/faked.1.gz because associated file /usr/share/man/man1/faked-sysv.1.gz (of link group fakeroot) doesn't exist\n",
      "update-alternatives: warning: skip creation of /usr/share/man/es/man1/fakeroot.1.gz because associated file /usr/share/man/es/man1/fakeroot-sysv.1.gz (of link group fakeroot) doesn't exist\n",
      "update-alternatives: warning: skip creation of /usr/share/man/es/man1/faked.1.gz because associated file /usr/share/man/es/man1/faked-sysv.1.gz (of link group fakeroot) doesn't exist\n",
      "update-alternatives: warning: skip creation of /usr/share/man/fr/man1/fakeroot.1.gz because associated file /usr/share/man/fr/man1/fakeroot-sysv.1.gz (of link group fakeroot) doesn't exist\n",
      "update-alternatives: warning: skip creation of /usr/share/man/fr/man1/faked.1.gz because associated file /usr/share/man/fr/man1/faked-sysv.1.gz (of link group fakeroot) doesn't exist\n",
      "update-alternatives: warning: skip creation of /usr/share/man/sv/man1/fakeroot.1.gz because associated file /usr/share/man/sv/man1/fakeroot-sysv.1.gz (of link group fakeroot) doesn't exist\n",
      "update-alternatives: warning: skip creation of /usr/share/man/sv/man1/faked.1.gz because associated file /usr/share/man/sv/man1/faked-sysv.1.gz (of link group fakeroot) doesn't exist\n",
      "\u001b7\u001b[24;0f\u001b[42m\u001b[30mProgress: [ 59%]\u001b[49m\u001b[39m [##################################........................] \u001b8Setting up make (4.2.1-1.2) ...\n",
      "\u001b7\u001b[24;0f\u001b[42m\u001b[30mProgress: [ 60%]\u001b[49m\u001b[39m [##################################........................] \u001b8Setting up gnupg-l10n (2.2.19-3ubuntu2.1) ...\n",
      "Setting up xz-utils (5.2.4-1ubuntu1) ...\n",
      "\u001b7\u001b[24;0f\u001b[42m\u001b[30mProgress: [ 61%]\u001b[49m\u001b[39m [###################################.......................] \u001b8update-alternatives: using /usr/bin/xz to provide /usr/bin/lzma (lzma) in auto mode\n",
      "update-alternatives: warning: skip creation of /usr/share/man/man1/lzma.1.gz because associated file /usr/share/man/man1/xz.1.gz (of link group lzma) doesn't exist\n",
      "update-alternatives: warning: skip creation of /usr/share/man/man1/unlzma.1.gz because associated file /usr/share/man/man1/unxz.1.gz (of link group lzma) doesn't exist\n",
      "update-alternatives: warning: skip creation of /usr/share/man/man1/lzcat.1.gz because associated file /usr/share/man/man1/xzcat.1.gz (of link group lzma) doesn't exist\n",
      "update-alternatives: warning: skip creation of /usr/share/man/man1/lzmore.1.gz because associated file /usr/share/man/man1/xzmore.1.gz (of link group lzma) doesn't exist\n",
      "update-alternatives: warning: skip creation of /usr/share/man/man1/lzless.1.gz because associated file /usr/share/man/man1/xzless.1.gz (of link group lzma) doesn't exist\n",
      "update-alternatives: warning: skip creation of /usr/share/man/man1/lzdiff.1.gz because associated file /usr/share/man/man1/xzdiff.1.gz (of link group lzma) doesn't exist\n",
      "update-alternatives: warning: skip creation of /usr/share/man/man1/lzcmp.1.gz because associated file /usr/share/man/man1/xzcmp.1.gz (of link group lzma) doesn't exist\n",
      "update-alternatives: warning: skip creation of /usr/share/man/man1/lzgrep.1.gz because associated file /usr/share/man/man1/xzgrep.1.gz (of link group lzma) doesn't exist\n",
      "update-alternatives: warning: skip creation of /usr/share/man/man1/lzegrep.1.gz because associated file /usr/share/man/man1/xzegrep.1.gz (of link group lzma) doesn't exist\n",
      "update-alternatives: warning: skip creation of /usr/share/man/man1/lzfgrep.1.gz because associated file /usr/share/man/man1/xzfgrep.1.gz (of link group lzma) doesn't exist\n",
      "Setting up libquadmath0:amd64 (10.3.0-1ubuntu1~20.04) ...\n",
      "\u001b7\u001b[24;0f\u001b[42m\u001b[30mProgress: [ 62%]\u001b[49m\u001b[39m [####################################......................] \u001b8Setting up libmpc3:amd64 (1.1.0-1) ...\n",
      "\u001b7\u001b[24;0f\u001b[42m\u001b[30mProgress: [ 63%]\u001b[49m\u001b[39m [####################################......................] \u001b8Setting up libatomic1:amd64 (10.3.0-1ubuntu1~20.04) ...\n",
      "\u001b7\u001b[24;0f\u001b[42m\u001b[30mProgress: [ 64%]\u001b[49m\u001b[39m [#####################################.....................] \u001b8Setting up patch (2.7.6-6) ...\n",
      "\u001b7\u001b[24;0f\u001b[42m\u001b[30mProgress: [ 65%]\u001b[49m\u001b[39m [#####################################.....................] \u001b8Setting up libdpkg-perl (1.19.7ubuntu3) ...\n",
      "\u001b7\u001b[24;0f\u001b[42m\u001b[30mProgress: [ 66%]\u001b[49m\u001b[39m [######################################....................] \u001b8Setting up libubsan1:amd64 (10.3.0-1ubuntu1~20.04) ...\n",
      "Setting up libcrypt-dev:amd64 (1:4.4.10-10ubuntu4) ...\n",
      "\u001b7\u001b[24;0f\u001b[42m\u001b[30mProgress: [ 67%]\u001b[49m\u001b[39m [#######################################...................] \u001b8Setting up gpgconf (2.2.19-3ubuntu2.1) ...\n",
      "\u001b7\u001b[24;0f\u001b[42m\u001b[30mProgress: [ 68%]\u001b[49m\u001b[39m [#######################################...................] \u001b8Setting up libisl22:amd64 (0.22.1-1) ...\n",
      "\u001b7\u001b[24;0f\u001b[42m\u001b[30mProgress: [ 69%]\u001b[49m\u001b[39m [########################################..................] \u001b8Setting up libbinutils:amd64 (2.34-6ubuntu1.1) ...\n",
      "\u001b7\u001b[24;0f\u001b[42m\u001b[30mProgress: [ 70%]\u001b[49m\u001b[39m [########################################..................] \u001b8Setting up libc-dev-bin (2.31-0ubuntu9.2) ...\n",
      "\u001b7\u001b[24;0f\u001b[42m\u001b[30mProgress: [ 71%]\u001b[49m\u001b[39m [#########################################.................] \u001b8Setting up libalgorithm-diff-xs-perl (0.04-6) ...\n",
      "\u001b7\u001b[24;0f\u001b[42m\u001b[30mProgress: [ 72%]\u001b[49m\u001b[39m [#########################################.................] \u001b8Setting up libcc1-0:amd64 (10.3.0-1ubuntu1~20.04) ...\n",
      "Setting up liblocale-gettext-perl (1.07-4) ...\n",
      "\u001b7\u001b[24;0f\u001b[42m\u001b[30mProgress: [ 73%]\u001b[49m\u001b[39m [##########################################................] \u001b8Setting up gpg (2.2.19-3ubuntu2.1) ...\n",
      "\u001b7\u001b[24;0f\u001b[42m\u001b[30mProgress: [ 74%]\u001b[49m\u001b[39m [###########################################...............] \u001b8Setting up liblsan0:amd64 (10.3.0-1ubuntu1~20.04) ...\n",
      "\u001b7\u001b[24;0f\u001b[42m\u001b[30mProgress: [ 75%]\u001b[49m\u001b[39m [###########################################...............] \u001b8Setting up libitm1:amd64 (10.3.0-1ubuntu1~20.04) ...\n",
      "\u001b7\u001b[24;0f\u001b[42m\u001b[30mProgress: [ 76%]\u001b[49m\u001b[39m [############################################..............] \u001b8Setting up gcc-9-base:amd64 (9.3.0-17ubuntu1~20.04) ...\n",
      "\u001b7\u001b[24;0f\u001b[42m\u001b[30mProgress: [ 77%]\u001b[49m\u001b[39m [############################################..............] \u001b8Setting up libalgorithm-merge-perl (0.08-3) ...\n",
      "\u001b7\u001b[24;0f\u001b[42m\u001b[30mProgress: [ 78%]\u001b[49m\u001b[39m [#############################################.............] \u001b8Setting up gnupg-utils (2.2.19-3ubuntu2.1) ...\n",
      "Setting up libtsan0:amd64 (10.3.0-1ubuntu1~20.04) ...\n",
      "\u001b7\u001b[24;0f\u001b[42m\u001b[30mProgress: [ 79%]\u001b[49m\u001b[39m [##############################################............] \u001b8Setting up libctf0:amd64 (2.34-6ubuntu1.1) ...\n",
      "\u001b7\u001b[24;0f\u001b[42m\u001b[30mProgress: [ 80%]\u001b[49m\u001b[39m [##############################################............] \u001b8Setting up pinentry-curses (1.1.0-3build1) ...\n",
      "\u001b7\u001b[24;0f\u001b[42m\u001b[30mProgress: [ 81%]\u001b[49m\u001b[39m [###############################################...........] \u001b8Setting up manpages-dev (5.05-1) ...\n",
      "\u001b7\u001b[24;0f\u001b[42m\u001b[30mProgress: [ 82%]\u001b[49m\u001b[39m [###############################################...........] \u001b8Setting up gpg-agent (2.2.19-3ubuntu2.1) ...\n",
      "\u001b7\u001b[24;0f\u001b[42m\u001b[30mProgress: [ 83%]\u001b[49m\u001b[39m [################################################..........] \u001b8Setting up gpgsm (2.2.19-3ubuntu2.1) ...\n",
      "\u001b7\u001b[24;0f\u001b[42m\u001b[30mProgress: [ 84%]\u001b[49m\u001b[39m [################################################..........] \u001b8Setting up dirmngr (2.2.19-3ubuntu2.1) ...\n",
      "Setting up libasan5:amd64 (9.3.0-17ubuntu1~20.04) ...\n",
      "\u001b7\u001b[24;0f\u001b[42m\u001b[30mProgress: [ 85%]\u001b[49m\u001b[39m [#################################################.........] \u001b8Setting up gpg-wks-server (2.2.19-3ubuntu2.1) ...\n",
      "\u001b7\u001b[24;0f\u001b[42m\u001b[30mProgress: [ 86%]\u001b[49m\u001b[39m [##################################################........] \u001b8Setting up cpp-9 (9.3.0-17ubuntu1~20.04) ...\n",
      "\u001b7\u001b[24;0f\u001b[42m\u001b[30mProgress: [ 87%]\u001b[49m\u001b[39m [##################################################........] \u001b8Setting up libc6-dev:amd64 (2.31-0ubuntu9.2) ...\n",
      "\u001b7\u001b[24;0f\u001b[42m\u001b[30mProgress: [ 88%]\u001b[49m\u001b[39m [###################################################.......] \u001b8Setting up binutils-x86-64-linux-gnu (2.34-6ubuntu1.1) ...\n",
      "\u001b7\u001b[24;0f\u001b[42m\u001b[30mProgress: [ 89%]\u001b[49m\u001b[39m [###################################################.......] \u001b8Setting up gpg-wks-client (2.2.19-3ubuntu2.1) ...\n",
      "\u001b7\u001b[24;0f\u001b[42m\u001b[30mProgress: [ 90%]\u001b[49m\u001b[39m [####################################################......] \u001b8Setting up binutils (2.34-6ubuntu1.1) ...\n",
      "Setting up dpkg-dev (1.19.7ubuntu3) ...\n",
      "\u001b7\u001b[24;0f\u001b[42m\u001b[30mProgress: [ 91%]\u001b[49m\u001b[39m [#####################################################.....] \u001b8Setting up libgcc-9-dev:amd64 (9.3.0-17ubuntu1~20.04) ...\n",
      "\u001b7\u001b[24;0f\u001b[42m\u001b[30mProgress: [ 92%]\u001b[49m\u001b[39m [#####################################################.....] \u001b8Setting up cpp (4:9.3.0-1ubuntu2) ...\n",
      "\u001b7\u001b[24;0f\u001b[42m\u001b[30mProgress: [ 93%]\u001b[49m\u001b[39m [######################################################....] \u001b8Setting up gnupg (2.2.19-3ubuntu2.1) ...\n",
      "\u001b7\u001b[24;0f\u001b[42m\u001b[30mProgress: [ 94%]\u001b[49m\u001b[39m [######################################################....] \u001b8Setting up gcc-9 (9.3.0-17ubuntu1~20.04) ...\n",
      "\u001b7\u001b[24;0f\u001b[42m\u001b[30mProgress: [ 95%]\u001b[49m\u001b[39m [#######################################################...] \u001b8Setting up libstdc++-9-dev:amd64 (9.3.0-17ubuntu1~20.04) ...\n",
      "\u001b7\u001b[24;0f\u001b[42m\u001b[30mProgress: [ 96%]\u001b[49m\u001b[39m [#######################################################...] \u001b8Setting up gcc (4:9.3.0-1ubuntu2) ...\n",
      "Setting up g++-9 (9.3.0-17ubuntu1~20.04) ...\n",
      "\u001b7\u001b[24;0f\u001b[42m\u001b[30mProgress: [ 97%]\u001b[49m\u001b[39m [########################################################..] \u001b8Setting up g++ (4:9.3.0-1ubuntu2) ...\n",
      "\u001b7\u001b[24;0f\u001b[42m\u001b[30mProgress: [ 98%]\u001b[49m\u001b[39m [#########################################################.] \u001b8update-alternatives: using /usr/bin/g++ to provide /usr/bin/c++ (c++) in auto mode\n",
      "update-alternatives: warning: skip creation of /usr/share/man/man1/c++.1.gz because associated file /usr/share/man/man1/g++.1.gz (of link group c++) doesn't exist\n",
      "Setting up build-essential (12.8ubuntu1.1) ...\n",
      "\u001b7\u001b[24;0f\u001b[42m\u001b[30mProgress: [ 99%]\u001b[49m\u001b[39m [#########################################################.] \u001b8Processing triggers for libc-bin (2.31-0ubuntu9.2) ...\n",
      "\n",
      "\u001b7\u001b[0;24r\u001b8\u001b[1A\u001b[JRequirement already satisfied: networkx in /opt/conda/lib/python3.9/site-packages (2.5)\n",
      "Collecting node2vec\n",
      "  Downloading node2vec-0.4.3.tar.gz (4.6 kB)\n",
      "Collecting python-Levenshtein\n",
      "  Downloading python-Levenshtein-0.12.2.tar.gz (50 kB)\n",
      "\u001b[K     |████████████████████████████████| 50 kB 3.8 MB/s \n",
      "\u001b[?25hCollecting sklearn\n",
      "  Downloading sklearn-0.0.tar.gz (1.1 kB)\n",
      "Requirement already satisfied: decorator>=4.3.0 in /opt/conda/lib/python3.9/site-packages (from networkx) (5.0.9)\n",
      "Collecting gensim\n",
      "  Downloading gensim-4.1.0-cp39-cp39-manylinux_2_12_x86_64.manylinux2010_x86_64.whl (24.0 MB)\n",
      "\u001b[K     |████████████████████████████████| 24.0 MB 8.3 MB/s \n",
      "\u001b[?25hRequirement already satisfied: numpy in /opt/conda/lib/python3.9/site-packages (from node2vec) (1.21.1)\n",
      "Requirement already satisfied: tqdm in /opt/conda/lib/python3.9/site-packages (from node2vec) (4.61.2)\n",
      "Requirement already satisfied: joblib>=0.13.2 in /opt/conda/lib/python3.9/site-packages (from node2vec) (1.0.1)\n",
      "Requirement already satisfied: setuptools in /opt/conda/lib/python3.9/site-packages (from python-Levenshtein) (49.6.0.post20210108)\n",
      "Requirement already satisfied: scikit-learn in /opt/conda/lib/python3.9/site-packages (from sklearn) (0.24.2)\n",
      "Requirement already satisfied: scipy>=0.18.1 in /opt/conda/lib/python3.9/site-packages (from gensim->node2vec) (1.7.0)\n",
      "Collecting smart-open>=1.8.1\n",
      "  Downloading smart_open-5.2.1-py3-none-any.whl (58 kB)\n",
      "\u001b[K     |████████████████████████████████| 58 kB 19.2 MB/s \n",
      "\u001b[?25hRequirement already satisfied: threadpoolctl>=2.0.0 in /opt/conda/lib/python3.9/site-packages (from scikit-learn->sklearn) (2.2.0)\n",
      "Building wheels for collected packages: node2vec, python-Levenshtein, sklearn\n",
      "  Building wheel for node2vec (setup.py) ... \u001b[?25ldone\n",
      "\u001b[?25h  Created wheel for node2vec: filename=node2vec-0.4.3-py3-none-any.whl size=5981 sha256=e0256b73365853005f44523cebdea503a0dae8fa641aef91a0bdb900ca18c001\n",
      "  Stored in directory: /home/jovyan/.cache/pip/wheels/20/2f/e5/c2c9691c88c44aee0c095430dd21a5347687225aa031bca652\n",
      "  Building wheel for python-Levenshtein (setup.py) ... \u001b[?25ldone\n",
      "\u001b[?25h  Created wheel for python-Levenshtein: filename=python_Levenshtein-0.12.2-cp39-cp39-linux_x86_64.whl size=80034 sha256=ed1b2aded07b69ed2125d3975b4d7c0b7f2fd8db16cf65a8b1e76259016ba40c\n",
      "  Stored in directory: /home/jovyan/.cache/pip/wheels/46/4a/6c/164a1d9dd67c82d208f19d869ad0a517a0c5a6117f608c53e6\n",
      "  Building wheel for sklearn (setup.py) ... \u001b[?25ldone\n",
      "\u001b[?25h  Created wheel for sklearn: filename=sklearn-0.0-py2.py3-none-any.whl size=1316 sha256=8b15e34f4c0f4f5a28a48bf6e258edcedd954256637683abf0d77cf8c6e61c40\n",
      "  Stored in directory: /home/jovyan/.cache/pip/wheels/e4/7b/98/b6466d71b8d738a0c547008b9eb39bf8676d1ff6ca4b22af1c\n",
      "Successfully built node2vec python-Levenshtein sklearn\n",
      "Installing collected packages: smart-open, gensim, sklearn, python-Levenshtein, node2vec\n",
      "Successfully installed gensim-4.1.0 node2vec-0.4.3 python-Levenshtein-0.12.2 sklearn-0.0 smart-open-5.2.1\n"
     ]
    }
   ],
   "metadata": {
    "colab": {
     "base_uri": "https://localhost:8080/"
    },
    "id": "fBRKksgNa5x9",
    "outputId": "7245d5c2-188d-4231-a9df-317633dfd72f"
   }
  },
  {
   "cell_type": "code",
   "execution_count": 2,
   "source": [
    "import pandas as pd\n",
    "\n",
    "index = pd.read_csv('https://ameo.dev/spotify_items.csv.gz', compression = 'gzip')"
   ],
   "outputs": [],
   "metadata": {
    "id": "FFcl7fI2gziU"
   }
  },
  {
   "cell_type": "code",
   "execution_count": 3,
   "source": [
    "index.head()"
   ],
   "outputs": [
    {
     "output_type": "execute_result",
     "data": {
      "text/html": [
       "<div>\n",
       "<style scoped>\n",
       "    .dataframe tbody tr th:only-of-type {\n",
       "        vertical-align: middle;\n",
       "    }\n",
       "\n",
       "    .dataframe tbody tr th {\n",
       "        vertical-align: top;\n",
       "    }\n",
       "\n",
       "    .dataframe thead th {\n",
       "        text-align: right;\n",
       "    }\n",
       "</style>\n",
       "<table border=\"1\" class=\"dataframe\">\n",
       "  <thead>\n",
       "    <tr style=\"text-align: right;\">\n",
       "      <th></th>\n",
       "      <th>id</th>\n",
       "      <th>spotify_id</th>\n",
       "    </tr>\n",
       "  </thead>\n",
       "  <tbody>\n",
       "    <tr>\n",
       "      <th>0</th>\n",
       "      <td>146079057</td>\n",
       "      <td>0000BlyH0BpSivfg8y7QSb</td>\n",
       "    </tr>\n",
       "    <tr>\n",
       "      <th>1</th>\n",
       "      <td>146505418</td>\n",
       "      <td>0001cekkfdEBoMlwVQvpLg</td>\n",
       "    </tr>\n",
       "    <tr>\n",
       "      <th>2</th>\n",
       "      <td>88525725</td>\n",
       "      <td>0001wHqxbF2YYRQxGdbyER</td>\n",
       "    </tr>\n",
       "    <tr>\n",
       "      <th>3</th>\n",
       "      <td>116519192</td>\n",
       "      <td>0001ZVMPt41Vwzt1zsmuzp</td>\n",
       "    </tr>\n",
       "    <tr>\n",
       "      <th>4</th>\n",
       "      <td>115213790</td>\n",
       "      <td>0002XY9y3JhjzTZqNCqEcv</td>\n",
       "    </tr>\n",
       "  </tbody>\n",
       "</table>\n",
       "</div>"
      ],
      "text/plain": [
       "          id              spotify_id\n",
       "0  146079057  0000BlyH0BpSivfg8y7QSb\n",
       "1  146505418  0001cekkfdEBoMlwVQvpLg\n",
       "2   88525725  0001wHqxbF2YYRQxGdbyER\n",
       "3  116519192  0001ZVMPt41Vwzt1zsmuzp\n",
       "4  115213790  0002XY9y3JhjzTZqNCqEcv"
      ]
     },
     "metadata": {},
     "execution_count": 3
    }
   ],
   "metadata": {
    "colab": {
     "base_uri": "https://localhost:8080/",
     "height": 206
    },
    "id": "t-SDr03i3_jA",
    "outputId": "c2706051-c30a-486f-96cd-965d9c433933"
   }
  },
  {
   "cell_type": "code",
   "execution_count": 4,
   "source": [
    "spotify_ids_by_id = {}\n",
    "\n",
    "for (id, artist_spotify_id) in index.itertuples(index=False):\n",
    "  spotify_ids_by_id[int(id)] = artist_spotify_id"
   ],
   "outputs": [],
   "metadata": {
    "id": "AiUgTb2NxNoD"
   }
  },
  {
   "cell_type": "code",
   "execution_count": 5,
   "source": [
    "ids_by_spotify_id = {}\n",
    "\n",
    "for (id, spotify_id) in spotify_ids_by_id.items():\n",
    "  ids_by_spotify_id[spotify_id] = id"
   ],
   "outputs": [],
   "metadata": {
    "id": "lZcgFtC842wL"
   }
  },
  {
   "cell_type": "code",
   "execution_count": 6,
   "source": [
    "related_artists_raw = pd.read_csv('https://ameo.dev/related_artists.csv.gz', compression = 'gzip')"
   ],
   "outputs": [],
   "metadata": {
    "id": "q7iG6D7uyN92"
   }
  },
  {
   "cell_type": "code",
   "execution_count": 7,
   "source": [
    "related_artists_raw.head()"
   ],
   "outputs": [
    {
     "output_type": "execute_result",
     "data": {
      "text/html": [
       "<div>\n",
       "<style scoped>\n",
       "    .dataframe tbody tr th:only-of-type {\n",
       "        vertical-align: middle;\n",
       "    }\n",
       "\n",
       "    .dataframe tbody tr th {\n",
       "        vertical-align: top;\n",
       "    }\n",
       "\n",
       "    .dataframe thead th {\n",
       "        text-align: right;\n",
       "    }\n",
       "</style>\n",
       "<table border=\"1\" class=\"dataframe\">\n",
       "  <thead>\n",
       "    <tr style=\"text-align: right;\">\n",
       "      <th></th>\n",
       "      <th>artist_spotify_id</th>\n",
       "      <th>related_artists_json</th>\n",
       "    </tr>\n",
       "  </thead>\n",
       "  <tbody>\n",
       "    <tr>\n",
       "      <th>0</th>\n",
       "      <td>1</td>\n",
       "      <td>[\"5uCktjKM1Rf9VnUvFD6j17\",\"5FAjeD9eW52qvpik9Os...</td>\n",
       "    </tr>\n",
       "    <tr>\n",
       "      <th>1</th>\n",
       "      <td>2</td>\n",
       "      <td>[\"3j24yoSFDD11h1OszJFfVY\",\"2OgP0RGmDrXN9kOWRNf...</td>\n",
       "    </tr>\n",
       "    <tr>\n",
       "      <th>2</th>\n",
       "      <td>3</td>\n",
       "      <td>[\"0UM3yh4PeDSWa9cnHJ0jgW\",\"0q0K0FV5t8OnVpbIQTX...</td>\n",
       "    </tr>\n",
       "    <tr>\n",
       "      <th>3</th>\n",
       "      <td>4</td>\n",
       "      <td>[\"7gjAu1qr5C2grXeQFFOGeh\",\"1qcU8NabUQ5efQf8UGW...</td>\n",
       "    </tr>\n",
       "    <tr>\n",
       "      <th>4</th>\n",
       "      <td>5</td>\n",
       "      <td>[\"3QpNnKSjUIIMwFei8h3eOj\",\"04Y5zXsFqYRzDr6tMXj...</td>\n",
       "    </tr>\n",
       "  </tbody>\n",
       "</table>\n",
       "</div>"
      ],
      "text/plain": [
       "   artist_spotify_id                               related_artists_json\n",
       "0                  1  [\"5uCktjKM1Rf9VnUvFD6j17\",\"5FAjeD9eW52qvpik9Os...\n",
       "1                  2  [\"3j24yoSFDD11h1OszJFfVY\",\"2OgP0RGmDrXN9kOWRNf...\n",
       "2                  3  [\"0UM3yh4PeDSWa9cnHJ0jgW\",\"0q0K0FV5t8OnVpbIQTX...\n",
       "3                  4  [\"7gjAu1qr5C2grXeQFFOGeh\",\"1qcU8NabUQ5efQf8UGW...\n",
       "4                  5  [\"3QpNnKSjUIIMwFei8h3eOj\",\"04Y5zXsFqYRzDr6tMXj..."
      ]
     },
     "metadata": {},
     "execution_count": 7
    }
   ],
   "metadata": {
    "colab": {
     "base_uri": "https://localhost:8080/",
     "height": 206
    },
    "id": "GE5rNay1z5iL",
    "outputId": "a74e5732-f4e0-4194-ce14-1ae5d37344f3"
   }
  },
  {
   "cell_type": "code",
   "execution_count": 8,
   "source": [
    "related_artists_raw['id'] = related_artists_raw['artist_spotify_id']\n",
    "related_artists_raw['artist_spotify_id'] = related_artists_raw['artist_spotify_id'].apply(lambda id: spotify_ids_by_id[int(id)])"
   ],
   "outputs": [],
   "metadata": {
    "id": "l3ys2pitz8VA"
   }
  },
  {
   "cell_type": "code",
   "execution_count": 9,
   "source": [
    "related_artists_raw.head()"
   ],
   "outputs": [
    {
     "output_type": "execute_result",
     "data": {
      "text/html": [
       "<div>\n",
       "<style scoped>\n",
       "    .dataframe tbody tr th:only-of-type {\n",
       "        vertical-align: middle;\n",
       "    }\n",
       "\n",
       "    .dataframe tbody tr th {\n",
       "        vertical-align: top;\n",
       "    }\n",
       "\n",
       "    .dataframe thead th {\n",
       "        text-align: right;\n",
       "    }\n",
       "</style>\n",
       "<table border=\"1\" class=\"dataframe\">\n",
       "  <thead>\n",
       "    <tr style=\"text-align: right;\">\n",
       "      <th></th>\n",
       "      <th>artist_spotify_id</th>\n",
       "      <th>related_artists_json</th>\n",
       "      <th>id</th>\n",
       "    </tr>\n",
       "  </thead>\n",
       "  <tbody>\n",
       "    <tr>\n",
       "      <th>0</th>\n",
       "      <td>4IuaUq1boR1KVcutaID4Zx</td>\n",
       "      <td>[\"5uCktjKM1Rf9VnUvFD6j17\",\"5FAjeD9eW52qvpik9Os...</td>\n",
       "      <td>1</td>\n",
       "    </tr>\n",
       "    <tr>\n",
       "      <th>1</th>\n",
       "      <td>2UwJRAgSOi1zcLkvUNc8XL</td>\n",
       "      <td>[\"3j24yoSFDD11h1OszJFfVY\",\"2OgP0RGmDrXN9kOWRNf...</td>\n",
       "      <td>2</td>\n",
       "    </tr>\n",
       "    <tr>\n",
       "      <th>2</th>\n",
       "      <td>4BrtGOYp8sytG9MV91DROT</td>\n",
       "      <td>[\"0UM3yh4PeDSWa9cnHJ0jgW\",\"0q0K0FV5t8OnVpbIQTX...</td>\n",
       "      <td>3</td>\n",
       "    </tr>\n",
       "    <tr>\n",
       "      <th>3</th>\n",
       "      <td>1xU878Z1QtBldR7ru9owdU</td>\n",
       "      <td>[\"7gjAu1qr5C2grXeQFFOGeh\",\"1qcU8NabUQ5efQf8UGW...</td>\n",
       "      <td>4</td>\n",
       "    </tr>\n",
       "    <tr>\n",
       "      <th>4</th>\n",
       "      <td>2Ub06wAIR1hERODcCkKhzx</td>\n",
       "      <td>[\"3QpNnKSjUIIMwFei8h3eOj\",\"04Y5zXsFqYRzDr6tMXj...</td>\n",
       "      <td>5</td>\n",
       "    </tr>\n",
       "  </tbody>\n",
       "</table>\n",
       "</div>"
      ],
      "text/plain": [
       "        artist_spotify_id                               related_artists_json  \\\n",
       "0  4IuaUq1boR1KVcutaID4Zx  [\"5uCktjKM1Rf9VnUvFD6j17\",\"5FAjeD9eW52qvpik9Os...   \n",
       "1  2UwJRAgSOi1zcLkvUNc8XL  [\"3j24yoSFDD11h1OszJFfVY\",\"2OgP0RGmDrXN9kOWRNf...   \n",
       "2  4BrtGOYp8sytG9MV91DROT  [\"0UM3yh4PeDSWa9cnHJ0jgW\",\"0q0K0FV5t8OnVpbIQTX...   \n",
       "3  1xU878Z1QtBldR7ru9owdU  [\"7gjAu1qr5C2grXeQFFOGeh\",\"1qcU8NabUQ5efQf8UGW...   \n",
       "4  2Ub06wAIR1hERODcCkKhzx  [\"3QpNnKSjUIIMwFei8h3eOj\",\"04Y5zXsFqYRzDr6tMXj...   \n",
       "\n",
       "   id  \n",
       "0   1  \n",
       "1   2  \n",
       "2   3  \n",
       "3   4  \n",
       "4   5  "
      ]
     },
     "metadata": {},
     "execution_count": 9
    }
   ],
   "metadata": {
    "colab": {
     "base_uri": "https://localhost:8080/",
     "height": 206
    },
    "id": "HoFd36va0HiZ",
    "outputId": "c38db952-744d-4cdd-aaa6-b2716cb4a9e8"
   }
  },
  {
   "cell_type": "code",
   "execution_count": 10,
   "source": [
    "import json\n",
    "\n",
    "related_artists_raw['related_artists'] = related_artists_raw['related_artists_json'].apply(lambda x: json.loads(x))"
   ],
   "outputs": [],
   "metadata": {
    "id": "8V56sTiM0QlE"
   }
  },
  {
   "cell_type": "code",
   "execution_count": 11,
   "source": [
    "del related_artists_raw['related_artists_json']\n",
    "related_artists_raw.head()"
   ],
   "outputs": [
    {
     "output_type": "execute_result",
     "data": {
      "text/html": [
       "<div>\n",
       "<style scoped>\n",
       "    .dataframe tbody tr th:only-of-type {\n",
       "        vertical-align: middle;\n",
       "    }\n",
       "\n",
       "    .dataframe tbody tr th {\n",
       "        vertical-align: top;\n",
       "    }\n",
       "\n",
       "    .dataframe thead th {\n",
       "        text-align: right;\n",
       "    }\n",
       "</style>\n",
       "<table border=\"1\" class=\"dataframe\">\n",
       "  <thead>\n",
       "    <tr style=\"text-align: right;\">\n",
       "      <th></th>\n",
       "      <th>artist_spotify_id</th>\n",
       "      <th>id</th>\n",
       "      <th>related_artists</th>\n",
       "    </tr>\n",
       "  </thead>\n",
       "  <tbody>\n",
       "    <tr>\n",
       "      <th>0</th>\n",
       "      <td>4IuaUq1boR1KVcutaID4Zx</td>\n",
       "      <td>1</td>\n",
       "      <td>[5uCktjKM1Rf9VnUvFD6j17, 5FAjeD9eW52qvpik9OsnV...</td>\n",
       "    </tr>\n",
       "    <tr>\n",
       "      <th>1</th>\n",
       "      <td>2UwJRAgSOi1zcLkvUNc8XL</td>\n",
       "      <td>2</td>\n",
       "      <td>[3j24yoSFDD11h1OszJFfVY, 2OgP0RGmDrXN9kOWRNfEu...</td>\n",
       "    </tr>\n",
       "    <tr>\n",
       "      <th>2</th>\n",
       "      <td>4BrtGOYp8sytG9MV91DROT</td>\n",
       "      <td>3</td>\n",
       "      <td>[0UM3yh4PeDSWa9cnHJ0jgW, 0q0K0FV5t8OnVpbIQTXOh...</td>\n",
       "    </tr>\n",
       "    <tr>\n",
       "      <th>3</th>\n",
       "      <td>1xU878Z1QtBldR7ru9owdU</td>\n",
       "      <td>4</td>\n",
       "      <td>[7gjAu1qr5C2grXeQFFOGeh, 1qcU8NabUQ5efQf8UGW6C...</td>\n",
       "    </tr>\n",
       "    <tr>\n",
       "      <th>4</th>\n",
       "      <td>2Ub06wAIR1hERODcCkKhzx</td>\n",
       "      <td>5</td>\n",
       "      <td>[3QpNnKSjUIIMwFei8h3eOj, 04Y5zXsFqYRzDr6tMXj6a...</td>\n",
       "    </tr>\n",
       "  </tbody>\n",
       "</table>\n",
       "</div>"
      ],
      "text/plain": [
       "        artist_spotify_id  id  \\\n",
       "0  4IuaUq1boR1KVcutaID4Zx   1   \n",
       "1  2UwJRAgSOi1zcLkvUNc8XL   2   \n",
       "2  4BrtGOYp8sytG9MV91DROT   3   \n",
       "3  1xU878Z1QtBldR7ru9owdU   4   \n",
       "4  2Ub06wAIR1hERODcCkKhzx   5   \n",
       "\n",
       "                                     related_artists  \n",
       "0  [5uCktjKM1Rf9VnUvFD6j17, 5FAjeD9eW52qvpik9OsnV...  \n",
       "1  [3j24yoSFDD11h1OszJFfVY, 2OgP0RGmDrXN9kOWRNfEu...  \n",
       "2  [0UM3yh4PeDSWa9cnHJ0jgW, 0q0K0FV5t8OnVpbIQTXOh...  \n",
       "3  [7gjAu1qr5C2grXeQFFOGeh, 1qcU8NabUQ5efQf8UGW6C...  \n",
       "4  [3QpNnKSjUIIMwFei8h3eOj, 04Y5zXsFqYRzDr6tMXj6a...  "
      ]
     },
     "metadata": {},
     "execution_count": 11
    }
   ],
   "metadata": {
    "colab": {
     "base_uri": "https://localhost:8080/",
     "height": 206
    },
    "id": "J0MWj6ok0gw3",
    "outputId": "febaabc9-46dd-4b0e-ae4b-df55c51398a3"
   }
  },
  {
   "cell_type": "code",
   "execution_count": 20,
   "source": [
    "import networkx as nx\n",
    "graph = nx.Graph()\n",
    "\n",
    "# load json from file\n",
    "ids_to_retain = set()\n",
    "with open('work/ids_to_keep.json', 'r') as f:\n",
    "    parsed = json.load(f)\n",
    "    for id in parsed:\n",
    "        ids_to_retain.add(id)\n",
    "\n",
    "all_related_artists = related_artists_raw[:100_000]\n",
    "# Only retain ids that exist in `ids_to_retain`\n",
    "all_related_artists = all_related_artists[all_related_artists['id'].isin(ids_to_retain)]\n",
    "\n",
    "graph.add_nodes_from(all_related_artists['id'])\n",
    "print(f\"Total retained id count: {len(all_related_artists)}\")"
   ],
   "outputs": [
    {
     "output_type": "stream",
     "name": "stdout",
     "text": [
      "Total retained id count: 77555\n"
     ]
    }
   ],
   "metadata": {
    "id": "vuPq8Gqc07qn"
   }
  },
  {
   "cell_type": "code",
   "execution_count": 21,
   "source": [
    "for (artist_spotify_id, id, related_artists) in all_related_artists.itertuples(index=False):\n",
    "  for related_artist_spotify_id in related_artists:\n",
    "    related_artist_id = ids_by_spotify_id.get(related_artist_spotify_id)\n",
    "    if related_artist_id is None:\n",
    "      continue\n",
    "\n",
    "    graph.add_edge(id, related_artist_id)\n",
    "    graph.add_edge(related_artist_id, id)"
   ],
   "outputs": [],
   "metadata": {
    "id": "NjyS-uSG1kA7"
   }
  },
  {
   "cell_type": "code",
   "execution_count": 22,
   "source": [
    "from node2vec import Node2Vec\n",
    "\n",
    "def build_model(**kwargs):\n",
    "    return Node2Vec(graph, **kwargs)\n",
    "\n",
    "def train_model(node2vec_inst, **kwargs):\n",
    "    return node2vec_inst.fit(**kwargs)"
   ],
   "outputs": [],
   "metadata": {
    "colab": {
     "base_uri": "https://localhost:8080/",
     "height": 84,
     "referenced_widgets": [
      "9cf7f63e93e24206a1e16c2b2983472a",
      "9e98c2f82aa442bb98cf69a447abf919",
      "e4aa12d543ac445fbfffe5c20bc1c415",
      "73376e9595194b5a84336d54d7fdb89a",
      "806334824d95428bb72fc063561a2cef",
      "0cc83a7ac3c04c08ace4b30f730a08c5",
      "be88f77765d343e4a3f973deac58cf67",
      "019309acd77c42d1b037a2d58bb44b67"
     ]
    },
    "id": "uilV5IaZ2CGX",
    "outputId": "0f564aed-efe5-4770-9bc9-f9770523e5f4"
   }
  },
  {
   "cell_type": "code",
   "execution_count": 23,
   "source": [
    "# build_model(dimensions=4, walk_length=10, num_walks=15, workers=12)\n",
    "# train_model(window=7, min_count=1, workers=14, hs=1, sg=1)\n",
    "\n",
    "for q_index in range(0, 6):\n",
    "    q = q_index * 0.5 + 0.1\n",
    "\n",
    "    for p_index in range(0, 6):\n",
    "        p = p_index * 0.5 + 0.1\n",
    "\n",
    "        print(f'Building + training for p={p} q={q}...')\n",
    "\n",
    "        node2vec_inst = build_model(dimensions=4, walk_length=10, num_walks=20, workers=5, p=p, q=q)\n",
    "        model = train_model(node2vec_inst, window=7, min_count=1, workers=12, hs=1, sg=1)\n",
    "\n",
    "        print(f'Training finished for p={p} q={q}, saving to output files...')\n",
    "        output_file_name_base = f'work/hyperparam_search/100k_pop_filtered_corpus_p_{int(p * 10)}_q_{int(q * 10)}'\n",
    "\n",
    "        model.wv.save_word2vec_format(f\"{output_file_name_base}.w2v\", f\"{output_file_name_base}.vocab\")"
   ],
   "outputs": [
    {
     "output_type": "stream",
     "name": "stdout",
     "text": [
      "Building + training for p=0.1 q=0.1...\n"
     ]
    },
    {
     "output_type": "display_data",
     "data": {
      "application/vnd.jupyter.widget-view+json": {
       "version_major": 2,
       "version_minor": 0,
       "model_id": "43cacb5d356c4db3982f4b31a46d47d5"
      },
      "text/plain": [
       "Computing transition probabilities:   0%|          | 0/224387 [00:00<?, ?it/s]"
      ]
     },
     "metadata": {}
    },
    {
     "output_type": "stream",
     "name": "stderr",
     "text": [
      "Generating walks (CPU: 1): 100%|██████████| 4/4 [03:41<00:00, 55.36s/it]\n",
      "Generating walks (CPU: 2): 100%|██████████| 4/4 [03:43<00:00, 55.82s/it]\n",
      "Generating walks (CPU: 3): 100%|██████████| 4/4 [03:39<00:00, 54.77s/it]\n",
      "Generating walks (CPU: 4): 100%|██████████| 4/4 [03:39<00:00, 54.75s/it]\n",
      "Generating walks (CPU: 5): 100%|██████████| 4/4 [03:32<00:00, 53.24s/it]\n"
     ]
    },
    {
     "output_type": "stream",
     "name": "stdout",
     "text": [
      "Training finished for p=0.1 q=0.1, saving to output files...\n",
      "Building + training for p=0.6 q=0.1...\n"
     ]
    },
    {
     "output_type": "display_data",
     "data": {
      "application/vnd.jupyter.widget-view+json": {
       "version_major": 2,
       "version_minor": 0,
       "model_id": "aaacc5b7acc7433a8319e8da16b796c8"
      },
      "text/plain": [
       "Computing transition probabilities:   0%|          | 0/224387 [00:00<?, ?it/s]"
      ]
     },
     "metadata": {}
    },
    {
     "output_type": "stream",
     "name": "stderr",
     "text": [
      "Generating walks (CPU: 1): 100%|██████████| 4/4 [03:21<00:00, 50.27s/it]\n",
      "Generating walks (CPU: 2): 100%|██████████| 4/4 [03:27<00:00, 51.92s/it]\n",
      "Generating walks (CPU: 3): 100%|██████████| 4/4 [03:28<00:00, 52.14s/it]\n",
      "Generating walks (CPU: 4): 100%|██████████| 4/4 [03:26<00:00, 51.68s/it]\n",
      "Generating walks (CPU: 5): 100%|██████████| 4/4 [03:22<00:00, 50.75s/it]\n"
     ]
    },
    {
     "output_type": "stream",
     "name": "stdout",
     "text": [
      "Training finished for p=0.6 q=0.1, saving to output files...\n",
      "Building + training for p=1.1 q=0.1...\n"
     ]
    },
    {
     "output_type": "display_data",
     "data": {
      "application/vnd.jupyter.widget-view+json": {
       "version_major": 2,
       "version_minor": 0,
       "model_id": "cbca45dcb3a0417b8caf06cbf04a41b4"
      },
      "text/plain": [
       "Computing transition probabilities:   0%|          | 0/224387 [00:00<?, ?it/s]"
      ]
     },
     "metadata": {}
    },
    {
     "output_type": "stream",
     "name": "stderr",
     "text": [
      "Generating walks (CPU: 1): 100%|██████████| 4/4 [03:20<00:00, 50.02s/it]\n",
      "Generating walks (CPU: 2): 100%|██████████| 4/4 [03:28<00:00, 52.19s/it]\n",
      "Generating walks (CPU: 3): 100%|██████████| 4/4 [03:26<00:00, 51.52s/it]\n",
      "Generating walks (CPU: 4): 100%|██████████| 4/4 [03:24<00:00, 51.12s/it]\n",
      "Generating walks (CPU: 5): 100%|██████████| 4/4 [03:22<00:00, 50.60s/it]\n"
     ]
    },
    {
     "output_type": "stream",
     "name": "stdout",
     "text": [
      "Training finished for p=1.1 q=0.1, saving to output files...\n",
      "Building + training for p=1.6 q=0.1...\n"
     ]
    },
    {
     "output_type": "display_data",
     "data": {
      "application/vnd.jupyter.widget-view+json": {
       "version_major": 2,
       "version_minor": 0,
       "model_id": "cc8a2afc719944b0bb44263492cc1273"
      },
      "text/plain": [
       "Computing transition probabilities:   0%|          | 0/224387 [00:00<?, ?it/s]"
      ]
     },
     "metadata": {}
    },
    {
     "output_type": "stream",
     "name": "stderr",
     "text": [
      "Generating walks (CPU: 1): 100%|██████████| 4/4 [03:29<00:00, 52.44s/it]\n",
      "Generating walks (CPU: 2): 100%|██████████| 4/4 [03:25<00:00, 51.29s/it]\n",
      "Generating walks (CPU: 3): 100%|██████████| 4/4 [03:27<00:00, 51.81s/it]\n",
      "Generating walks (CPU: 4): 100%|██████████| 4/4 [03:27<00:00, 51.81s/it]\n",
      "Generating walks (CPU: 5): 100%|██████████| 4/4 [03:27<00:00, 51.84s/it]\n"
     ]
    },
    {
     "output_type": "stream",
     "name": "stdout",
     "text": [
      "Training finished for p=1.6 q=0.1, saving to output files...\n",
      "Building + training for p=2.1 q=0.1...\n"
     ]
    },
    {
     "output_type": "display_data",
     "data": {
      "application/vnd.jupyter.widget-view+json": {
       "version_major": 2,
       "version_minor": 0,
       "model_id": "d492d8b0a4ae43c18bb55b8aefd28f4d"
      },
      "text/plain": [
       "Computing transition probabilities:   0%|          | 0/224387 [00:00<?, ?it/s]"
      ]
     },
     "metadata": {}
    },
    {
     "output_type": "stream",
     "name": "stderr",
     "text": [
      "Generating walks (CPU: 1): 100%|██████████| 4/4 [03:21<00:00, 50.26s/it]\n",
      "Generating walks (CPU: 2): 100%|██████████| 4/4 [03:26<00:00, 51.51s/it]\n",
      "Generating walks (CPU: 3): 100%|██████████| 4/4 [03:25<00:00, 51.32s/it]\n",
      "Generating walks (CPU: 4): 100%|██████████| 4/4 [03:30<00:00, 52.52s/it]\n",
      "Generating walks (CPU: 5): 100%|██████████| 4/4 [03:19<00:00, 50.00s/it]\n"
     ]
    },
    {
     "output_type": "stream",
     "name": "stdout",
     "text": [
      "Training finished for p=2.1 q=0.1, saving to output files...\n",
      "Building + training for p=2.6 q=0.1...\n"
     ]
    },
    {
     "output_type": "display_data",
     "data": {
      "application/vnd.jupyter.widget-view+json": {
       "version_major": 2,
       "version_minor": 0,
       "model_id": "49706e7e3ee94797b127243456772b29"
      },
      "text/plain": [
       "Computing transition probabilities:   0%|          | 0/224387 [00:00<?, ?it/s]"
      ]
     },
     "metadata": {}
    },
    {
     "output_type": "stream",
     "name": "stderr",
     "text": [
      "Generating walks (CPU: 1): 100%|██████████| 4/4 [03:32<00:00, 53.19s/it]\n",
      "Generating walks (CPU: 2): 100%|██████████| 4/4 [03:28<00:00, 52.00s/it]\n",
      "Generating walks (CPU: 3): 100%|██████████| 4/4 [03:24<00:00, 51.25s/it]\n",
      "Generating walks (CPU: 4): 100%|██████████| 4/4 [03:27<00:00, 51.95s/it]\n",
      "Generating walks (CPU: 5): 100%|██████████| 4/4 [03:17<00:00, 49.27s/it]\n"
     ]
    },
    {
     "output_type": "stream",
     "name": "stdout",
     "text": [
      "Training finished for p=2.6 q=0.1, saving to output files...\n",
      "Building + training for p=0.1 q=0.6...\n"
     ]
    },
    {
     "output_type": "display_data",
     "data": {
      "application/vnd.jupyter.widget-view+json": {
       "version_major": 2,
       "version_minor": 0,
       "model_id": "771c490272c64b5cbb7be62027bc6939"
      },
      "text/plain": [
       "Computing transition probabilities:   0%|          | 0/224387 [00:00<?, ?it/s]"
      ]
     },
     "metadata": {}
    },
    {
     "output_type": "stream",
     "name": "stderr",
     "text": [
      "Generating walks (CPU: 1): 100%|██████████| 4/4 [03:22<00:00, 50.60s/it]\n",
      "Generating walks (CPU: 2): 100%|██████████| 4/4 [03:21<00:00, 50.29s/it]\n",
      "Generating walks (CPU: 3): 100%|██████████| 4/4 [03:22<00:00, 50.64s/it]\n",
      "Generating walks (CPU: 4): 100%|██████████| 4/4 [03:20<00:00, 50.14s/it]\n",
      "Generating walks (CPU: 5): 100%|██████████| 4/4 [03:20<00:00, 50.02s/it]\n"
     ]
    },
    {
     "output_type": "stream",
     "name": "stdout",
     "text": [
      "Training finished for p=0.1 q=0.6, saving to output files...\n",
      "Building + training for p=0.6 q=0.6...\n"
     ]
    },
    {
     "output_type": "display_data",
     "data": {
      "application/vnd.jupyter.widget-view+json": {
       "version_major": 2,
       "version_minor": 0,
       "model_id": "10554455eb104201bfd731dae8ec192a"
      },
      "text/plain": [
       "Computing transition probabilities:   0%|          | 0/224387 [00:00<?, ?it/s]"
      ]
     },
     "metadata": {}
    },
    {
     "output_type": "stream",
     "name": "stderr",
     "text": [
      "IOStream.flush timed out\n",
      "Generating walks (CPU: 1): 100%|██████████| 4/4 [03:25<00:00, 51.39s/it]\n",
      "Generating walks (CPU: 2): 100%|██████████| 4/4 [03:22<00:00, 50.66s/it]\n",
      "Generating walks (CPU: 3): 100%|██████████| 4/4 [03:22<00:00, 50.73s/it]\n",
      "Generating walks (CPU: 4): 100%|██████████| 4/4 [03:28<00:00, 52.05s/it]\n",
      "Generating walks (CPU: 5): 100%|██████████| 4/4 [03:20<00:00, 50.14s/it]\n"
     ]
    },
    {
     "output_type": "stream",
     "name": "stdout",
     "text": [
      "Training finished for p=0.6 q=0.6, saving to output files...\n",
      "Building + training for p=1.1 q=0.6...\n"
     ]
    },
    {
     "output_type": "display_data",
     "data": {
      "application/vnd.jupyter.widget-view+json": {
       "version_major": 2,
       "version_minor": 0,
       "model_id": "c939410772f74ede96da7cd08871874a"
      },
      "text/plain": [
       "Computing transition probabilities:   0%|          | 0/224387 [00:00<?, ?it/s]"
      ]
     },
     "metadata": {}
    },
    {
     "output_type": "stream",
     "name": "stderr",
     "text": [
      "IOStream.flush timed out\n",
      "IOStream.flush timed out\n",
      "Generating walks (CPU: 1): 100%|██████████| 4/4 [03:21<00:00, 50.49s/it]\n",
      "Generating walks (CPU: 2): 100%|██████████| 4/4 [03:25<00:00, 51.34s/it]\n",
      "Generating walks (CPU: 3): 100%|██████████| 4/4 [03:27<00:00, 51.78s/it]\n",
      "Generating walks (CPU: 4): 100%|██████████| 4/4 [03:30<00:00, 52.64s/it]\n",
      "Generating walks (CPU: 5): 100%|██████████| 4/4 [03:20<00:00, 50.17s/it]\n"
     ]
    },
    {
     "output_type": "stream",
     "name": "stdout",
     "text": [
      "Training finished for p=1.1 q=0.6, saving to output files...\n",
      "Building + training for p=1.6 q=0.6...\n"
     ]
    },
    {
     "output_type": "display_data",
     "data": {
      "application/vnd.jupyter.widget-view+json": {
       "version_major": 2,
       "version_minor": 0,
       "model_id": "e3e9e6624b3e4651ab12df59000c575d"
      },
      "text/plain": [
       "Computing transition probabilities:   0%|          | 0/224387 [00:00<?, ?it/s]"
      ]
     },
     "metadata": {}
    },
    {
     "output_type": "stream",
     "name": "stderr",
     "text": [
      "IOStream.flush timed out\n",
      "Generating walks (CPU: 1): 100%|██████████| 4/4 [03:26<00:00, 51.64s/it]\n",
      "Generating walks (CPU: 2): 100%|██████████| 4/4 [03:27<00:00, 51.90s/it]\n",
      "Generating walks (CPU: 3): 100%|██████████| 4/4 [03:24<00:00, 51.05s/it]\n",
      "Generating walks (CPU: 4): 100%|██████████| 4/4 [03:24<00:00, 51.15s/it]\n",
      "Generating walks (CPU: 5): 100%|██████████| 4/4 [03:23<00:00, 50.98s/it]\n"
     ]
    },
    {
     "output_type": "stream",
     "name": "stdout",
     "text": [
      "Training finished for p=1.6 q=0.6, saving to output files...\n",
      "Building + training for p=2.1 q=0.6...\n"
     ]
    },
    {
     "output_type": "display_data",
     "data": {
      "application/vnd.jupyter.widget-view+json": {
       "version_major": 2,
       "version_minor": 0,
       "model_id": "1cca83ea74fe436eba6f2ab83f11636a"
      },
      "text/plain": [
       "Computing transition probabilities:   0%|          | 0/224387 [00:00<?, ?it/s]"
      ]
     },
     "metadata": {}
    },
    {
     "output_type": "stream",
     "name": "stderr",
     "text": [
      "IOStream.flush timed out\n",
      "Generating walks (CPU: 1): 100%|██████████| 4/4 [03:25<00:00, 51.33s/it]\n",
      "Generating walks (CPU: 2): 100%|██████████| 4/4 [03:26<00:00, 51.66s/it]\n",
      "Generating walks (CPU: 3): 100%|██████████| 4/4 [03:25<00:00, 51.47s/it]\n",
      "Generating walks (CPU: 4): 100%|██████████| 4/4 [03:31<00:00, 53.00s/it]\n",
      "Generating walks (CPU: 5): 100%|██████████| 4/4 [03:23<00:00, 50.93s/it]\n"
     ]
    },
    {
     "output_type": "stream",
     "name": "stdout",
     "text": [
      "Training finished for p=2.1 q=0.6, saving to output files...\n",
      "Building + training for p=2.6 q=0.6...\n"
     ]
    },
    {
     "output_type": "display_data",
     "data": {
      "application/vnd.jupyter.widget-view+json": {
       "version_major": 2,
       "version_minor": 0,
       "model_id": "d671b9eecc3e4ed8886e58d1793b9173"
      },
      "text/plain": [
       "Computing transition probabilities:   0%|          | 0/224387 [00:00<?, ?it/s]"
      ]
     },
     "metadata": {}
    },
    {
     "output_type": "stream",
     "name": "stderr",
     "text": [
      "IOStream.flush timed out\n",
      "IOStream.flush timed out\n",
      "IOStream.flush timed out\n",
      "Generating walks (CPU: 1): 100%|██████████| 4/4 [03:26<00:00, 51.50s/it]\n",
      "Generating walks (CPU: 2): 100%|██████████| 4/4 [03:26<00:00, 51.65s/it]\n",
      "Generating walks (CPU: 3): 100%|██████████| 4/4 [03:27<00:00, 51.86s/it]\n",
      "Generating walks (CPU: 4): 100%|██████████| 4/4 [03:26<00:00, 51.52s/it]\n",
      "Generating walks (CPU: 5): 100%|██████████| 4/4 [03:24<00:00, 51.13s/it]\n"
     ]
    },
    {
     "output_type": "stream",
     "name": "stdout",
     "text": [
      "Training finished for p=2.6 q=0.6, saving to output files...\n",
      "Building + training for p=0.1 q=1.1...\n"
     ]
    },
    {
     "output_type": "display_data",
     "data": {
      "application/vnd.jupyter.widget-view+json": {
       "version_major": 2,
       "version_minor": 0,
       "model_id": "542badfdb6c643f39d4880dd1aa76e58"
      },
      "text/plain": [
       "Computing transition probabilities:   0%|          | 0/224387 [00:00<?, ?it/s]"
      ]
     },
     "metadata": {}
    },
    {
     "output_type": "stream",
     "name": "stderr",
     "text": [
      "Generating walks (CPU: 1): 100%|██████████| 4/4 [03:22<00:00, 50.55s/it]\n",
      "Generating walks (CPU: 2): 100%|██████████| 4/4 [03:24<00:00, 51.18s/it]\n",
      "Generating walks (CPU: 3): 100%|██████████| 4/4 [03:23<00:00, 50.95s/it]\n",
      "Generating walks (CPU: 4): 100%|██████████| 4/4 [03:21<00:00, 50.50s/it]\n",
      "Generating walks (CPU: 5): 100%|██████████| 4/4 [03:24<00:00, 51.14s/it]\n"
     ]
    },
    {
     "output_type": "stream",
     "name": "stdout",
     "text": [
      "Training finished for p=0.1 q=1.1, saving to output files...\n",
      "Building + training for p=0.6 q=1.1...\n"
     ]
    },
    {
     "output_type": "display_data",
     "data": {
      "application/vnd.jupyter.widget-view+json": {
       "version_major": 2,
       "version_minor": 0,
       "model_id": "00a627fe52a04e62b08820260c7e103d"
      },
      "text/plain": [
       "Computing transition probabilities:   0%|          | 0/224387 [00:00<?, ?it/s]"
      ]
     },
     "metadata": {}
    },
    {
     "output_type": "stream",
     "name": "stderr",
     "text": [
      "Generating walks (CPU: 1): 100%|██████████| 4/4 [03:28<00:00, 52.08s/it]\n",
      "Generating walks (CPU: 2): 100%|██████████| 4/4 [03:25<00:00, 51.38s/it]\n",
      "Generating walks (CPU: 3): 100%|██████████| 4/4 [03:22<00:00, 50.60s/it]\n",
      "Generating walks (CPU: 4): 100%|██████████| 4/4 [03:26<00:00, 51.54s/it]\n",
      "Generating walks (CPU: 5): 100%|██████████| 4/4 [03:21<00:00, 50.27s/it]\n"
     ]
    },
    {
     "output_type": "stream",
     "name": "stdout",
     "text": [
      "Training finished for p=0.6 q=1.1, saving to output files...\n",
      "Building + training for p=1.1 q=1.1...\n"
     ]
    },
    {
     "output_type": "display_data",
     "data": {
      "application/vnd.jupyter.widget-view+json": {
       "version_major": 2,
       "version_minor": 0,
       "model_id": "79b1a43b72cd40bba5656fb3222ebf63"
      },
      "text/plain": [
       "Computing transition probabilities:   0%|          | 0/224387 [00:00<?, ?it/s]"
      ]
     },
     "metadata": {}
    },
    {
     "output_type": "stream",
     "name": "stderr",
     "text": [
      "Generating walks (CPU: 1): 100%|██████████| 4/4 [03:23<00:00, 50.80s/it]\n",
      "Generating walks (CPU: 2): 100%|██████████| 4/4 [03:22<00:00, 50.57s/it]\n",
      "Generating walks (CPU: 3): 100%|██████████| 4/4 [03:28<00:00, 52.14s/it]\n",
      "Generating walks (CPU: 4): 100%|██████████| 4/4 [03:24<00:00, 51.23s/it]\n",
      "Generating walks (CPU: 5): 100%|██████████| 4/4 [03:22<00:00, 50.71s/it]\n"
     ]
    },
    {
     "output_type": "stream",
     "name": "stdout",
     "text": [
      "Training finished for p=1.1 q=1.1, saving to output files...\n",
      "Building + training for p=1.6 q=1.1...\n"
     ]
    },
    {
     "output_type": "display_data",
     "data": {
      "application/vnd.jupyter.widget-view+json": {
       "version_major": 2,
       "version_minor": 0,
       "model_id": "58eefb29717b4bc18c6211c0da42bdfc"
      },
      "text/plain": [
       "Computing transition probabilities:   0%|          | 0/224387 [00:00<?, ?it/s]"
      ]
     },
     "metadata": {}
    },
    {
     "output_type": "stream",
     "name": "stderr",
     "text": [
      "Generating walks (CPU: 1): 100%|██████████| 4/4 [03:22<00:00, 50.54s/it]\n",
      "Generating walks (CPU: 2): 100%|██████████| 4/4 [03:22<00:00, 50.68s/it]\n",
      "Generating walks (CPU: 3): 100%|██████████| 4/4 [03:25<00:00, 51.30s/it]\n",
      "Generating walks (CPU: 4): 100%|██████████| 4/4 [03:25<00:00, 51.46s/it]\n",
      "Generating walks (CPU: 5): 100%|██████████| 4/4 [03:26<00:00, 51.54s/it]\n"
     ]
    },
    {
     "output_type": "stream",
     "name": "stdout",
     "text": [
      "Training finished for p=1.6 q=1.1, saving to output files...\n",
      "Building + training for p=2.1 q=1.1...\n"
     ]
    },
    {
     "output_type": "display_data",
     "data": {
      "application/vnd.jupyter.widget-view+json": {
       "version_major": 2,
       "version_minor": 0,
       "model_id": "29d76521db2749b0b564516b9d3143ed"
      },
      "text/plain": [
       "Computing transition probabilities:   0%|          | 0/224387 [00:00<?, ?it/s]"
      ]
     },
     "metadata": {}
    },
    {
     "output_type": "stream",
     "name": "stderr",
     "text": [
      "Generating walks (CPU: 1): 100%|██████████| 4/4 [03:22<00:00, 50.50s/it]\n",
      "Generating walks (CPU: 2): 100%|██████████| 4/4 [03:23<00:00, 50.87s/it]\n",
      "Generating walks (CPU: 3): 100%|██████████| 4/4 [03:26<00:00, 51.64s/it]\n",
      "Generating walks (CPU: 4): 100%|██████████| 4/4 [03:26<00:00, 51.60s/it]\n",
      "Generating walks (CPU: 5): 100%|██████████| 4/4 [03:24<00:00, 51.12s/it]\n"
     ]
    },
    {
     "output_type": "stream",
     "name": "stdout",
     "text": [
      "Training finished for p=2.1 q=1.1, saving to output files...\n",
      "Building + training for p=2.6 q=1.1...\n"
     ]
    },
    {
     "output_type": "display_data",
     "data": {
      "application/vnd.jupyter.widget-view+json": {
       "version_major": 2,
       "version_minor": 0,
       "model_id": "20cec05af8bc4ee89470fd084baab5bf"
      },
      "text/plain": [
       "Computing transition probabilities:   0%|          | 0/224387 [00:00<?, ?it/s]"
      ]
     },
     "metadata": {}
    },
    {
     "output_type": "stream",
     "name": "stderr",
     "text": [
      "Generating walks (CPU: 1): 100%|██████████| 4/4 [03:24<00:00, 51.14s/it]\n",
      "Generating walks (CPU: 2): 100%|██████████| 4/4 [03:26<00:00, 51.74s/it]\n",
      "Generating walks (CPU: 3): 100%|██████████| 4/4 [03:26<00:00, 51.54s/it]\n",
      "Generating walks (CPU: 4): 100%|██████████| 4/4 [03:23<00:00, 50.98s/it]\n",
      "Generating walks (CPU: 5): 100%|██████████| 4/4 [03:25<00:00, 51.40s/it]\n"
     ]
    },
    {
     "output_type": "stream",
     "name": "stdout",
     "text": [
      "Training finished for p=2.6 q=1.1, saving to output files...\n",
      "Building + training for p=0.1 q=1.6...\n"
     ]
    },
    {
     "output_type": "display_data",
     "data": {
      "application/vnd.jupyter.widget-view+json": {
       "version_major": 2,
       "version_minor": 0,
       "model_id": "e23818f9f4d84138b19dd64ab1459609"
      },
      "text/plain": [
       "Computing transition probabilities:   0%|          | 0/224387 [00:00<?, ?it/s]"
      ]
     },
     "metadata": {}
    },
    {
     "output_type": "stream",
     "name": "stderr",
     "text": [
      "IOStream.flush timed out\n",
      "IOStream.flush timed out\n",
      "Generating walks (CPU: 1): 100%|██████████| 4/4 [03:24<00:00, 51.13s/it]\n",
      "Generating walks (CPU: 2): 100%|██████████| 4/4 [03:17<00:00, 49.42s/it]\n",
      "Generating walks (CPU: 3): 100%|██████████| 4/4 [03:15<00:00, 48.99s/it]\n",
      "Generating walks (CPU: 4): 100%|██████████| 4/4 [03:27<00:00, 51.79s/it]\n",
      "Generating walks (CPU: 5): 100%|██████████| 4/4 [03:30<00:00, 52.71s/it]\n"
     ]
    },
    {
     "output_type": "stream",
     "name": "stdout",
     "text": [
      "Training finished for p=0.1 q=1.6, saving to output files...\n",
      "Building + training for p=0.6 q=1.6...\n"
     ]
    },
    {
     "output_type": "display_data",
     "data": {
      "application/vnd.jupyter.widget-view+json": {
       "version_major": 2,
       "version_minor": 0,
       "model_id": "7e3a4d1e7a9a43b987e461f88412446e"
      },
      "text/plain": [
       "Computing transition probabilities:   0%|          | 0/224387 [00:00<?, ?it/s]"
      ]
     },
     "metadata": {}
    },
    {
     "output_type": "stream",
     "name": "stderr",
     "text": [
      "IOStream.flush timed out\n",
      "Generating walks (CPU: 1): 100%|██████████| 4/4 [03:26<00:00, 51.61s/it]\n",
      "Generating walks (CPU: 2): 100%|██████████| 4/4 [03:24<00:00, 51.13s/it]\n",
      "Generating walks (CPU: 3): 100%|██████████| 4/4 [03:29<00:00, 52.30s/it]\n",
      "Generating walks (CPU: 4): 100%|██████████| 4/4 [03:24<00:00, 51.21s/it]\n",
      "Generating walks (CPU: 5): 100%|██████████| 4/4 [03:28<00:00, 52.07s/it]\n"
     ]
    },
    {
     "output_type": "stream",
     "name": "stdout",
     "text": [
      "Training finished for p=0.6 q=1.6, saving to output files...\n",
      "Building + training for p=1.1 q=1.6...\n"
     ]
    },
    {
     "output_type": "display_data",
     "data": {
      "application/vnd.jupyter.widget-view+json": {
       "version_major": 2,
       "version_minor": 0,
       "model_id": "465eda0151ae4a34b9c2bac857d36f74"
      },
      "text/plain": [
       "Computing transition probabilities:   0%|          | 0/224387 [00:00<?, ?it/s]"
      ]
     },
     "metadata": {}
    },
    {
     "output_type": "stream",
     "name": "stderr",
     "text": [
      "IOStream.flush timed out\n",
      "Generating walks (CPU: 1): 100%|██████████| 4/4 [03:23<00:00, 50.83s/it]\n",
      "Generating walks (CPU: 2): 100%|██████████| 4/4 [03:28<00:00, 52.16s/it]\n",
      "Generating walks (CPU: 3): 100%|██████████| 4/4 [03:24<00:00, 51.22s/it]\n",
      "Generating walks (CPU: 4): 100%|██████████| 4/4 [03:25<00:00, 51.34s/it]\n",
      "Generating walks (CPU: 5): 100%|██████████| 4/4 [03:17<00:00, 49.49s/it]\n"
     ]
    },
    {
     "output_type": "stream",
     "name": "stdout",
     "text": [
      "Training finished for p=1.1 q=1.6, saving to output files...\n",
      "Building + training for p=1.6 q=1.6...\n"
     ]
    },
    {
     "output_type": "display_data",
     "data": {
      "application/vnd.jupyter.widget-view+json": {
       "version_major": 2,
       "version_minor": 0,
       "model_id": "0559f496cabf48029b538eb3002c05df"
      },
      "text/plain": [
       "Computing transition probabilities:   0%|          | 0/224387 [00:00<?, ?it/s]"
      ]
     },
     "metadata": {}
    },
    {
     "output_type": "stream",
     "name": "stderr",
     "text": [
      "IOStream.flush timed out\n",
      "Generating walks (CPU: 1): 100%|██████████| 4/4 [03:25<00:00, 51.34s/it]\n",
      "Generating walks (CPU: 2): 100%|██████████| 4/4 [03:22<00:00, 50.68s/it]\n",
      "Generating walks (CPU: 3): 100%|██████████| 4/4 [03:22<00:00, 50.67s/it]\n",
      "Generating walks (CPU: 4): 100%|██████████| 4/4 [03:25<00:00, 51.35s/it]\n",
      "Generating walks (CPU: 5): 100%|██████████| 4/4 [03:18<00:00, 49.74s/it]\n"
     ]
    },
    {
     "output_type": "stream",
     "name": "stdout",
     "text": [
      "Training finished for p=1.6 q=1.6, saving to output files...\n",
      "Building + training for p=2.1 q=1.6...\n"
     ]
    },
    {
     "output_type": "display_data",
     "data": {
      "application/vnd.jupyter.widget-view+json": {
       "version_major": 2,
       "version_minor": 0,
       "model_id": "5f3bfb247ed745e9b182a592f7b27105"
      },
      "text/plain": [
       "Computing transition probabilities:   0%|          | 0/224387 [00:00<?, ?it/s]"
      ]
     },
     "metadata": {}
    },
    {
     "output_type": "stream",
     "name": "stderr",
     "text": [
      "IOStream.flush timed out\n",
      "Generating walks (CPU: 1): 100%|██████████| 4/4 [03:22<00:00, 50.64s/it]\n",
      "Generating walks (CPU: 2): 100%|██████████| 4/4 [03:28<00:00, 52.10s/it]\n",
      "Generating walks (CPU: 3): 100%|██████████| 4/4 [03:27<00:00, 51.86s/it]\n",
      "Generating walks (CPU: 4): 100%|██████████| 4/4 [03:24<00:00, 51.16s/it]\n",
      "Generating walks (CPU: 5): 100%|██████████| 4/4 [03:20<00:00, 50.18s/it]\n"
     ]
    },
    {
     "output_type": "stream",
     "name": "stdout",
     "text": [
      "Training finished for p=2.1 q=1.6, saving to output files...\n",
      "Building + training for p=2.6 q=1.6...\n"
     ]
    },
    {
     "output_type": "display_data",
     "data": {
      "application/vnd.jupyter.widget-view+json": {
       "version_major": 2,
       "version_minor": 0,
       "model_id": "68a5a3a9bf284c6b97edfbf5393cd226"
      },
      "text/plain": [
       "Computing transition probabilities:   0%|          | 0/224387 [00:00<?, ?it/s]"
      ]
     },
     "metadata": {}
    },
    {
     "output_type": "stream",
     "name": "stderr",
     "text": [
      "IOStream.flush timed out\n",
      "Generating walks (CPU: 1): 100%|██████████| 4/4 [03:25<00:00, 51.34s/it]\n",
      "Generating walks (CPU: 2): 100%|██████████| 4/4 [03:27<00:00, 51.76s/it]\n",
      "Generating walks (CPU: 3): 100%|██████████| 4/4 [03:24<00:00, 51.07s/it]\n",
      "Generating walks (CPU: 4): 100%|██████████| 4/4 [03:23<00:00, 50.86s/it]\n",
      "Generating walks (CPU: 5): 100%|██████████| 4/4 [03:23<00:00, 50.96s/it]\n"
     ]
    },
    {
     "output_type": "stream",
     "name": "stdout",
     "text": [
      "Training finished for p=2.6 q=1.6, saving to output files...\n",
      "Building + training for p=0.1 q=2.1...\n"
     ]
    },
    {
     "output_type": "display_data",
     "data": {
      "application/vnd.jupyter.widget-view+json": {
       "version_major": 2,
       "version_minor": 0,
       "model_id": "17a7ab754fcc424b9eaec37c48407a57"
      },
      "text/plain": [
       "Computing transition probabilities:   0%|          | 0/224387 [00:00<?, ?it/s]"
      ]
     },
     "metadata": {}
    },
    {
     "output_type": "stream",
     "name": "stderr",
     "text": [
      "Generating walks (CPU: 1): 100%|██████████| 4/4 [03:22<00:00, 50.75s/it]\n",
      "Generating walks (CPU: 2): 100%|██████████| 4/4 [03:18<00:00, 49.64s/it]\n",
      "Generating walks (CPU: 3): 100%|██████████| 4/4 [03:19<00:00, 49.91s/it]\n",
      "Generating walks (CPU: 4): 100%|██████████| 4/4 [03:20<00:00, 50.09s/it]\n",
      "Generating walks (CPU: 5): 100%|██████████| 4/4 [03:18<00:00, 49.59s/it]\n"
     ]
    },
    {
     "output_type": "stream",
     "name": "stdout",
     "text": [
      "Training finished for p=0.1 q=2.1, saving to output files...\n",
      "Building + training for p=0.6 q=2.1...\n"
     ]
    },
    {
     "output_type": "display_data",
     "data": {
      "application/vnd.jupyter.widget-view+json": {
       "version_major": 2,
       "version_minor": 0,
       "model_id": "d762738372c94f1b96b20e8cca103ce4"
      },
      "text/plain": [
       "Computing transition probabilities:   0%|          | 0/224387 [00:00<?, ?it/s]"
      ]
     },
     "metadata": {}
    },
    {
     "output_type": "stream",
     "name": "stderr",
     "text": [
      "Generating walks (CPU: 1): 100%|██████████| 4/4 [03:22<00:00, 50.51s/it]\n",
      "Generating walks (CPU: 2): 100%|██████████| 4/4 [03:28<00:00, 52.03s/it]\n",
      "Generating walks (CPU: 3): 100%|██████████| 4/4 [03:20<00:00, 50.17s/it]\n",
      "Generating walks (CPU: 4): 100%|██████████| 4/4 [03:25<00:00, 51.27s/it]\n",
      "Generating walks (CPU: 5): 100%|██████████| 4/4 [03:21<00:00, 50.26s/it]\n"
     ]
    },
    {
     "output_type": "stream",
     "name": "stdout",
     "text": [
      "Training finished for p=0.6 q=2.1, saving to output files...\n",
      "Building + training for p=1.1 q=2.1...\n"
     ]
    },
    {
     "output_type": "display_data",
     "data": {
      "application/vnd.jupyter.widget-view+json": {
       "version_major": 2,
       "version_minor": 0,
       "model_id": "b2016dc74f12430997a9a74eedf2d487"
      },
      "text/plain": [
       "Computing transition probabilities:   0%|          | 0/224387 [00:00<?, ?it/s]"
      ]
     },
     "metadata": {}
    },
    {
     "output_type": "stream",
     "name": "stderr",
     "text": [
      "Generating walks (CPU: 1): 100%|██████████| 4/4 [03:20<00:00, 50.20s/it]\n",
      "Generating walks (CPU: 2): 100%|██████████| 4/4 [03:18<00:00, 49.59s/it]\n",
      "Generating walks (CPU: 3): 100%|██████████| 4/4 [03:18<00:00, 49.70s/it]\n",
      "Generating walks (CPU: 4): 100%|██████████| 4/4 [03:20<00:00, 50.18s/it]\n",
      "Generating walks (CPU: 5): 100%|██████████| 4/4 [03:20<00:00, 50.13s/it]\n"
     ]
    },
    {
     "output_type": "stream",
     "name": "stdout",
     "text": [
      "Training finished for p=1.1 q=2.1, saving to output files...\n",
      "Building + training for p=1.6 q=2.1...\n"
     ]
    },
    {
     "output_type": "display_data",
     "data": {
      "application/vnd.jupyter.widget-view+json": {
       "version_major": 2,
       "version_minor": 0,
       "model_id": "fe26fb42d8974332acc4e545ff2304be"
      },
      "text/plain": [
       "Computing transition probabilities:   0%|          | 0/224387 [00:00<?, ?it/s]"
      ]
     },
     "metadata": {}
    },
    {
     "output_type": "stream",
     "name": "stderr",
     "text": [
      "Generating walks (CPU: 1): 100%|██████████| 4/4 [03:23<00:00, 50.93s/it]\n",
      "Generating walks (CPU: 2): 100%|██████████| 4/4 [03:26<00:00, 51.56s/it]\n",
      "Generating walks (CPU: 3): 100%|██████████| 4/4 [03:25<00:00, 51.43s/it]\n",
      "Generating walks (CPU: 4): 100%|██████████| 4/4 [03:23<00:00, 50.88s/it]\n",
      "Generating walks (CPU: 5): 100%|██████████| 4/4 [03:20<00:00, 50.24s/it]\n"
     ]
    },
    {
     "output_type": "stream",
     "name": "stdout",
     "text": [
      "Training finished for p=1.6 q=2.1, saving to output files...\n",
      "Building + training for p=2.1 q=2.1...\n"
     ]
    },
    {
     "output_type": "display_data",
     "data": {
      "application/vnd.jupyter.widget-view+json": {
       "version_major": 2,
       "version_minor": 0,
       "model_id": "03254c8c3dd943df9750017bf4b4c79a"
      },
      "text/plain": [
       "Computing transition probabilities:   0%|          | 0/224387 [00:00<?, ?it/s]"
      ]
     },
     "metadata": {}
    },
    {
     "output_type": "stream",
     "name": "stderr",
     "text": [
      "Generating walks (CPU: 1): 100%|██████████| 4/4 [03:22<00:00, 50.64s/it]\n",
      "Generating walks (CPU: 2): 100%|██████████| 4/4 [03:25<00:00, 51.41s/it]\n",
      "Generating walks (CPU: 3): 100%|██████████| 4/4 [03:25<00:00, 51.28s/it]\n",
      "Generating walks (CPU: 4): 100%|██████████| 4/4 [03:25<00:00, 51.27s/it]\n",
      "Generating walks (CPU: 5): 100%|██████████| 4/4 [03:27<00:00, 51.94s/it]\n"
     ]
    },
    {
     "output_type": "stream",
     "name": "stdout",
     "text": [
      "Training finished for p=2.1 q=2.1, saving to output files...\n",
      "Building + training for p=2.6 q=2.1...\n"
     ]
    },
    {
     "output_type": "display_data",
     "data": {
      "application/vnd.jupyter.widget-view+json": {
       "version_major": 2,
       "version_minor": 0,
       "model_id": "943fdc26037b47f596249b0542883131"
      },
      "text/plain": [
       "Computing transition probabilities:   0%|          | 0/224387 [00:00<?, ?it/s]"
      ]
     },
     "metadata": {}
    },
    {
     "output_type": "stream",
     "name": "stderr",
     "text": [
      "Generating walks (CPU: 1): 100%|██████████| 4/4 [03:21<00:00, 50.44s/it]\n",
      "Generating walks (CPU: 2): 100%|██████████| 4/4 [03:30<00:00, 52.56s/it]\n",
      "Generating walks (CPU: 3): 100%|██████████| 4/4 [03:22<00:00, 50.63s/it]\n",
      "Generating walks (CPU: 4): 100%|██████████| 4/4 [03:26<00:00, 51.54s/it]\n",
      "Generating walks (CPU: 5): 100%|██████████| 4/4 [03:25<00:00, 51.41s/it]\n"
     ]
    },
    {
     "output_type": "stream",
     "name": "stdout",
     "text": [
      "Training finished for p=2.6 q=2.1, saving to output files...\n",
      "Building + training for p=0.1 q=2.6...\n"
     ]
    },
    {
     "output_type": "display_data",
     "data": {
      "application/vnd.jupyter.widget-view+json": {
       "version_major": 2,
       "version_minor": 0,
       "model_id": "5e1c2cc0e5e44354a1570ca643a5a8d6"
      },
      "text/plain": [
       "Computing transition probabilities:   0%|          | 0/224387 [00:00<?, ?it/s]"
      ]
     },
     "metadata": {}
    },
    {
     "output_type": "stream",
     "name": "stderr",
     "text": [
      "IOStream.flush timed out\n",
      "Generating walks (CPU: 1): 100%|██████████| 4/4 [03:19<00:00, 49.93s/it]\n",
      "Generating walks (CPU: 2): 100%|██████████| 4/4 [03:23<00:00, 50.80s/it]\n",
      "Generating walks (CPU: 3): 100%|██████████| 4/4 [03:17<00:00, 49.38s/it]\n",
      "Generating walks (CPU: 4): 100%|██████████| 4/4 [03:21<00:00, 50.31s/it]\n",
      "Generating walks (CPU: 5): 100%|██████████| 4/4 [03:19<00:00, 49.93s/it]\n"
     ]
    },
    {
     "output_type": "stream",
     "name": "stdout",
     "text": [
      "Training finished for p=0.1 q=2.6, saving to output files...\n",
      "Building + training for p=0.6 q=2.6...\n"
     ]
    },
    {
     "output_type": "display_data",
     "data": {
      "application/vnd.jupyter.widget-view+json": {
       "version_major": 2,
       "version_minor": 0,
       "model_id": "96332c8cb60246d78b680368e70c935b"
      },
      "text/plain": [
       "Computing transition probabilities:   0%|          | 0/224387 [00:00<?, ?it/s]"
      ]
     },
     "metadata": {}
    },
    {
     "output_type": "stream",
     "name": "stderr",
     "text": [
      "IOStream.flush timed out\n",
      "Generating walks (CPU: 1): 100%|██████████| 4/4 [03:23<00:00, 50.99s/it]\n",
      "Generating walks (CPU: 2): 100%|██████████| 4/4 [03:26<00:00, 51.53s/it]\n",
      "Generating walks (CPU: 3): 100%|██████████| 4/4 [03:29<00:00, 52.34s/it]\n",
      "Generating walks (CPU: 4): 100%|██████████| 4/4 [03:23<00:00, 50.92s/it]\n",
      "Generating walks (CPU: 5): 100%|██████████| 4/4 [03:19<00:00, 49.80s/it]\n"
     ]
    },
    {
     "output_type": "stream",
     "name": "stdout",
     "text": [
      "Training finished for p=0.6 q=2.6, saving to output files...\n",
      "Building + training for p=1.1 q=2.6...\n"
     ]
    },
    {
     "output_type": "display_data",
     "data": {
      "application/vnd.jupyter.widget-view+json": {
       "version_major": 2,
       "version_minor": 0,
       "model_id": "6dbbc69da9ac40b28a3f1c60235e0ebc"
      },
      "text/plain": [
       "Computing transition probabilities:   0%|          | 0/224387 [00:00<?, ?it/s]"
      ]
     },
     "metadata": {}
    },
    {
     "output_type": "stream",
     "name": "stderr",
     "text": [
      "IOStream.flush timed out\n",
      "Generating walks (CPU: 1): 100%|██████████| 4/4 [03:24<00:00, 51.18s/it]\n",
      "Generating walks (CPU: 2): 100%|██████████| 4/4 [03:25<00:00, 51.42s/it]\n",
      "Generating walks (CPU: 3): 100%|██████████| 4/4 [03:24<00:00, 51.05s/it]\n",
      "Generating walks (CPU: 4): 100%|██████████| 4/4 [03:22<00:00, 50.74s/it]\n",
      "Generating walks (CPU: 5): 100%|██████████| 4/4 [03:25<00:00, 51.36s/it]\n"
     ]
    },
    {
     "output_type": "stream",
     "name": "stdout",
     "text": [
      "Training finished for p=1.1 q=2.6, saving to output files...\n",
      "Building + training for p=1.6 q=2.6...\n"
     ]
    },
    {
     "output_type": "display_data",
     "data": {
      "application/vnd.jupyter.widget-view+json": {
       "version_major": 2,
       "version_minor": 0,
       "model_id": "bcdeece630ab470891f5320b487e9211"
      },
      "text/plain": [
       "Computing transition probabilities:   0%|          | 0/224387 [00:00<?, ?it/s]"
      ]
     },
     "metadata": {}
    },
    {
     "output_type": "stream",
     "name": "stderr",
     "text": [
      "IOStream.flush timed out\n",
      "Generating walks (CPU: 1): 100%|██████████| 4/4 [03:24<00:00, 51.21s/it]\n",
      "Generating walks (CPU: 2): 100%|██████████| 4/4 [03:28<00:00, 52.09s/it]\n",
      "Generating walks (CPU: 3): 100%|██████████| 4/4 [03:23<00:00, 50.94s/it]\n",
      "Generating walks (CPU: 4): 100%|██████████| 4/4 [03:25<00:00, 51.32s/it]\n",
      "Generating walks (CPU: 5): 100%|██████████| 4/4 [03:30<00:00, 52.58s/it]\n"
     ]
    },
    {
     "output_type": "stream",
     "name": "stdout",
     "text": [
      "Training finished for p=1.6 q=2.6, saving to output files...\n",
      "Building + training for p=2.1 q=2.6...\n"
     ]
    },
    {
     "output_type": "display_data",
     "data": {
      "application/vnd.jupyter.widget-view+json": {
       "version_major": 2,
       "version_minor": 0,
       "model_id": "72a3077dba0246f9a111a774ca742386"
      },
      "text/plain": [
       "Computing transition probabilities:   0%|          | 0/224387 [00:00<?, ?it/s]"
      ]
     },
     "metadata": {}
    },
    {
     "output_type": "stream",
     "name": "stderr",
     "text": [
      "IOStream.flush timed out\n",
      "Generating walks (CPU: 1): 100%|██████████| 4/4 [03:24<00:00, 51.09s/it]\n",
      "Generating walks (CPU: 2): 100%|██████████| 4/4 [03:24<00:00, 51.09s/it]\n",
      "Generating walks (CPU: 3): 100%|██████████| 4/4 [03:27<00:00, 52.00s/it]\n",
      "Generating walks (CPU: 4): 100%|██████████| 4/4 [03:23<00:00, 50.85s/it]\n",
      "Generating walks (CPU: 5): 100%|██████████| 4/4 [03:26<00:00, 51.57s/it]\n"
     ]
    },
    {
     "output_type": "stream",
     "name": "stdout",
     "text": [
      "Training finished for p=2.1 q=2.6, saving to output files...\n",
      "Building + training for p=2.6 q=2.6...\n"
     ]
    },
    {
     "output_type": "display_data",
     "data": {
      "application/vnd.jupyter.widget-view+json": {
       "version_major": 2,
       "version_minor": 0,
       "model_id": "ce7990eb42334757ac3789b0a213b58c"
      },
      "text/plain": [
       "Computing transition probabilities:   0%|          | 0/224387 [00:00<?, ?it/s]"
      ]
     },
     "metadata": {}
    },
    {
     "output_type": "stream",
     "name": "stderr",
     "text": [
      "Generating walks (CPU: 1): 100%|██████████| 4/4 [03:24<00:00, 51.18s/it]\n",
      "Generating walks (CPU: 2): 100%|██████████| 4/4 [03:23<00:00, 50.92s/it]\n",
      "Generating walks (CPU: 3): 100%|██████████| 4/4 [03:27<00:00, 51.97s/it]\n",
      "Generating walks (CPU: 4): 100%|██████████| 4/4 [03:24<00:00, 51.08s/it]\n",
      "Generating walks (CPU: 5): 100%|██████████| 4/4 [03:27<00:00, 51.77s/it]\n"
     ]
    },
    {
     "output_type": "stream",
     "name": "stdout",
     "text": [
      "Training finished for p=2.6 q=2.6, saving to output files...\n"
     ]
    }
   ],
   "metadata": {
    "id": "uSAdIoqf2nuh"
   }
  },
  {
   "cell_type": "code",
   "execution_count": 15,
   "source": [
    "p = 0.4\n",
    "q = 1.4\n",
    "node2vec_inst = build_model(dimensions=4, walk_length=10, num_walks=20, workers=5, p=p, q=q)\n",
    "model = train_model(node2vec_inst, window=7, min_count=1, workers=12, hs=1, sg=1)"
   ],
   "outputs": [
    {
     "output_type": "display_data",
     "data": {
      "application/vnd.jupyter.widget-view+json": {
       "version_major": 2,
       "version_minor": 0,
       "model_id": "e30eb1027f6a447282d3990468c98f62"
      },
      "text/plain": [
       "Computing transition probabilities:   0%|          | 0/215351 [00:00<?, ?it/s]"
      ]
     },
     "metadata": {}
    },
    {
     "output_type": "stream",
     "name": "stderr",
     "text": [
      "Generating walks (CPU: 1): 100%|██████████| 4/4 [03:24<00:00, 51.20s/it]\n",
      "Generating walks (CPU: 2): 100%|██████████| 4/4 [03:30<00:00, 52.57s/it]\n",
      "Generating walks (CPU: 3): 100%|██████████| 4/4 [03:29<00:00, 52.26s/it]\n",
      "Generating walks (CPU: 4): 100%|██████████| 4/4 [03:26<00:00, 51.61s/it]\n",
      "Generating walks (CPU: 5): 100%|██████████| 4/4 [03:25<00:00, 51.28s/it]\n"
     ]
    }
   ],
   "metadata": {}
  },
  {
   "cell_type": "code",
   "execution_count": 16,
   "source": [
    "output_file_name_base = f'work/hyperparam_search/68_5k_corpus_p_{int(p * 10)}_q_{int(q * 10)}'\n",
    "print(output_file_name_base)\n",
    "model.wv.save_word2vec_format(f\"{output_file_name_base}.w2v\", f\"{output_file_name_base}.vocab\")"
   ],
   "outputs": [
    {
     "output_type": "stream",
     "name": "stdout",
     "text": [
      "work/hyperparam_search/68_5k_corpus_p_4_q_14\n"
     ]
    }
   ],
   "metadata": {}
  },
  {
   "cell_type": "code",
   "execution_count": 28,
   "source": [
    "tv_room_id = str(ids_by_spotify_id['0EFfq11AFfQOjJ0PvAvvSW'])\n",
    "sleigh_bells_id = str(ids_by_spotify_id['59pWgeY26Q6yJy37QvJflh'])\n",
    "red_velvet_id = str(ids_by_spotify_id['1z4g3DjTBBZKhvAroFlhOM'])\n",
    "siinamota_id = str(ids_by_spotify_id['4qfQTMwNNuBKJ4rF9Lo4bD'])\n",
    "current_value_id = str(ids_by_spotify_id['6B9SjvZNSQZkeJDH17oBSO'])\n",
    "shiiit_id = str(ids_by_spotify_id['0RfocEzLe78RexLTeU1K2p'])\n",
    "skrillex_id = str(ids_by_spotify_id['5he5w2lnU9x7JFhnwcekXX'])\n",
    "kobaryo_id = str(ids_by_spotify_id['1Y81Ch90opScfpMfN17lZb'])\n",
    "loona_id = str(ids_by_spotify_id['52zMTJCKluDlFwMQWmccY7'])\n",
    "skylar_spence_id = str(ids_by_spotify_id['0x0u0jCVf5Jf4DNh45XPXL'])\n",
    "taylor_swift_id = str(ids_by_spotify_id['06HL4z0CvFAxyc27GXpf02'])\n",
    "freddie_dredd_id = str(ids_by_spotify_id['0dlDsD7y6ccmDm8tuWCU6F'])\n",
    "g_herbo_id = str(ids_by_spotify_id['5QdEbQJ3ylBnc3gsIASAT5'])\n",
    "fox_stevenson_id = str(ids_by_spotify_id['2BQWHuvxG4kMYnfghdaCIy'])\n",
    "lorde_id = str(ids_by_spotify_id['163tK9Wjr9P9DmM0AVK7lm'])\n",
    "neon_indian_id = str(ids_by_spotify_id['0KydPQPUUoTNhmiHKOg5Er'])\n",
    "quok_id = str(ids_by_spotify_id['1hjJ4bsbNMmbIih3d9Pq1H'])\n",
    "strfkr_id = str(ids_by_spotify_id['2Tz1DTzVJ5Gyh8ZwVr6ekU'])\n",
    "beatles_id = str(ids_by_spotify_id['3WrFJ7ztbogyGnTHbHJFl2'])\n",
    "drake_id = str(ids_by_spotify_id['3TVXtAsR1Inumwj472S9r4'])\n",
    "anamanaguchi_id = str(ids_by_spotify_id['2UwJRAgSOi1zcLkvUNc8XL'])\n",
    "ed_sheeran_id = str(ids_by_spotify_id['6eUKZXaKkcviH0Ku9w2n3V'])\n",
    "frank_sinatra_id = str(ids_by_spotify_id['1Mxqyy3pSjf8kZZL4QVxS0'])\n",
    "tame_impala_id = str(ids_by_spotify_id['5INjqkS1o8h1imAzPqGZBb'])\n",
    "queen_id = str(ids_by_spotify_id['1dfeR4HaWDbWqFHLkxsg1d'])\n",
    "ngutp_id = str(ids_by_spotify_id['0j5kVHxvTgUN4nBIPKCLRJ'])\n",
    "infected_mushroom_id = str(ids_by_spotify_id['6S2tas4z6DyIklBajDqJxI'])\n",
    "dither_id = str(ids_by_spotify_id['2CTPZndAY5BwdgHk8AX0B7'])\n",
    "john_williams_id = str(ids_by_spotify_id['3dRfiJ2650SZu6GbydcHNb'])\n",
    "dababy_id = str(ids_by_spotify_id['4r63FhuTkUYltbVAg5TQnk'])\n",
    "blackbear_id = str(ids_by_spotify_id['2cFrymmkijnjDg9SS92EPM'])\n",
    "chon_id = str(ids_by_spotify_id['2JFljHPanIjYy2QqfNYvC0'])\n",
    "deco_id = str(ids_by_spotify_id['7kZTWx6cRLc0TSRPq1XBMP'])\n",
    "dareharu_id = str(ids_by_spotify_id['4mcnvjLyW44CoKXDkUjPzh'])\n",
    "kupla_id = str(ids_by_spotify_id['7daSp9zXk1dmqNxwKFkL35'])\n",
    "pinnocchiop_id = str(ids_by_spotify_id['3b7jPCedJ2VH4l4rcOTvNC'])\n",
    "sugar_and_co_id = str(ids_by_spotify_id['4RCVsWUvlaucR1HTy8Tk7a'])\n",
    "\n",
    "(tv_room_id, sleigh_bells_id, red_velvet_id, siinamota_id, current_value_id, shiiit_id, skrillex_id, kobaryo_id, loona_id)"
   ],
   "outputs": [
    {
     "output_type": "execute_result",
     "data": {
      "text/plain": [
       "('912', '65', '643', '7801598', '57179651', '9318669', '248', '1339641', '515')"
      ]
     },
     "metadata": {},
     "execution_count": 28
    }
   ],
   "metadata": {}
  },
  {
   "cell_type": "code",
   "execution_count": 29,
   "source": [
    "a = quok_id\n",
    "b = dareharu_id\n",
    "diff = model.wv.get_vector(a) + model.wv.get_vector(b)\n",
    "diff \n",
    "\n",
    "closest = model.wv.similar_by_vector(diff)\n",
    "\n",
    "def compute_res(close):\n",
    "    a_dist = model.wv.distance(close, a)\n",
    "    b_dist = model.wv.distance(close, b)\n",
    "\n",
    "    return {'spotify_id': spotify_ids_by_id[int(close)],\n",
    "            'a_dist': a_dist,\n",
    "            'b_dist': b_dist,\n",
    "            'abs_dst_diff': abs(a_dist - b_dist)\n",
    "           }\n",
    "\n",
    "print(\"distance: \", model.wv.distance(a, b))\n",
    "\n",
    "[compute_res(close[0]) for close in closest[:3]]"
   ],
   "outputs": [
    {
     "output_type": "stream",
     "name": "stdout",
     "text": [
      "distance:  0.5944533050060272\n"
     ]
    },
    {
     "output_type": "execute_result",
     "data": {
      "text/plain": [
       "[{'spotify_id': '7BjLYT9osbeMveBb7dhlta',\n",
       "  'a_dist': 0.04651474952697754,\n",
       "  'b_dist': 0.48716074228286743,\n",
       "  'abs_dst_diff': 0.4406459927558899},\n",
       " {'spotify_id': '0j5kVHxvTgUN4nBIPKCLRJ',\n",
       "  'a_dist': 0.2172592282295227,\n",
       "  'b_dist': 0.29585587978363037,\n",
       "  'abs_dst_diff': 0.07859665155410767},\n",
       " {'spotify_id': '1eyg9AJYXvQaXtHyi77WCK',\n",
       "  'a_dist': 0.09310829639434814,\n",
       "  'b_dist': 0.452303409576416,\n",
       "  'abs_dst_diff': 0.35919511318206787}]"
      ]
     },
     "metadata": {},
     "execution_count": 29
    }
   ],
   "metadata": {}
  },
  {
   "cell_type": "code",
   "execution_count": 32,
   "source": [
    "def get_most_similar_to_both(id_a, id_b):\n",
    "    best_distance = 1000000\n",
    "    best_id = None\n",
    "    middle = model.wv.get_vector(id_a) + model.wv.get_vector(id_b)\n",
    "    for id in all_related_artists['id']:\n",
    "        id = str(id)\n",
    "        if id == id_a or id == id_b:\n",
    "            continue\n",
    "        a_dst = model.wv.distance(id_a, id)\n",
    "        b_dst = model.wv.distance(id_b, id)\n",
    "        cost = (a_dst**2 + b_dst**2)\n",
    "        dist_diff = abs(a_dst - b_dst)\n",
    "        distance = model.wv.distances(middle, [id])[0]\n",
    "        if distance < best_distance:\n",
    "            best_distance = distance\n",
    "            best_id = id\n",
    "        \n",
    "    return best_id"
   ],
   "outputs": [],
   "metadata": {}
  },
  {
   "cell_type": "code",
   "execution_count": 47,
   "source": [
    "model.wv.save_word2vec_format(\"work/100k_corpus_4_dims_new_settings_window_7.w2v\", \"work/100k_corpus_4_dims_new_settings_window_7.vocab\")"
   ],
   "outputs": [],
   "metadata": {}
  },
  {
   "cell_type": "code",
   "execution_count": 38,
   "source": [
    "# (model.wv.get_vector(dareharu_id) ,model.wv.get_vector(deco_id))\n",
    "\n",
    "def get_val_for_dim(id, dim_ix):\n",
    "    id = str(id)\n",
    "    vec = model.wv.get_vector(id)\n",
    "    return vec[dim_ix]\n",
    "\n",
    "def get_extremes_for_dim(dim_ix, buckets, count):\n",
    "    vals = [(spotify_ids_by_id[id], get_val_for_dim(id, dim_ix)) for id in all_related_artists['id']]\n",
    "    \n",
    "    vals.sort(key = lambda x: x[1])\n",
    "    partials_count = buckets - 2\n",
    "    partial_stride = int(len(vals) / partials_count)\n",
    "    \n",
    "    out = []\n",
    "    out.append(vals[:count])\n",
    "    \n",
    "    for partial_ix in range(1, partials_count):\n",
    "        middle = partial_ix * partial_stride\n",
    "        out.append(vals[(middle - int(count / 2)):(middle + int(count / 2))])\n",
    "    \n",
    "    out.append(vals[-count:])\n",
    "            \n",
    "    return out"
   ],
   "outputs": [],
   "metadata": {}
  },
  {
   "cell_type": "code",
   "execution_count": 39,
   "source": [
    "get_extremes_for_dim(0, 20, 4)"
   ],
   "outputs": [
    {
     "output_type": "execute_result",
     "data": {
      "text/plain": [
       "[[('2ovJLSejirvJybNers2YG6', -12.486315),\n",
       "  ('50BzmPPHNTQjeLW5JvrZJs', -12.470005),\n",
       "  ('62ABL5pqowZJin1fkheWo7', -12.30272),\n",
       "  ('4z6dlDfmoZstfKLVC60nM0', -12.292496)],\n",
       " [('2tR9SGGAyNGg8A3GBoOFbP', -9.395903),\n",
       "  ('1OY65G9NJJHsSt1lGLZU6q', -9.395884),\n",
       "  ('3zrnHI8M8fvS6VmPF8behc', -9.395685),\n",
       "  ('3AGrDAZx8XN9LhuVxwVN26', -9.3956375)],\n",
       " [('30TUV9gTBJ8ffWRMe3O2J0', -7.9888005),\n",
       "  ('3lSs59gV3uuobbJ6uOtizq', -7.9886775),\n",
       "  ('6nu39YK7u99qv6JdygWuxG', -7.9886584),\n",
       "  ('6uqOd0qw9avpT0vCyCZ4DX', -7.9876323)],\n",
       " [('13BVQ7HFExOqU7IIGLj5zz', -6.969541),\n",
       "  ('566KzI0kXa1dQ3em27iQtr', -6.969527),\n",
       "  ('5RnsHSCPrlCxP9A1NTT7jS', -6.968781),\n",
       "  ('37bsUoMW0Hbqj1l0MxDkDw', -6.9682755)],\n",
       " [('3DDcmHnwKjM4sQ8qm34JMU', -5.623506),\n",
       "  ('3PS5OcUQlmA1epxoBau3YI', -5.6231227),\n",
       "  ('5eRKMbpTG8cIUdfomXcJ80', -5.622978),\n",
       "  ('3VNITwohbvU5Wuy5PC6dsI', -5.6226377)],\n",
       " [('0EziqO4Mehje1x6hA1Fg2m', -4.0594497),\n",
       "  ('6nnspeopmJAG07xOxHmqTu', -4.0592394),\n",
       "  ('68Uwx1d3EbjDJhYsLjqvIq', -4.059202),\n",
       "  ('08GQAI4eElDnROBrJRGE0X', -4.0591693)],\n",
       " [('1Db5GsIoVWYktPoD2nnPZZ', -2.783571),\n",
       "  ('7oaQcTqp6TnWoCjNZRitki', -2.783267),\n",
       "  ('2YjZP3rHnFiJNTw6ZkCJkl', -2.7828648),\n",
       "  ('7fmsT5hyByIpjzMfgrhTM2', -2.7828565)],\n",
       " [('1YghQU3PwfnDu94PRfE4pv', -1.6729314),\n",
       "  ('2GLnl4GIZIjqAcOA59LgBs', -1.6728997),\n",
       "  ('33U1cMFOIyDv5fOfPn3U9a', -1.6727728),\n",
       "  ('6p8wVHDOljhtAZQWAwIHN8', -1.672662)],\n",
       " [('3LC8PXXgk7YtAIobtjSdNi', -0.9220733),\n",
       "  ('7ctsal9ytPepDm9G4zLEe2', -0.921718),\n",
       "  ('6gDJZtsAqxz40PoM9ecVAj', -0.92166126),\n",
       "  ('2cyaobEho8uxhqLxwG7j6i', -0.9216186)],\n",
       " [('1LyIzaKPng1lxNmkDXaryI', -0.38226873),\n",
       "  ('2oNZUW4sR0AGXRyPExtFnW', -0.38221857),\n",
       "  ('7LgMETw5wUxCOnKwxkN3l6', -0.38220933),\n",
       "  ('6NZ4NDGpMT4p82PCJh57Ec', -0.38210952)],\n",
       " [('0vntgse6gPZfthoW8kTTlR', -0.030594088),\n",
       "  ('6OIOZX6Z9rT2t43sc9euey', -0.030581871),\n",
       "  ('32bYdgHBO0OEy2tCQQpWAX', -0.030423373),\n",
       "  ('42qROpmrVb8V0UXYJ5WJxB', -0.030354658)],\n",
       " [('63vMehdxxRWq9HBZHskapk', 0.41216847),\n",
       "  ('3BYXi96LqI8TwNljFKE0DZ', 0.41223904),\n",
       "  ('3y9hQYlwNKqhdybIJTFzTr', 0.41224322),\n",
       "  ('25BObiRSDCMwVrBGIVaLIf', 0.41226256)],\n",
       " [('69LsPQEcmyMBXbdMKWT6Yq', 0.9165521),\n",
       "  ('4ULIhLE7QOtxj1MVzJf1D1', 0.9165958),\n",
       "  ('2co7DOgwGD4k687xzJRl7T', 0.91674244),\n",
       "  ('16NdOHGyaRuFv1365u0XEf', 0.9168507)],\n",
       " [('4cqJ9qrx5RcNpDjDKF7Wmp', 1.6466616),\n",
       "  ('678aHai0twQ5ZJcqO1KYWl', 1.647007),\n",
       "  ('4PM7uuFnzArhW3FNNBeMXA', 1.6470567),\n",
       "  ('1OWJnRtwSNjKd2Fk77inxN', 1.647113)],\n",
       " [('0yp6xP5xe1qarfugfTixOK', 2.530884),\n",
       "  ('0ksNNF08VvPbHDXN06mrYa', 2.531411),\n",
       "  ('7J9XYbeEju3T584uksOGa8', 2.5315468),\n",
       "  ('6uJ51uV5rYzu1MJkC4CceI', 2.531723)],\n",
       " [('0ntzbBdKbiyPx06Xscs9UI', 3.323309),\n",
       "  ('0aF4uopelh675gJDvtpCnU', 3.3233523),\n",
       "  ('0dZtTwj66FiV3rIzmXNhKP', 3.323355),\n",
       "  ('1TkIGRBCuoAcMLoJ8LoHrF', 3.3233702)],\n",
       " [('1oqH688lBsnmVxMXvjZoU6', 4.0082374),\n",
       "  ('1i9NxPRrKcoW34XTMnvzJy', 4.0082636),\n",
       "  ('7kOnKv7CHaq24tNAa2moIZ', 4.008337),\n",
       "  ('4R0EwsTKt1LIFcdezmuezM', 4.0083947)],\n",
       " [('1FY8kqUQKHwjibwLbp5cey', 4.7007737),\n",
       "  ('6ddqZNX6Gi1xMfhanx1YPg', 4.7009),\n",
       "  ('6fllSzvyC7OruOFZisOELq', 4.700941),\n",
       "  ('5sOgzfg5XUnrFXoAeHGzyq', 4.701002)],\n",
       " [('3cOY6XMFQ12Q0D6Xif7BZh', 6.2428455),\n",
       "  ('2u6bGmRfORH1y0WS9qY0Ht', 6.244888),\n",
       "  ('3kwdB3aUfg0uneHczX2vTG', 6.2613926),\n",
       "  ('0HIKqYB0w8b0I12mEVFmGv', 6.2637362)]]"
      ]
     },
     "metadata": {},
     "execution_count": 39
    }
   ],
   "metadata": {}
  },
  {
   "cell_type": "code",
   "execution_count": 58,
   "source": [
    "!mv ./*.vocab ./work"
   ],
   "outputs": [],
   "metadata": {}
  }
 ],
 "metadata": {
  "colab": {
   "collapsed_sections": [],
   "name": "spotify_related_artists_embedding.ipynb",
   "provenance": []
  },
  "kernelspec": {
   "name": "python3",
   "display_name": "Python 3 (ipykernel)",
   "language": "python"
  },
  "widgets": {
   "application/vnd.jupyter.widget-state+json": {
    "019309acd77c42d1b037a2d58bb44b67": {
     "model_module": "@jupyter-widgets/base",
     "model_name": "LayoutModel",
     "state": {
      "_model_module": "@jupyter-widgets/base",
      "_model_module_version": "1.2.0",
      "_model_name": "LayoutModel",
      "_view_count": null,
      "_view_module": "@jupyter-widgets/base",
      "_view_module_version": "1.2.0",
      "_view_name": "LayoutView",
      "align_content": null,
      "align_items": null,
      "align_self": null,
      "border": null,
      "bottom": null,
      "display": null,
      "flex": null,
      "flex_flow": null,
      "grid_area": null,
      "grid_auto_columns": null,
      "grid_auto_flow": null,
      "grid_auto_rows": null,
      "grid_column": null,
      "grid_gap": null,
      "grid_row": null,
      "grid_template_areas": null,
      "grid_template_columns": null,
      "grid_template_rows": null,
      "height": null,
      "justify_content": null,
      "justify_items": null,
      "left": null,
      "margin": null,
      "max_height": null,
      "max_width": null,
      "min_height": null,
      "min_width": null,
      "object_fit": null,
      "object_position": null,
      "order": null,
      "overflow": null,
      "overflow_x": null,
      "overflow_y": null,
      "padding": null,
      "right": null,
      "top": null,
      "visibility": null,
      "width": null
     }
    },
    "0cc83a7ac3c04c08ace4b30f730a08c5": {
     "model_module": "@jupyter-widgets/base",
     "model_name": "LayoutModel",
     "state": {
      "_model_module": "@jupyter-widgets/base",
      "_model_module_version": "1.2.0",
      "_model_name": "LayoutModel",
      "_view_count": null,
      "_view_module": "@jupyter-widgets/base",
      "_view_module_version": "1.2.0",
      "_view_name": "LayoutView",
      "align_content": null,
      "align_items": null,
      "align_self": null,
      "border": null,
      "bottom": null,
      "display": null,
      "flex": null,
      "flex_flow": null,
      "grid_area": null,
      "grid_auto_columns": null,
      "grid_auto_flow": null,
      "grid_auto_rows": null,
      "grid_column": null,
      "grid_gap": null,
      "grid_row": null,
      "grid_template_areas": null,
      "grid_template_columns": null,
      "grid_template_rows": null,
      "height": null,
      "justify_content": null,
      "justify_items": null,
      "left": null,
      "margin": null,
      "max_height": null,
      "max_width": null,
      "min_height": null,
      "min_width": null,
      "object_fit": null,
      "object_position": null,
      "order": null,
      "overflow": null,
      "overflow_x": null,
      "overflow_y": null,
      "padding": null,
      "right": null,
      "top": null,
      "visibility": null,
      "width": null
     }
    },
    "73376e9595194b5a84336d54d7fdb89a": {
     "model_module": "@jupyter-widgets/controls",
     "model_name": "HTMLModel",
     "state": {
      "_dom_classes": [],
      "_model_module": "@jupyter-widgets/controls",
      "_model_module_version": "1.5.0",
      "_model_name": "HTMLModel",
      "_view_count": null,
      "_view_module": "@jupyter-widgets/controls",
      "_view_module_version": "1.5.0",
      "_view_name": "HTMLView",
      "description": "",
      "description_tooltip": null,
      "layout": "IPY_MODEL_019309acd77c42d1b037a2d58bb44b67",
      "placeholder": "​",
      "style": "IPY_MODEL_be88f77765d343e4a3f973deac58cf67",
      "value": " 4544/4544 [00:01&lt;00:00, 2356.98it/s]"
     }
    },
    "806334824d95428bb72fc063561a2cef": {
     "model_module": "@jupyter-widgets/controls",
     "model_name": "ProgressStyleModel",
     "state": {
      "_model_module": "@jupyter-widgets/controls",
      "_model_module_version": "1.5.0",
      "_model_name": "ProgressStyleModel",
      "_view_count": null,
      "_view_module": "@jupyter-widgets/base",
      "_view_module_version": "1.2.0",
      "_view_name": "StyleView",
      "bar_color": null,
      "description_width": "initial"
     }
    },
    "9cf7f63e93e24206a1e16c2b2983472a": {
     "model_module": "@jupyter-widgets/controls",
     "model_name": "HBoxModel",
     "state": {
      "_dom_classes": [],
      "_model_module": "@jupyter-widgets/controls",
      "_model_module_version": "1.5.0",
      "_model_name": "HBoxModel",
      "_view_count": null,
      "_view_module": "@jupyter-widgets/controls",
      "_view_module_version": "1.5.0",
      "_view_name": "HBoxView",
      "box_style": "",
      "children": [
       "IPY_MODEL_e4aa12d543ac445fbfffe5c20bc1c415",
       "IPY_MODEL_73376e9595194b5a84336d54d7fdb89a"
      ],
      "layout": "IPY_MODEL_9e98c2f82aa442bb98cf69a447abf919"
     }
    },
    "9e98c2f82aa442bb98cf69a447abf919": {
     "model_module": "@jupyter-widgets/base",
     "model_name": "LayoutModel",
     "state": {
      "_model_module": "@jupyter-widgets/base",
      "_model_module_version": "1.2.0",
      "_model_name": "LayoutModel",
      "_view_count": null,
      "_view_module": "@jupyter-widgets/base",
      "_view_module_version": "1.2.0",
      "_view_name": "LayoutView",
      "align_content": null,
      "align_items": null,
      "align_self": null,
      "border": null,
      "bottom": null,
      "display": null,
      "flex": null,
      "flex_flow": null,
      "grid_area": null,
      "grid_auto_columns": null,
      "grid_auto_flow": null,
      "grid_auto_rows": null,
      "grid_column": null,
      "grid_gap": null,
      "grid_row": null,
      "grid_template_areas": null,
      "grid_template_columns": null,
      "grid_template_rows": null,
      "height": null,
      "justify_content": null,
      "justify_items": null,
      "left": null,
      "margin": null,
      "max_height": null,
      "max_width": null,
      "min_height": null,
      "min_width": null,
      "object_fit": null,
      "object_position": null,
      "order": null,
      "overflow": null,
      "overflow_x": null,
      "overflow_y": null,
      "padding": null,
      "right": null,
      "top": null,
      "visibility": null,
      "width": null
     }
    },
    "be88f77765d343e4a3f973deac58cf67": {
     "model_module": "@jupyter-widgets/controls",
     "model_name": "DescriptionStyleModel",
     "state": {
      "_model_module": "@jupyter-widgets/controls",
      "_model_module_version": "1.5.0",
      "_model_name": "DescriptionStyleModel",
      "_view_count": null,
      "_view_module": "@jupyter-widgets/base",
      "_view_module_version": "1.2.0",
      "_view_name": "StyleView",
      "description_width": ""
     }
    },
    "e4aa12d543ac445fbfffe5c20bc1c415": {
     "model_module": "@jupyter-widgets/controls",
     "model_name": "FloatProgressModel",
     "state": {
      "_dom_classes": [],
      "_model_module": "@jupyter-widgets/controls",
      "_model_module_version": "1.5.0",
      "_model_name": "FloatProgressModel",
      "_view_count": null,
      "_view_module": "@jupyter-widgets/controls",
      "_view_module_version": "1.5.0",
      "_view_name": "ProgressView",
      "bar_style": "success",
      "description": "Computing transition probabilities: 100%",
      "description_tooltip": null,
      "layout": "IPY_MODEL_0cc83a7ac3c04c08ace4b30f730a08c5",
      "max": 4544,
      "min": 0,
      "orientation": "horizontal",
      "style": "IPY_MODEL_806334824d95428bb72fc063561a2cef",
      "value": 4544
     }
    }
   }
  },
  "interpreter": {
   "hash": "e77e9247e0c1fe4342d1c8db58a2b74cc4bbb153657f7c74c06cdb50b999827b"
  },
  "language_info": {
   "name": "python",
   "version": "3.9.6",
   "mimetype": "text/x-python",
   "codemirror_mode": {
    "name": "ipython",
    "version": 3
   },
   "pygments_lexer": "ipython3",
   "nbconvert_exporter": "python",
   "file_extension": ".py"
  }
 },
 "nbformat": 4,
 "nbformat_minor": 1
}