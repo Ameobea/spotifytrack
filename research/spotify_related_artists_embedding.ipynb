{
 "cells": [
  {
   "cell_type": "code",
   "execution_count": 6,
   "source": [
    "!sudo apt update\n",
    "!sudo apt -y install build-essential\n",
    "!pip install networkx node2vec python-Levenshtein sklearn"
   ],
   "outputs": [
    {
     "output_type": "stream",
     "name": "stdout",
     "text": [
      "Hit:1 http://security.ubuntu.com/ubuntu focal-security InRelease\n",
      "Hit:2 http://archive.ubuntu.com/ubuntu focal InRelease\n",
      "Hit:3 http://archive.ubuntu.com/ubuntu focal-updates InRelease\n",
      "Hit:4 http://archive.ubuntu.com/ubuntu focal-backports InRelease\n",
      "\n",
      "\n",
      "\n",
      "25 packages can be upgraded. Run 'apt list --upgradable' to see them.\n",
      "\n",
      "\n",
      "\n",
      "build-essential is already the newest version (12.8ubuntu1.1).\n",
      "0 upgraded, 0 newly installed, 0 to remove and 25 not upgraded.\n",
      "Requirement already satisfied: networkx in /opt/conda/lib/python3.9/site-packages (2.5)\n",
      "Requirement already satisfied: node2vec in /opt/conda/lib/python3.9/site-packages (0.4.3)\n",
      "Requirement already satisfied: python-Levenshtein in /opt/conda/lib/python3.9/site-packages (0.12.2)\n",
      "Requirement already satisfied: sklearn in /opt/conda/lib/python3.9/site-packages (0.0)\n",
      "Requirement already satisfied: decorator>=4.3.0 in /opt/conda/lib/python3.9/site-packages (from networkx) (5.0.9)\n",
      "Requirement already satisfied: tqdm in /opt/conda/lib/python3.9/site-packages (from node2vec) (4.61.2)\n",
      "Requirement already satisfied: numpy in /opt/conda/lib/python3.9/site-packages (from node2vec) (1.21.1)\n",
      "Requirement already satisfied: gensim in /opt/conda/lib/python3.9/site-packages (from node2vec) (4.0.1)\n",
      "Requirement already satisfied: joblib>=0.13.2 in /opt/conda/lib/python3.9/site-packages (from node2vec) (1.0.1)\n",
      "Requirement already satisfied: setuptools in /opt/conda/lib/python3.9/site-packages (from python-Levenshtein) (49.6.0.post20210108)\n",
      "Requirement already satisfied: scikit-learn in /opt/conda/lib/python3.9/site-packages (from sklearn) (0.24.2)\n",
      "Requirement already satisfied: smart-open>=1.8.1 in /opt/conda/lib/python3.9/site-packages (from gensim->node2vec) (5.1.0)\n",
      "Requirement already satisfied: scipy>=0.18.1 in /opt/conda/lib/python3.9/site-packages (from gensim->node2vec) (1.7.0)\n",
      "Requirement already satisfied: threadpoolctl>=2.0.0 in /opt/conda/lib/python3.9/site-packages (from scikit-learn->sklearn) (2.2.0)\n"
     ]
    }
   ],
   "metadata": {
    "colab": {
     "base_uri": "https://localhost:8080/"
    },
    "id": "fBRKksgNa5x9",
    "outputId": "7245d5c2-188d-4231-a9df-317633dfd72f"
   }
  },
  {
   "cell_type": "code",
   "execution_count": 7,
   "source": [
    "import pandas as pd\n",
    "\n",
    "index = pd.read_csv('https://ameo.dev/spotify_items.csv.gz', compression = 'gzip')"
   ],
   "outputs": [],
   "metadata": {
    "id": "FFcl7fI2gziU"
   }
  },
  {
   "cell_type": "code",
   "execution_count": 8,
   "source": [
    "index.head()"
   ],
   "outputs": [
    {
     "output_type": "execute_result",
     "data": {
      "text/plain": [
       "          id              spotify_id\n",
       "0  146079057  0000BlyH0BpSivfg8y7QSb\n",
       "1  146505418  0001cekkfdEBoMlwVQvpLg\n",
       "2   88525725  0001wHqxbF2YYRQxGdbyER\n",
       "3  116519192  0001ZVMPt41Vwzt1zsmuzp\n",
       "4  115213790  0002XY9y3JhjzTZqNCqEcv"
      ],
      "text/html": [
       "<div>\n",
       "<style scoped>\n",
       "    .dataframe tbody tr th:only-of-type {\n",
       "        vertical-align: middle;\n",
       "    }\n",
       "\n",
       "    .dataframe tbody tr th {\n",
       "        vertical-align: top;\n",
       "    }\n",
       "\n",
       "    .dataframe thead th {\n",
       "        text-align: right;\n",
       "    }\n",
       "</style>\n",
       "<table border=\"1\" class=\"dataframe\">\n",
       "  <thead>\n",
       "    <tr style=\"text-align: right;\">\n",
       "      <th></th>\n",
       "      <th>id</th>\n",
       "      <th>spotify_id</th>\n",
       "    </tr>\n",
       "  </thead>\n",
       "  <tbody>\n",
       "    <tr>\n",
       "      <th>0</th>\n",
       "      <td>146079057</td>\n",
       "      <td>0000BlyH0BpSivfg8y7QSb</td>\n",
       "    </tr>\n",
       "    <tr>\n",
       "      <th>1</th>\n",
       "      <td>146505418</td>\n",
       "      <td>0001cekkfdEBoMlwVQvpLg</td>\n",
       "    </tr>\n",
       "    <tr>\n",
       "      <th>2</th>\n",
       "      <td>88525725</td>\n",
       "      <td>0001wHqxbF2YYRQxGdbyER</td>\n",
       "    </tr>\n",
       "    <tr>\n",
       "      <th>3</th>\n",
       "      <td>116519192</td>\n",
       "      <td>0001ZVMPt41Vwzt1zsmuzp</td>\n",
       "    </tr>\n",
       "    <tr>\n",
       "      <th>4</th>\n",
       "      <td>115213790</td>\n",
       "      <td>0002XY9y3JhjzTZqNCqEcv</td>\n",
       "    </tr>\n",
       "  </tbody>\n",
       "</table>\n",
       "</div>"
      ]
     },
     "metadata": {},
     "execution_count": 8
    }
   ],
   "metadata": {
    "colab": {
     "base_uri": "https://localhost:8080/",
     "height": 206
    },
    "id": "t-SDr03i3_jA",
    "outputId": "c2706051-c30a-486f-96cd-965d9c433933"
   }
  },
  {
   "cell_type": "code",
   "execution_count": 9,
   "source": [
    "spotify_ids_by_id = {}\n",
    "\n",
    "for (id, artist_spotify_id) in index.itertuples(index=False):\n",
    "  spotify_ids_by_id[int(id)] = artist_spotify_id"
   ],
   "outputs": [],
   "metadata": {
    "id": "AiUgTb2NxNoD"
   }
  },
  {
   "cell_type": "code",
   "execution_count": 10,
   "source": [
    "ids_by_spotify_id = {}\n",
    "\n",
    "for (id, spotify_id) in spotify_ids_by_id.items():\n",
    "  ids_by_spotify_id[spotify_id] = id"
   ],
   "outputs": [],
   "metadata": {
    "id": "lZcgFtC842wL"
   }
  },
  {
   "cell_type": "code",
   "execution_count": 11,
   "source": [
    "related_artists_raw = pd.read_csv('https://ameo.dev/related_artists.csv.gz', compression = 'gzip')"
   ],
   "outputs": [],
   "metadata": {
    "id": "q7iG6D7uyN92"
   }
  },
  {
   "cell_type": "code",
   "execution_count": 12,
   "source": [
    "related_artists_raw.head()"
   ],
   "outputs": [
    {
     "output_type": "execute_result",
     "data": {
      "text/plain": [
       "   artist_spotify_id                               related_artists_json\n",
       "0                  1  [\"5uCktjKM1Rf9VnUvFD6j17\",\"5FAjeD9eW52qvpik9Os...\n",
       "1                  2  [\"3j24yoSFDD11h1OszJFfVY\",\"2OgP0RGmDrXN9kOWRNf...\n",
       "2                  3  [\"0UM3yh4PeDSWa9cnHJ0jgW\",\"0q0K0FV5t8OnVpbIQTX...\n",
       "3                  4  [\"7gjAu1qr5C2grXeQFFOGeh\",\"1qcU8NabUQ5efQf8UGW...\n",
       "4                  5  [\"3QpNnKSjUIIMwFei8h3eOj\",\"04Y5zXsFqYRzDr6tMXj..."
      ],
      "text/html": [
       "<div>\n",
       "<style scoped>\n",
       "    .dataframe tbody tr th:only-of-type {\n",
       "        vertical-align: middle;\n",
       "    }\n",
       "\n",
       "    .dataframe tbody tr th {\n",
       "        vertical-align: top;\n",
       "    }\n",
       "\n",
       "    .dataframe thead th {\n",
       "        text-align: right;\n",
       "    }\n",
       "</style>\n",
       "<table border=\"1\" class=\"dataframe\">\n",
       "  <thead>\n",
       "    <tr style=\"text-align: right;\">\n",
       "      <th></th>\n",
       "      <th>artist_spotify_id</th>\n",
       "      <th>related_artists_json</th>\n",
       "    </tr>\n",
       "  </thead>\n",
       "  <tbody>\n",
       "    <tr>\n",
       "      <th>0</th>\n",
       "      <td>1</td>\n",
       "      <td>[\"5uCktjKM1Rf9VnUvFD6j17\",\"5FAjeD9eW52qvpik9Os...</td>\n",
       "    </tr>\n",
       "    <tr>\n",
       "      <th>1</th>\n",
       "      <td>2</td>\n",
       "      <td>[\"3j24yoSFDD11h1OszJFfVY\",\"2OgP0RGmDrXN9kOWRNf...</td>\n",
       "    </tr>\n",
       "    <tr>\n",
       "      <th>2</th>\n",
       "      <td>3</td>\n",
       "      <td>[\"0UM3yh4PeDSWa9cnHJ0jgW\",\"0q0K0FV5t8OnVpbIQTX...</td>\n",
       "    </tr>\n",
       "    <tr>\n",
       "      <th>3</th>\n",
       "      <td>4</td>\n",
       "      <td>[\"7gjAu1qr5C2grXeQFFOGeh\",\"1qcU8NabUQ5efQf8UGW...</td>\n",
       "    </tr>\n",
       "    <tr>\n",
       "      <th>4</th>\n",
       "      <td>5</td>\n",
       "      <td>[\"3QpNnKSjUIIMwFei8h3eOj\",\"04Y5zXsFqYRzDr6tMXj...</td>\n",
       "    </tr>\n",
       "  </tbody>\n",
       "</table>\n",
       "</div>"
      ]
     },
     "metadata": {},
     "execution_count": 12
    }
   ],
   "metadata": {
    "colab": {
     "base_uri": "https://localhost:8080/",
     "height": 206
    },
    "id": "GE5rNay1z5iL",
    "outputId": "a74e5732-f4e0-4194-ce14-1ae5d37344f3"
   }
  },
  {
   "cell_type": "code",
   "execution_count": 13,
   "source": [
    "related_artists_raw['id'] = related_artists_raw['artist_spotify_id']\n",
    "related_artists_raw['artist_spotify_id'] = related_artists_raw['artist_spotify_id'].apply(lambda id: spotify_ids_by_id[int(id)])"
   ],
   "outputs": [],
   "metadata": {
    "id": "l3ys2pitz8VA"
   }
  },
  {
   "cell_type": "code",
   "execution_count": 14,
   "source": [
    "related_artists_raw.head()"
   ],
   "outputs": [
    {
     "output_type": "execute_result",
     "data": {
      "text/plain": [
       "        artist_spotify_id                               related_artists_json  \\\n",
       "0  4IuaUq1boR1KVcutaID4Zx  [\"5uCktjKM1Rf9VnUvFD6j17\",\"5FAjeD9eW52qvpik9Os...   \n",
       "1  2UwJRAgSOi1zcLkvUNc8XL  [\"3j24yoSFDD11h1OszJFfVY\",\"2OgP0RGmDrXN9kOWRNf...   \n",
       "2  4BrtGOYp8sytG9MV91DROT  [\"0UM3yh4PeDSWa9cnHJ0jgW\",\"0q0K0FV5t8OnVpbIQTX...   \n",
       "3  1xU878Z1QtBldR7ru9owdU  [\"7gjAu1qr5C2grXeQFFOGeh\",\"1qcU8NabUQ5efQf8UGW...   \n",
       "4  2Ub06wAIR1hERODcCkKhzx  [\"3QpNnKSjUIIMwFei8h3eOj\",\"04Y5zXsFqYRzDr6tMXj...   \n",
       "\n",
       "   id  \n",
       "0   1  \n",
       "1   2  \n",
       "2   3  \n",
       "3   4  \n",
       "4   5  "
      ],
      "text/html": [
       "<div>\n",
       "<style scoped>\n",
       "    .dataframe tbody tr th:only-of-type {\n",
       "        vertical-align: middle;\n",
       "    }\n",
       "\n",
       "    .dataframe tbody tr th {\n",
       "        vertical-align: top;\n",
       "    }\n",
       "\n",
       "    .dataframe thead th {\n",
       "        text-align: right;\n",
       "    }\n",
       "</style>\n",
       "<table border=\"1\" class=\"dataframe\">\n",
       "  <thead>\n",
       "    <tr style=\"text-align: right;\">\n",
       "      <th></th>\n",
       "      <th>artist_spotify_id</th>\n",
       "      <th>related_artists_json</th>\n",
       "      <th>id</th>\n",
       "    </tr>\n",
       "  </thead>\n",
       "  <tbody>\n",
       "    <tr>\n",
       "      <th>0</th>\n",
       "      <td>4IuaUq1boR1KVcutaID4Zx</td>\n",
       "      <td>[\"5uCktjKM1Rf9VnUvFD6j17\",\"5FAjeD9eW52qvpik9Os...</td>\n",
       "      <td>1</td>\n",
       "    </tr>\n",
       "    <tr>\n",
       "      <th>1</th>\n",
       "      <td>2UwJRAgSOi1zcLkvUNc8XL</td>\n",
       "      <td>[\"3j24yoSFDD11h1OszJFfVY\",\"2OgP0RGmDrXN9kOWRNf...</td>\n",
       "      <td>2</td>\n",
       "    </tr>\n",
       "    <tr>\n",
       "      <th>2</th>\n",
       "      <td>4BrtGOYp8sytG9MV91DROT</td>\n",
       "      <td>[\"0UM3yh4PeDSWa9cnHJ0jgW\",\"0q0K0FV5t8OnVpbIQTX...</td>\n",
       "      <td>3</td>\n",
       "    </tr>\n",
       "    <tr>\n",
       "      <th>3</th>\n",
       "      <td>1xU878Z1QtBldR7ru9owdU</td>\n",
       "      <td>[\"7gjAu1qr5C2grXeQFFOGeh\",\"1qcU8NabUQ5efQf8UGW...</td>\n",
       "      <td>4</td>\n",
       "    </tr>\n",
       "    <tr>\n",
       "      <th>4</th>\n",
       "      <td>2Ub06wAIR1hERODcCkKhzx</td>\n",
       "      <td>[\"3QpNnKSjUIIMwFei8h3eOj\",\"04Y5zXsFqYRzDr6tMXj...</td>\n",
       "      <td>5</td>\n",
       "    </tr>\n",
       "  </tbody>\n",
       "</table>\n",
       "</div>"
      ]
     },
     "metadata": {},
     "execution_count": 14
    }
   ],
   "metadata": {
    "colab": {
     "base_uri": "https://localhost:8080/",
     "height": 206
    },
    "id": "HoFd36va0HiZ",
    "outputId": "c38db952-744d-4cdd-aaa6-b2716cb4a9e8"
   }
  },
  {
   "cell_type": "code",
   "execution_count": 15,
   "source": [
    "import json\n",
    "\n",
    "related_artists_raw['related_artists'] = related_artists_raw['related_artists_json'].apply(lambda x: json.loads(x))"
   ],
   "outputs": [],
   "metadata": {
    "id": "8V56sTiM0QlE"
   }
  },
  {
   "cell_type": "code",
   "execution_count": 16,
   "source": [
    "del related_artists_raw['related_artists_json']\n",
    "related_artists_raw.head()"
   ],
   "outputs": [
    {
     "output_type": "execute_result",
     "data": {
      "text/plain": [
       "        artist_spotify_id  id  \\\n",
       "0  4IuaUq1boR1KVcutaID4Zx   1   \n",
       "1  2UwJRAgSOi1zcLkvUNc8XL   2   \n",
       "2  4BrtGOYp8sytG9MV91DROT   3   \n",
       "3  1xU878Z1QtBldR7ru9owdU   4   \n",
       "4  2Ub06wAIR1hERODcCkKhzx   5   \n",
       "\n",
       "                                     related_artists  \n",
       "0  [5uCktjKM1Rf9VnUvFD6j17, 5FAjeD9eW52qvpik9OsnV...  \n",
       "1  [3j24yoSFDD11h1OszJFfVY, 2OgP0RGmDrXN9kOWRNfEu...  \n",
       "2  [0UM3yh4PeDSWa9cnHJ0jgW, 0q0K0FV5t8OnVpbIQTXOh...  \n",
       "3  [7gjAu1qr5C2grXeQFFOGeh, 1qcU8NabUQ5efQf8UGW6C...  \n",
       "4  [3QpNnKSjUIIMwFei8h3eOj, 04Y5zXsFqYRzDr6tMXj6a...  "
      ],
      "text/html": [
       "<div>\n",
       "<style scoped>\n",
       "    .dataframe tbody tr th:only-of-type {\n",
       "        vertical-align: middle;\n",
       "    }\n",
       "\n",
       "    .dataframe tbody tr th {\n",
       "        vertical-align: top;\n",
       "    }\n",
       "\n",
       "    .dataframe thead th {\n",
       "        text-align: right;\n",
       "    }\n",
       "</style>\n",
       "<table border=\"1\" class=\"dataframe\">\n",
       "  <thead>\n",
       "    <tr style=\"text-align: right;\">\n",
       "      <th></th>\n",
       "      <th>artist_spotify_id</th>\n",
       "      <th>id</th>\n",
       "      <th>related_artists</th>\n",
       "    </tr>\n",
       "  </thead>\n",
       "  <tbody>\n",
       "    <tr>\n",
       "      <th>0</th>\n",
       "      <td>4IuaUq1boR1KVcutaID4Zx</td>\n",
       "      <td>1</td>\n",
       "      <td>[5uCktjKM1Rf9VnUvFD6j17, 5FAjeD9eW52qvpik9OsnV...</td>\n",
       "    </tr>\n",
       "    <tr>\n",
       "      <th>1</th>\n",
       "      <td>2UwJRAgSOi1zcLkvUNc8XL</td>\n",
       "      <td>2</td>\n",
       "      <td>[3j24yoSFDD11h1OszJFfVY, 2OgP0RGmDrXN9kOWRNfEu...</td>\n",
       "    </tr>\n",
       "    <tr>\n",
       "      <th>2</th>\n",
       "      <td>4BrtGOYp8sytG9MV91DROT</td>\n",
       "      <td>3</td>\n",
       "      <td>[0UM3yh4PeDSWa9cnHJ0jgW, 0q0K0FV5t8OnVpbIQTXOh...</td>\n",
       "    </tr>\n",
       "    <tr>\n",
       "      <th>3</th>\n",
       "      <td>1xU878Z1QtBldR7ru9owdU</td>\n",
       "      <td>4</td>\n",
       "      <td>[7gjAu1qr5C2grXeQFFOGeh, 1qcU8NabUQ5efQf8UGW6C...</td>\n",
       "    </tr>\n",
       "    <tr>\n",
       "      <th>4</th>\n",
       "      <td>2Ub06wAIR1hERODcCkKhzx</td>\n",
       "      <td>5</td>\n",
       "      <td>[3QpNnKSjUIIMwFei8h3eOj, 04Y5zXsFqYRzDr6tMXj6a...</td>\n",
       "    </tr>\n",
       "  </tbody>\n",
       "</table>\n",
       "</div>"
      ]
     },
     "metadata": {},
     "execution_count": 16
    }
   ],
   "metadata": {
    "colab": {
     "base_uri": "https://localhost:8080/",
     "height": 206
    },
    "id": "J0MWj6ok0gw3",
    "outputId": "febaabc9-46dd-4b0e-ae4b-df55c51398a3"
   }
  },
  {
   "cell_type": "code",
   "execution_count": 17,
   "source": [
    "import networkx as nx\n",
    "graph = nx.Graph()\n",
    "\n",
    "all_related_artists = related_artists_raw[:100_000]\n",
    "\n",
    "graph.add_nodes_from(all_related_artists['id'])"
   ],
   "outputs": [],
   "metadata": {
    "id": "vuPq8Gqc07qn"
   }
  },
  {
   "cell_type": "code",
   "execution_count": 18,
   "source": [
    "for (artist_spotify_id, id, related_artists) in all_related_artists.itertuples(index=False):\n",
    "  for related_artist_spotify_id in related_artists:\n",
    "    related_artist_id = ids_by_spotify_id.get(related_artist_spotify_id)\n",
    "    if related_artist_id is None:\n",
    "      continue\n",
    "\n",
    "    graph.add_edge(id, related_artist_id)\n",
    "    graph.add_edge(related_artist_id, id)"
   ],
   "outputs": [],
   "metadata": {
    "id": "NjyS-uSG1kA7"
   }
  },
  {
   "cell_type": "code",
   "execution_count": 19,
   "source": [
    "from node2vec import Node2Vec\n",
    "\n",
    "node2vec = Node2Vec(graph, dimensions=3, walk_length=40, num_walks=15, workers=14)"
   ],
   "outputs": [
    {
     "output_type": "display_data",
     "data": {
      "text/plain": [
       "Computing transition probabilities:   0%|          | 0/354245 [00:00<?, ?it/s]"
      ],
      "application/vnd.jupyter.widget-view+json": {
       "version_major": 2,
       "version_minor": 0,
       "model_id": "c9eaaf2b42af418586c9ef92e7f2befd"
      }
     },
     "metadata": {}
    },
    {
     "output_type": "stream",
     "name": "stderr",
     "text": [
      "Generating walks (CPU: 6):   0%|          | 0/1 [00:00<?, ?it/s]/opt/conda/lib/python3.9/site-packages/joblib/externals/loky/process_executor.py:688: UserWarning: A worker stopped while some jobs were given to the executor. This can be caused by a too short worker timeout or by a memory leak.\n",
      "  warnings.warn(\n",
      "Generating walks (CPU: 2): 100%|██████████| 1/1 [06:27<00:00, 387.32s/it]\n",
      "Generating walks (CPU: 3): 100%|██████████| 1/1 [06:37<00:00, 397.52s/it]\n",
      "Generating walks (CPU: 4): 100%|██████████| 1/1 [06:54<00:00, 414.49s/it]\n",
      "Generating walks (CPU: 5): 100%|██████████| 1/1 [06:51<00:00, 411.18s/it]\n",
      "Generating walks (CPU: 6): 100%|██████████| 1/1 [07:33<00:00, 453.04s/it]\n",
      "Generating walks (CPU: 7): 100%|██████████| 1/1 [07:22<00:00, 442.08s/it]\n",
      "Generating walks (CPU: 8): 100%|██████████| 1/1 [07:21<00:00, 441.79s/it]\n",
      "Generating walks (CPU: 1): 100%|██████████| 2/2 [13:25<00:00, 402.82s/it]\n",
      "Generating walks (CPU: 9): 100%|██████████| 1/1 [07:19<00:00, 439.16s/it]\n",
      "Generating walks (CPU: 10): 100%|██████████| 1/1 [07:05<00:00, 425.89s/it]\n",
      "Generating walks (CPU: 11): 100%|██████████| 1/1 [06:41<00:00, 401.68s/it]\n",
      "Generating walks (CPU: 12): 100%|██████████| 1/1 [06:30<00:00, 390.92s/it]\n",
      "Generating walks (CPU: 13): 100%|██████████| 1/1 [06:20<00:00, 380.76s/it]\n",
      "Generating walks (CPU: 14): 100%|██████████| 1/1 [05:57<00:00, 357.31s/it]\n"
     ]
    }
   ],
   "metadata": {
    "colab": {
     "base_uri": "https://localhost:8080/",
     "height": 84,
     "referenced_widgets": [
      "9cf7f63e93e24206a1e16c2b2983472a",
      "9e98c2f82aa442bb98cf69a447abf919",
      "e4aa12d543ac445fbfffe5c20bc1c415",
      "73376e9595194b5a84336d54d7fdb89a",
      "806334824d95428bb72fc063561a2cef",
      "0cc83a7ac3c04c08ace4b30f730a08c5",
      "be88f77765d343e4a3f973deac58cf67",
      "019309acd77c42d1b037a2d58bb44b67"
     ]
    },
    "id": "uilV5IaZ2CGX",
    "outputId": "0f564aed-efe5-4770-9bc9-f9770523e5f4"
   }
  },
  {
   "cell_type": "code",
   "execution_count": 20,
   "source": [
    "model = node2vec.fit(window=10, min_count=1, workers=14, hs=0, negative=10)"
   ],
   "outputs": [],
   "metadata": {
    "id": "uSAdIoqf2nuh"
   }
  },
  {
   "cell_type": "code",
   "execution_count": 25,
   "source": [
    "model.wv.get_vector('50')"
   ],
   "outputs": [
    {
     "output_type": "execute_result",
     "data": {
      "text/plain": [
       "array([ 1.353515 ,  0.9039356, -2.7190468], dtype=float32)"
      ]
     },
     "metadata": {},
     "execution_count": 25
    }
   ],
   "metadata": {
    "colab": {
     "base_uri": "https://localhost:8080/"
    },
    "id": "ByF5YG4HAdaZ",
    "outputId": "3e0b1248-adc2-48e3-d493-64e1a2aa9cc3"
   }
  },
  {
   "cell_type": "code",
   "execution_count": 26,
   "source": [
    "model.wv.n_similarity(['50'], ['4'])"
   ],
   "outputs": [
    {
     "output_type": "execute_result",
     "data": {
      "text/plain": [
       "0.79200864"
      ]
     },
     "metadata": {},
     "execution_count": 26
    }
   ],
   "metadata": {
    "colab": {
     "base_uri": "https://localhost:8080/"
    },
    "id": "mksc5e0hAlJM",
    "outputId": "c58645c8-5bf4-4711-bc2f-a83d8112797f"
   }
  },
  {
   "cell_type": "code",
   "execution_count": 27,
   "source": [
    "tv_room_id = str(ids_by_spotify_id['0EFfq11AFfQOjJ0PvAvvSW'])\n",
    "sleigh_bells_id = str(ids_by_spotify_id['59pWgeY26Q6yJy37QvJflh'])\n",
    "red_velvet_id = str(ids_by_spotify_id['1z4g3DjTBBZKhvAroFlhOM'])\n",
    "siinamota_id = str(ids_by_spotify_id['4qfQTMwNNuBKJ4rF9Lo4bD'])\n",
    "current_value_id = str(ids_by_spotify_id['6B9SjvZNSQZkeJDH17oBSO'])\n",
    "shiiit_id = str(ids_by_spotify_id['0RfocEzLe78RexLTeU1K2p'])\n",
    "skrillex_id = str(ids_by_spotify_id['5he5w2lnU9x7JFhnwcekXX'])\n",
    "kobaryo_id = str(ids_by_spotify_id['1Y81Ch90opScfpMfN17lZb'])\n",
    "loona_id = str(ids_by_spotify_id['52zMTJCKluDlFwMQWmccY7'])\n",
    "skylar_spence_id = str(ids_by_spotify_id['0x0u0jCVf5Jf4DNh45XPXL'])\n",
    "taylor_swift_id = str(ids_by_spotify_id['06HL4z0CvFAxyc27GXpf02'])\n",
    "freddie_dredd_id = str(ids_by_spotify_id['0dlDsD7y6ccmDm8tuWCU6F'])\n",
    "g_herbo_id = str(ids_by_spotify_id['5QdEbQJ3ylBnc3gsIASAT5'])\n",
    "fox_stevenson_id = str(ids_by_spotify_id['2BQWHuvxG4kMYnfghdaCIy'])\n",
    "lorde_id = str(ids_by_spotify_id['163tK9Wjr9P9DmM0AVK7lm'])\n",
    "neon_indian_id = str(ids_by_spotify_id['0KydPQPUUoTNhmiHKOg5Er'])\n",
    "quok_id = str(ids_by_spotify_id['1hjJ4bsbNMmbIih3d9Pq1H'])\n",
    "strfkr_id = str(ids_by_spotify_id['2Tz1DTzVJ5Gyh8ZwVr6ekU'])\n",
    "beatles_id = str(ids_by_spotify_id['3WrFJ7ztbogyGnTHbHJFl2'])\n",
    "drake_id = str(ids_by_spotify_id['3TVXtAsR1Inumwj472S9r4'])\n",
    "anamanaguchi_id = str(ids_by_spotify_id['2UwJRAgSOi1zcLkvUNc8XL'])\n",
    "ed_sheeran_id = str(ids_by_spotify_id['6eUKZXaKkcviH0Ku9w2n3V'])\n",
    "frank_sinatra_id = str(ids_by_spotify_id['1Mxqyy3pSjf8kZZL4QVxS0'])\n",
    "tame_impala_id = str(ids_by_spotify_id['5INjqkS1o8h1imAzPqGZBb'])\n",
    "queen_id = str(ids_by_spotify_id['1dfeR4HaWDbWqFHLkxsg1d'])\n",
    "ngutp_id = str(ids_by_spotify_id['0j5kVHxvTgUN4nBIPKCLRJ'])\n",
    "infected_mushroom_id = str(ids_by_spotify_id['6S2tas4z6DyIklBajDqJxI'])\n",
    "dither_id = str(ids_by_spotify_id['2CTPZndAY5BwdgHk8AX0B7'])\n",
    "john_williams_id = str(ids_by_spotify_id['3dRfiJ2650SZu6GbydcHNb'])\n",
    "dababy_id = str(ids_by_spotify_id['4r63FhuTkUYltbVAg5TQnk'])\n",
    "blackbear_id = str(ids_by_spotify_id['2cFrymmkijnjDg9SS92EPM'])\n",
    "chon_id = str(ids_by_spotify_id['2JFljHPanIjYy2QqfNYvC0'])\n",
    "deco_id = str(ids_by_spotify_id['7kZTWx6cRLc0TSRPq1XBMP'])\n",
    "dareharu_id = str(ids_by_spotify_id['4mcnvjLyW44CoKXDkUjPzh'])\n",
    "kupla_id = str(ids_by_spotify_id['7daSp9zXk1dmqNxwKFkL35'])\n",
    "pinnocchiop_id = str(ids_by_spotify_id['3b7jPCedJ2VH4l4rcOTvNC'])\n",
    "sugar_and_co_id = str(ids_by_spotify_id['4RCVsWUvlaucR1HTy8Tk7a'])\n",
    "\n",
    "(tv_room_id, sleigh_bells_id, red_velvet_id, siinamota_id, current_value_id, shiiit_id, skrillex_id, kobaryo_id, loona_id)"
   ],
   "outputs": [
    {
     "output_type": "execute_result",
     "data": {
      "text/plain": [
       "('912', '65', '643', '7801598', '57179651', '9318669', '248', '1339641', '515')"
      ]
     },
     "metadata": {},
     "execution_count": 27
    }
   ],
   "metadata": {}
  },
  {
   "cell_type": "code",
   "execution_count": 29,
   "source": [
    "a = quok_id\n",
    "b = dareharu_id\n",
    "diff = model.wv.get_vector(a) + model.wv.get_vector(b)*0.3\n",
    "diff \n",
    "\n",
    "closest = model.wv.similar_by_vector(diff)\n",
    "\n",
    "def compute_res(close):\n",
    "    a_dist = model.wv.distance(close, a)\n",
    "    b_dist = model.wv.distance(close, b)\n",
    "\n",
    "    return {'spotify_id': spotify_ids_by_id[int(close)],\n",
    "            'a_dist': a_dist,\n",
    "            'b_dist': b_dist,\n",
    "            'abs_dst_diff': abs(a_dist - b_dist)\n",
    "           }\n",
    "\n",
    "print(\"distance: \", model.wv.distance(a, b))\n",
    "\n",
    "[compute_res(close[0]) for close in closest]"
   ],
   "outputs": [
    {
     "output_type": "stream",
     "name": "stdout",
     "text": [
      "distance:  1.0152859389781952\n"
     ]
    },
    {
     "output_type": "execute_result",
     "data": {
      "text/plain": [
       "[{'spotify_id': '6ReMNCOSnarYESHJpHbe7m',\n",
       "  'a_dist': 0.3004125952720642,\n",
       "  'b_dist': 0.2962321639060974,\n",
       "  'abs_dst_diff': 0.004180431365966797},\n",
       " {'spotify_id': '2gzcB4vMIStEDZiQlvywGm',\n",
       "  'a_dist': 0.2930290699005127,\n",
       "  'b_dist': 0.30364739894866943,\n",
       "  'abs_dst_diff': 0.010618329048156738},\n",
       " {'spotify_id': '27YmfBn7iiVbJulvIm03nQ',\n",
       "  'a_dist': 0.2927485704421997,\n",
       "  'b_dist': 0.30393218994140625,\n",
       "  'abs_dst_diff': 0.011183619499206543},\n",
       " {'spotify_id': '1d1O2KbOZhJWMEDgr0yXaC',\n",
       "  'a_dist': 0.30284202098846436,\n",
       "  'b_dist': 0.29383349418640137,\n",
       "  'abs_dst_diff': 0.009008526802062988},\n",
       " {'spotify_id': '5URaqWGLWi0maxmjctj8I0',\n",
       "  'a_dist': 0.29629331827163696,\n",
       "  'b_dist': 0.30039137601852417,\n",
       "  'abs_dst_diff': 0.004098057746887207},\n",
       " {'spotify_id': '4c1JXtOtdiAGTdA5zGfjc2',\n",
       "  'a_dist': 0.2939690947532654,\n",
       "  'b_dist': 0.30273741483688354,\n",
       "  'abs_dst_diff': 0.008768320083618164},\n",
       " {'spotify_id': '7mKZJ0SITREZQovQF6Qeb4',\n",
       "  'a_dist': 0.29810261726379395,\n",
       "  'b_dist': 0.2986191511154175,\n",
       "  'abs_dst_diff': 0.0005165338516235352},\n",
       " {'spotify_id': '5FnpXrrMdJVZCK54oHWqUa',\n",
       "  'a_dist': 0.29013490676879883,\n",
       "  'b_dist': 0.30660301446914673,\n",
       "  'abs_dst_diff': 0.0164681077003479},\n",
       " {'spotify_id': '2ua84wZG4qxXZk4HhIUhCk',\n",
       "  'a_dist': 0.28881895542144775,\n",
       "  'b_dist': 0.3079458475112915,\n",
       "  'abs_dst_diff': 0.01912689208984375},\n",
       " {'spotify_id': '6WIPJoOiqLnvaMzP6EBVpc',\n",
       "  'a_dist': 0.29167306423187256,\n",
       "  'b_dist': 0.30508941411972046,\n",
       "  'abs_dst_diff': 0.0134163498878479}]"
      ]
     },
     "metadata": {},
     "execution_count": 29
    }
   ],
   "metadata": {}
  },
  {
   "cell_type": "code",
   "execution_count": 30,
   "source": [
    "furthest = model.wv.similar_by_vector(-model.wv.get_vector(drake_id))\n",
    "[compute_res(far[0]) for far in furthest]"
   ],
   "outputs": [
    {
     "output_type": "execute_result",
     "data": {
      "text/plain": [
       "[{'spotify_id': '5hTeASXqJCdxbg5Ow1ZS6H',\n",
       "  'a_dist': 1.667548954486847,\n",
       "  'b_dist': 1.3572876155376434,\n",
       "  'abs_dst_diff': 0.3102613389492035},\n",
       " {'spotify_id': '601KLl5xZbrE3tcfUP39lZ',\n",
       "  'a_dist': 1.6710955500602722,\n",
       "  'b_dist': 1.3869051933288574,\n",
       "  'abs_dst_diff': 0.2841903567314148},\n",
       " {'spotify_id': '4UKPMYDWKr8KsQLibePkc5',\n",
       "  'a_dist': 1.6844033002853394,\n",
       "  'b_dist': 1.3865554928779602,\n",
       "  'abs_dst_diff': 0.29784780740737915},\n",
       " {'spotify_id': '6U5rJoNT74QPyHfnu7Ho1I',\n",
       "  'a_dist': 1.6305699348449707,\n",
       "  'b_dist': 1.417829304933548,\n",
       "  'abs_dst_diff': 0.21274062991142273},\n",
       " {'spotify_id': '5MzBifGDrfNPrR0y7q1k9D',\n",
       "  'a_dist': 1.7151669263839722,\n",
       "  'b_dist': 1.36569544672966,\n",
       "  'abs_dst_diff': 0.34947147965431213},\n",
       " {'spotify_id': '1i1I7TZwUhyMaM6xN7Q1PG',\n",
       "  'a_dist': 1.6689512729644775,\n",
       "  'b_dist': 1.2691713869571686,\n",
       "  'abs_dst_diff': 0.39977988600730896},\n",
       " {'spotify_id': '2k9u6sq9kF1Oxn8NwdPWdL',\n",
       "  'a_dist': 1.7236366271972656,\n",
       "  'b_dist': 1.288521647453308,\n",
       "  'abs_dst_diff': 0.4351149797439575},\n",
       " {'spotify_id': '682hKgXYUdwCoDm64AVU4Q',\n",
       "  'a_dist': 1.6287232637405396,\n",
       "  'b_dist': 1.2774229049682617,\n",
       "  'abs_dst_diff': 0.35130035877227783},\n",
       " {'spotify_id': '0u36RG3NcEXN5ucUXwXVzY',\n",
       "  'a_dist': 1.6821467876434326,\n",
       "  'b_dist': 1.2471746802330017,\n",
       "  'abs_dst_diff': 0.4349721074104309},\n",
       " {'spotify_id': '6juBqX2r6NUMUr3NrLBoW0',\n",
       "  'a_dist': 1.5549004077911377,\n",
       "  'b_dist': 1.3713764548301697,\n",
       "  'abs_dst_diff': 0.18352395296096802}]"
      ]
     },
     "metadata": {},
     "execution_count": 30
    }
   ],
   "metadata": {}
  },
  {
   "cell_type": "code",
   "execution_count": 31,
   "source": [
    "spotify_ids_by_id[int(furthest[0][0])]\n",
    "# all_related_artists\n",
    "# spotify_ids_by_id[red_velvet_id]"
   ],
   "outputs": [
    {
     "output_type": "execute_result",
     "data": {
      "text/plain": [
       "'5hTeASXqJCdxbg5Ow1ZS6H'"
      ]
     },
     "metadata": {},
     "execution_count": 31
    }
   ],
   "metadata": {}
  },
  {
   "cell_type": "code",
   "execution_count": 32,
   "source": [
    "def get_most_similar_to_both(id_a, id_b):\n",
    "    best_distance = 1000000\n",
    "    best_id = None\n",
    "    middle = model.wv.get_vector(id_a) + model.wv.get_vector(id_b)\n",
    "    for id in all_related_artists['id']:\n",
    "        id = str(id)\n",
    "        if id == id_a or id == id_b:\n",
    "            continue\n",
    "        a_dst = model.wv.distance(id_a, id)\n",
    "        b_dst = model.wv.distance(id_b, id)\n",
    "        cost = (a_dst**2 + b_dst**2)\n",
    "        dist_diff = abs(a_dst - b_dst)\n",
    "        distance = model.wv.distances(middle, [id])[0]\n",
    "        if distance < best_distance:\n",
    "            best_distance = distance\n",
    "            best_id = id\n",
    "        \n",
    "    return best_id"
   ],
   "outputs": [],
   "metadata": {}
  },
  {
   "cell_type": "code",
   "execution_count": 33,
   "source": [
    "get_most_similar_to_both(loona_id, skylar_spence_id)"
   ],
   "outputs": [
    {
     "output_type": "execute_result",
     "data": {
      "text/plain": [
       "'108305'"
      ]
     },
     "metadata": {},
     "execution_count": 33
    }
   ],
   "metadata": {}
  },
  {
   "cell_type": "code",
   "execution_count": 34,
   "source": [
    "spotify_ids_by_id[68670620]"
   ],
   "outputs": [
    {
     "output_type": "execute_result",
     "data": {
      "text/plain": [
       "'1vpHPL6nejNAg9GXYrJ5ck'"
      ]
     },
     "metadata": {},
     "execution_count": 34
    }
   ],
   "metadata": {}
  },
  {
   "cell_type": "code",
   "execution_count": 35,
   "source": [
    "model.wv.distance('68670620', loona_id)"
   ],
   "outputs": [
    {
     "output_type": "execute_result",
     "data": {
      "text/plain": [
       "0.00509190559387207"
      ]
     },
     "metadata": {},
     "execution_count": 35
    }
   ],
   "metadata": {}
  },
  {
   "cell_type": "code",
   "execution_count": 36,
   "source": [
    "model.wv.distance('68670620', skylar_spence_id)"
   ],
   "outputs": [
    {
     "output_type": "execute_result",
     "data": {
      "text/plain": [
       "0.7759359031915665"
      ]
     },
     "metadata": {},
     "execution_count": 36
    }
   ],
   "metadata": {}
  },
  {
   "cell_type": "code",
   "execution_count": 37,
   "source": [
    "model.wv.save_word2vec_format(\"50k_corpus_3_dims_new_params.w2v\", \"50k_corpus_3_dims_new_params.vocab\")"
   ],
   "outputs": [],
   "metadata": {}
  },
  {
   "cell_type": "code",
   "execution_count": 38,
   "source": [
    "# (model.wv.get_vector(dareharu_id) ,model.wv.get_vector(deco_id))\n",
    "\n",
    "def get_val_for_dim(id, dim_ix):\n",
    "    id = str(id)\n",
    "    vec = model.wv.get_vector(id)\n",
    "    return vec[dim_ix]\n",
    "\n",
    "def get_extremes_for_dim(dim_ix, buckets, count):\n",
    "    vals = [(spotify_ids_by_id[id], get_val_for_dim(id, dim_ix)) for id in all_related_artists['id']]\n",
    "    \n",
    "    vals.sort(key = lambda x: x[1])\n",
    "    partials_count = buckets - 2\n",
    "    partial_stride = int(len(vals) / partials_count)\n",
    "    \n",
    "    out = []\n",
    "    out.append(vals[:count])\n",
    "    \n",
    "    for partial_ix in range(1, partials_count):\n",
    "        middle = partial_ix * partial_stride\n",
    "        out.append(vals[(middle - int(count / 2)):(middle + int(count / 2))])\n",
    "    \n",
    "    out.append(vals[-count:])\n",
    "            \n",
    "    return out"
   ],
   "outputs": [],
   "metadata": {}
  },
  {
   "cell_type": "code",
   "execution_count": 39,
   "source": [
    "get_extremes_for_dim(0, 20, 4)"
   ],
   "outputs": [
    {
     "output_type": "execute_result",
     "data": {
      "text/plain": [
       "[[('2ovJLSejirvJybNers2YG6', -12.486315),\n",
       "  ('50BzmPPHNTQjeLW5JvrZJs', -12.470005),\n",
       "  ('62ABL5pqowZJin1fkheWo7', -12.30272),\n",
       "  ('4z6dlDfmoZstfKLVC60nM0', -12.292496)],\n",
       " [('2tR9SGGAyNGg8A3GBoOFbP', -9.395903),\n",
       "  ('1OY65G9NJJHsSt1lGLZU6q', -9.395884),\n",
       "  ('3zrnHI8M8fvS6VmPF8behc', -9.395685),\n",
       "  ('3AGrDAZx8XN9LhuVxwVN26', -9.3956375)],\n",
       " [('30TUV9gTBJ8ffWRMe3O2J0', -7.9888005),\n",
       "  ('3lSs59gV3uuobbJ6uOtizq', -7.9886775),\n",
       "  ('6nu39YK7u99qv6JdygWuxG', -7.9886584),\n",
       "  ('6uqOd0qw9avpT0vCyCZ4DX', -7.9876323)],\n",
       " [('13BVQ7HFExOqU7IIGLj5zz', -6.969541),\n",
       "  ('566KzI0kXa1dQ3em27iQtr', -6.969527),\n",
       "  ('5RnsHSCPrlCxP9A1NTT7jS', -6.968781),\n",
       "  ('37bsUoMW0Hbqj1l0MxDkDw', -6.9682755)],\n",
       " [('3DDcmHnwKjM4sQ8qm34JMU', -5.623506),\n",
       "  ('3PS5OcUQlmA1epxoBau3YI', -5.6231227),\n",
       "  ('5eRKMbpTG8cIUdfomXcJ80', -5.622978),\n",
       "  ('3VNITwohbvU5Wuy5PC6dsI', -5.6226377)],\n",
       " [('0EziqO4Mehje1x6hA1Fg2m', -4.0594497),\n",
       "  ('6nnspeopmJAG07xOxHmqTu', -4.0592394),\n",
       "  ('68Uwx1d3EbjDJhYsLjqvIq', -4.059202),\n",
       "  ('08GQAI4eElDnROBrJRGE0X', -4.0591693)],\n",
       " [('1Db5GsIoVWYktPoD2nnPZZ', -2.783571),\n",
       "  ('7oaQcTqp6TnWoCjNZRitki', -2.783267),\n",
       "  ('2YjZP3rHnFiJNTw6ZkCJkl', -2.7828648),\n",
       "  ('7fmsT5hyByIpjzMfgrhTM2', -2.7828565)],\n",
       " [('1YghQU3PwfnDu94PRfE4pv', -1.6729314),\n",
       "  ('2GLnl4GIZIjqAcOA59LgBs', -1.6728997),\n",
       "  ('33U1cMFOIyDv5fOfPn3U9a', -1.6727728),\n",
       "  ('6p8wVHDOljhtAZQWAwIHN8', -1.672662)],\n",
       " [('3LC8PXXgk7YtAIobtjSdNi', -0.9220733),\n",
       "  ('7ctsal9ytPepDm9G4zLEe2', -0.921718),\n",
       "  ('6gDJZtsAqxz40PoM9ecVAj', -0.92166126),\n",
       "  ('2cyaobEho8uxhqLxwG7j6i', -0.9216186)],\n",
       " [('1LyIzaKPng1lxNmkDXaryI', -0.38226873),\n",
       "  ('2oNZUW4sR0AGXRyPExtFnW', -0.38221857),\n",
       "  ('7LgMETw5wUxCOnKwxkN3l6', -0.38220933),\n",
       "  ('6NZ4NDGpMT4p82PCJh57Ec', -0.38210952)],\n",
       " [('0vntgse6gPZfthoW8kTTlR', -0.030594088),\n",
       "  ('6OIOZX6Z9rT2t43sc9euey', -0.030581871),\n",
       "  ('32bYdgHBO0OEy2tCQQpWAX', -0.030423373),\n",
       "  ('42qROpmrVb8V0UXYJ5WJxB', -0.030354658)],\n",
       " [('63vMehdxxRWq9HBZHskapk', 0.41216847),\n",
       "  ('3BYXi96LqI8TwNljFKE0DZ', 0.41223904),\n",
       "  ('3y9hQYlwNKqhdybIJTFzTr', 0.41224322),\n",
       "  ('25BObiRSDCMwVrBGIVaLIf', 0.41226256)],\n",
       " [('69LsPQEcmyMBXbdMKWT6Yq', 0.9165521),\n",
       "  ('4ULIhLE7QOtxj1MVzJf1D1', 0.9165958),\n",
       "  ('2co7DOgwGD4k687xzJRl7T', 0.91674244),\n",
       "  ('16NdOHGyaRuFv1365u0XEf', 0.9168507)],\n",
       " [('4cqJ9qrx5RcNpDjDKF7Wmp', 1.6466616),\n",
       "  ('678aHai0twQ5ZJcqO1KYWl', 1.647007),\n",
       "  ('4PM7uuFnzArhW3FNNBeMXA', 1.6470567),\n",
       "  ('1OWJnRtwSNjKd2Fk77inxN', 1.647113)],\n",
       " [('0yp6xP5xe1qarfugfTixOK', 2.530884),\n",
       "  ('0ksNNF08VvPbHDXN06mrYa', 2.531411),\n",
       "  ('7J9XYbeEju3T584uksOGa8', 2.5315468),\n",
       "  ('6uJ51uV5rYzu1MJkC4CceI', 2.531723)],\n",
       " [('0ntzbBdKbiyPx06Xscs9UI', 3.323309),\n",
       "  ('0aF4uopelh675gJDvtpCnU', 3.3233523),\n",
       "  ('0dZtTwj66FiV3rIzmXNhKP', 3.323355),\n",
       "  ('1TkIGRBCuoAcMLoJ8LoHrF', 3.3233702)],\n",
       " [('1oqH688lBsnmVxMXvjZoU6', 4.0082374),\n",
       "  ('1i9NxPRrKcoW34XTMnvzJy', 4.0082636),\n",
       "  ('7kOnKv7CHaq24tNAa2moIZ', 4.008337),\n",
       "  ('4R0EwsTKt1LIFcdezmuezM', 4.0083947)],\n",
       " [('1FY8kqUQKHwjibwLbp5cey', 4.7007737),\n",
       "  ('6ddqZNX6Gi1xMfhanx1YPg', 4.7009),\n",
       "  ('6fllSzvyC7OruOFZisOELq', 4.700941),\n",
       "  ('5sOgzfg5XUnrFXoAeHGzyq', 4.701002)],\n",
       " [('3cOY6XMFQ12Q0D6Xif7BZh', 6.2428455),\n",
       "  ('2u6bGmRfORH1y0WS9qY0Ht', 6.244888),\n",
       "  ('3kwdB3aUfg0uneHczX2vTG', 6.2613926),\n",
       "  ('0HIKqYB0w8b0I12mEVFmGv', 6.2637362)]]"
      ]
     },
     "metadata": {},
     "execution_count": 39
    }
   ],
   "metadata": {}
  }
 ],
 "metadata": {
  "colab": {
   "collapsed_sections": [],
   "name": "spotify_related_artists_embedding.ipynb",
   "provenance": []
  },
  "kernelspec": {
   "display_name": "Python 3 (ipykernel)",
   "language": "python",
   "name": "python3"
  },
  "widgets": {
   "application/vnd.jupyter.widget-state+json": {
    "019309acd77c42d1b037a2d58bb44b67": {
     "model_module": "@jupyter-widgets/base",
     "model_name": "LayoutModel",
     "state": {
      "_model_module": "@jupyter-widgets/base",
      "_model_module_version": "1.2.0",
      "_model_name": "LayoutModel",
      "_view_count": null,
      "_view_module": "@jupyter-widgets/base",
      "_view_module_version": "1.2.0",
      "_view_name": "LayoutView",
      "align_content": null,
      "align_items": null,
      "align_self": null,
      "border": null,
      "bottom": null,
      "display": null,
      "flex": null,
      "flex_flow": null,
      "grid_area": null,
      "grid_auto_columns": null,
      "grid_auto_flow": null,
      "grid_auto_rows": null,
      "grid_column": null,
      "grid_gap": null,
      "grid_row": null,
      "grid_template_areas": null,
      "grid_template_columns": null,
      "grid_template_rows": null,
      "height": null,
      "justify_content": null,
      "justify_items": null,
      "left": null,
      "margin": null,
      "max_height": null,
      "max_width": null,
      "min_height": null,
      "min_width": null,
      "object_fit": null,
      "object_position": null,
      "order": null,
      "overflow": null,
      "overflow_x": null,
      "overflow_y": null,
      "padding": null,
      "right": null,
      "top": null,
      "visibility": null,
      "width": null
     }
    },
    "0cc83a7ac3c04c08ace4b30f730a08c5": {
     "model_module": "@jupyter-widgets/base",
     "model_name": "LayoutModel",
     "state": {
      "_model_module": "@jupyter-widgets/base",
      "_model_module_version": "1.2.0",
      "_model_name": "LayoutModel",
      "_view_count": null,
      "_view_module": "@jupyter-widgets/base",
      "_view_module_version": "1.2.0",
      "_view_name": "LayoutView",
      "align_content": null,
      "align_items": null,
      "align_self": null,
      "border": null,
      "bottom": null,
      "display": null,
      "flex": null,
      "flex_flow": null,
      "grid_area": null,
      "grid_auto_columns": null,
      "grid_auto_flow": null,
      "grid_auto_rows": null,
      "grid_column": null,
      "grid_gap": null,
      "grid_row": null,
      "grid_template_areas": null,
      "grid_template_columns": null,
      "grid_template_rows": null,
      "height": null,
      "justify_content": null,
      "justify_items": null,
      "left": null,
      "margin": null,
      "max_height": null,
      "max_width": null,
      "min_height": null,
      "min_width": null,
      "object_fit": null,
      "object_position": null,
      "order": null,
      "overflow": null,
      "overflow_x": null,
      "overflow_y": null,
      "padding": null,
      "right": null,
      "top": null,
      "visibility": null,
      "width": null
     }
    },
    "73376e9595194b5a84336d54d7fdb89a": {
     "model_module": "@jupyter-widgets/controls",
     "model_name": "HTMLModel",
     "state": {
      "_dom_classes": [],
      "_model_module": "@jupyter-widgets/controls",
      "_model_module_version": "1.5.0",
      "_model_name": "HTMLModel",
      "_view_count": null,
      "_view_module": "@jupyter-widgets/controls",
      "_view_module_version": "1.5.0",
      "_view_name": "HTMLView",
      "description": "",
      "description_tooltip": null,
      "layout": "IPY_MODEL_019309acd77c42d1b037a2d58bb44b67",
      "placeholder": "​",
      "style": "IPY_MODEL_be88f77765d343e4a3f973deac58cf67",
      "value": " 4544/4544 [00:01&lt;00:00, 2356.98it/s]"
     }
    },
    "806334824d95428bb72fc063561a2cef": {
     "model_module": "@jupyter-widgets/controls",
     "model_name": "ProgressStyleModel",
     "state": {
      "_model_module": "@jupyter-widgets/controls",
      "_model_module_version": "1.5.0",
      "_model_name": "ProgressStyleModel",
      "_view_count": null,
      "_view_module": "@jupyter-widgets/base",
      "_view_module_version": "1.2.0",
      "_view_name": "StyleView",
      "bar_color": null,
      "description_width": "initial"
     }
    },
    "9cf7f63e93e24206a1e16c2b2983472a": {
     "model_module": "@jupyter-widgets/controls",
     "model_name": "HBoxModel",
     "state": {
      "_dom_classes": [],
      "_model_module": "@jupyter-widgets/controls",
      "_model_module_version": "1.5.0",
      "_model_name": "HBoxModel",
      "_view_count": null,
      "_view_module": "@jupyter-widgets/controls",
      "_view_module_version": "1.5.0",
      "_view_name": "HBoxView",
      "box_style": "",
      "children": [
       "IPY_MODEL_e4aa12d543ac445fbfffe5c20bc1c415",
       "IPY_MODEL_73376e9595194b5a84336d54d7fdb89a"
      ],
      "layout": "IPY_MODEL_9e98c2f82aa442bb98cf69a447abf919"
     }
    },
    "9e98c2f82aa442bb98cf69a447abf919": {
     "model_module": "@jupyter-widgets/base",
     "model_name": "LayoutModel",
     "state": {
      "_model_module": "@jupyter-widgets/base",
      "_model_module_version": "1.2.0",
      "_model_name": "LayoutModel",
      "_view_count": null,
      "_view_module": "@jupyter-widgets/base",
      "_view_module_version": "1.2.0",
      "_view_name": "LayoutView",
      "align_content": null,
      "align_items": null,
      "align_self": null,
      "border": null,
      "bottom": null,
      "display": null,
      "flex": null,
      "flex_flow": null,
      "grid_area": null,
      "grid_auto_columns": null,
      "grid_auto_flow": null,
      "grid_auto_rows": null,
      "grid_column": null,
      "grid_gap": null,
      "grid_row": null,
      "grid_template_areas": null,
      "grid_template_columns": null,
      "grid_template_rows": null,
      "height": null,
      "justify_content": null,
      "justify_items": null,
      "left": null,
      "margin": null,
      "max_height": null,
      "max_width": null,
      "min_height": null,
      "min_width": null,
      "object_fit": null,
      "object_position": null,
      "order": null,
      "overflow": null,
      "overflow_x": null,
      "overflow_y": null,
      "padding": null,
      "right": null,
      "top": null,
      "visibility": null,
      "width": null
     }
    },
    "be88f77765d343e4a3f973deac58cf67": {
     "model_module": "@jupyter-widgets/controls",
     "model_name": "DescriptionStyleModel",
     "state": {
      "_model_module": "@jupyter-widgets/controls",
      "_model_module_version": "1.5.0",
      "_model_name": "DescriptionStyleModel",
      "_view_count": null,
      "_view_module": "@jupyter-widgets/base",
      "_view_module_version": "1.2.0",
      "_view_name": "StyleView",
      "description_width": ""
     }
    },
    "e4aa12d543ac445fbfffe5c20bc1c415": {
     "model_module": "@jupyter-widgets/controls",
     "model_name": "FloatProgressModel",
     "state": {
      "_dom_classes": [],
      "_model_module": "@jupyter-widgets/controls",
      "_model_module_version": "1.5.0",
      "_model_name": "FloatProgressModel",
      "_view_count": null,
      "_view_module": "@jupyter-widgets/controls",
      "_view_module_version": "1.5.0",
      "_view_name": "ProgressView",
      "bar_style": "success",
      "description": "Computing transition probabilities: 100%",
      "description_tooltip": null,
      "layout": "IPY_MODEL_0cc83a7ac3c04c08ace4b30f730a08c5",
      "max": 4544,
      "min": 0,
      "orientation": "horizontal",
      "style": "IPY_MODEL_806334824d95428bb72fc063561a2cef",
      "value": 4544
     }
    }
   }
  },
  "language_info": {
   "name": "python",
   "version": "3.9.6",
   "mimetype": "text/x-python",
   "codemirror_mode": {
    "name": "ipython",
    "version": 3
   },
   "pygments_lexer": "ipython3",
   "nbconvert_exporter": "python",
   "file_extension": ".py"
  }
 },
 "nbformat": 4,
 "nbformat_minor": 1
}